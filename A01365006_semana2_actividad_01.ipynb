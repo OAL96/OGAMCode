{
  "nbformat": 4,
  "nbformat_minor": 0,
  "metadata": {
    "colab": {
      "provenance": []
    },
    "kernelspec": {
      "name": "python3",
      "display_name": "Python 3"
    },
    "language_info": {
      "name": "python"
    }
  },
  "cells": [
    {
      "cell_type": "markdown",
      "source": [
        "#**Maestría en Inteligencia Artificial Aplicada**\n",
        "##**Curso: Procesamiento de Lenguaje Natural (NLP)**\n",
        "###Tecnológico de Monterrey\n",
        "###Prof Luis Eduardo Falcón Morales\n",
        "\n",
        "## **Adtividad de la Semana 02**\n",
        "###**Introducción al procesamiento de texto.**"
      ],
      "metadata": {
        "id": "759SG4TyfbUn"
      }
    },
    {
      "cell_type": "markdown",
      "source": [
        "En esta actividad deberás utilizar los datos del siguiente archivo que se encuentra en Canvas:\n",
        "\n",
        "MNA_NLP_semana_02_Actividad_datos.txt\n",
        "\n",
        "El archivo contiene comentarios en inglés sobre servicios de comida de la página de Yelp: https://www.yelp.com/ .\n",
        "\n",
        "Son mil comentarios y forman parte del conjunto de datos que se encuentra en el Machine Learning Repository de la UCI, llamado \"Sentiment Labelled Sentences\": https://archive.ics.uci.edu/ml/datasets/Sentiment+Labelled+Sentences#\n"
      ],
      "metadata": {
        "id": "6ue1YAKx3XDo"
      }
    },
    {
      "cell_type": "markdown",
      "source": [
        "#**Parte 1. Cargamos los datos.**   "
      ],
      "metadata": {
        "id": "Zj-h4drXD-X9"
      }
    },
    {
      "cell_type": "markdown",
      "source": [
        "Cargar los datos del archivo indicado y obtener una lista de longitud de 1000 strings/comentarios.\n",
        "\n",
        "Por el momento solamente requerimos las bibliotecas de Numpy y re, para el manejo de los arreglos y de las expresiones regulares en Python.\n",
        "\n",
        "En particular, no necesitarás en esta actividad la biblioteca de Pandas.\n",
        "\n",
        "###**NOTA: En esta actividad no debes importar nada más, con estas dos bibliotecas será *suficiente*.**"
      ],
      "metadata": {
        "id": "BY6yifxscfrx"
      }
    },
    {
      "cell_type": "code",
      "source": [
        "import numpy as np    # importamos Numpy para el manejo de los arreglos.\n",
        "import re             # importamos re para el manejo de las expresiones regulares."
      ],
      "metadata": {
        "id": "OJ26dAfhdFnf"
      },
      "execution_count": 1,
      "outputs": []
    },
    {
      "cell_type": "code",
      "source": [
        "# Ejecuta las siguientes instrucciones para cargar la información del achivo dado:\n",
        "\n",
        "from google.colab import drive\n",
        "drive.mount('/content/drive')\n",
        "\n",
        "with open('/content/drive/MyDrive/Colab Notebooks/Procesamiento de Lenguaje Natural/Modulo 1. Corpus y Expresiones Regulares/Semana 2/Tarea/MNA_NLP_semana_02_Actividad_datos.txt',        # puedes actualizar la ruta a tu archivo, en dado caso.\n",
        "          mode='r',     # abrimos el archivo en modo lectura.\n",
        "          ) as f:\n",
        "    docs = f.readlines()    # separamos cada comentario por líneas\n",
        "\n",
        "f.close()  # ya que tenemos la información en la variable docs, cerramos el archivo"
      ],
      "metadata": {
        "id": "QHUmJyjDdGNP",
        "colab": {
          "base_uri": "https://localhost:8080/"
        },
        "outputId": "2c7c0d0e-9e2d-4118-c30e-e388994215aa"
      },
      "execution_count": 2,
      "outputs": [
        {
          "output_type": "stream",
          "name": "stdout",
          "text": [
            "Mounted at /content/drive\n"
          ]
        }
      ]
    },
    {
      "cell_type": "code",
      "source": [
        "type(docs) == list   # Verifica que tu variable \"docs\" es una lista"
      ],
      "metadata": {
        "id": "L6WzrSrodG-Y",
        "colab": {
          "base_uri": "https://localhost:8080/"
        },
        "outputId": "0634ee14-5781-4ac0-f17c-9f68b4c066d6"
      },
      "execution_count": 3,
      "outputs": [
        {
          "output_type": "execute_result",
          "data": {
            "text/plain": [
              "True"
            ]
          },
          "metadata": {},
          "execution_count": 3
        }
      ]
    },
    {
      "cell_type": "code",
      "source": [
        "len(docs)==1000  # verifica que la longitud de \"docs\" es de mil comentarios."
      ],
      "metadata": {
        "id": "QIK1u9WS2FtS",
        "colab": {
          "base_uri": "https://localhost:8080/"
        },
        "outputId": "39c510a5-5fb0-4b33-9dc5-ebdc9d3ae643"
      },
      "execution_count": 4,
      "outputs": [
        {
          "output_type": "execute_result",
          "data": {
            "text/plain": [
              "True"
            ]
          },
          "metadata": {},
          "execution_count": 4
        }
      ]
    },
    {
      "cell_type": "code",
      "source": [
        "docs[0:10]     # observa algunos de los primeros comentarios"
      ],
      "metadata": {
        "id": "9AMLIfQvJqNZ",
        "colab": {
          "base_uri": "https://localhost:8080/"
        },
        "outputId": "769fb7f4-2937-4b19-8994-831e087ade52"
      },
      "execution_count": 5,
      "outputs": [
        {
          "output_type": "execute_result",
          "data": {
            "text/plain": [
              "['Wow... Loved this place.\\n',\n",
              " 'Crust is not good.\\n',\n",
              " 'Not tasty and the texture was just nasty.\\n',\n",
              " 'Stopped by during the late May bank holiday off Rick Steve recommendation and loved it.\\n',\n",
              " 'The selection on the menu was great and so were the prices.\\n',\n",
              " 'Now I am getting angry and I want my damn pho.\\n',\n",
              " \"Honeslty it didn't taste THAT fresh.)\\n\",\n",
              " 'The potatoes were like rubber and you could tell they had been made up ahead of time being kept under a warmer.\\n',\n",
              " 'The fries were great too.\\n',\n",
              " 'A great touch.\\n']"
            ]
          },
          "metadata": {},
          "execution_count": 5
        }
      ]
    },
    {
      "cell_type": "markdown",
      "source": [
        "#**Parte 2: sección de preguntas (regex).**   \n"
      ],
      "metadata": {
        "id": "k_ewoagic5jc"
      }
    },
    {
      "cell_type": "markdown",
      "source": [
        "##**Instrucciones:**\n",
        "\n",
        "###**A continuación deberás contestar cada una de las preguntas que te piden usando expresiones regulares (regex).**\n",
        "\n",
        "###**Por el momento no hay restricción en cuanto al número de líneas de código que agregues, pero trata de incluir las mínimas posibles.**"
      ],
      "metadata": {
        "id": "X-eMJa3DFCIV"
      }
    },
    {
      "cell_type": "markdown",
      "source": [
        "*   **Pregunta 1.**\n",
        "\n",
        "Busca y elimina todos los saltos de línea '\\n' que se encuentran al final de cada comentario.\n",
        "\n",
        "Una vez finalizado, imprime los primeros 10 comentarios del resultado obtenido.\n"
      ],
      "metadata": {
        "id": "78nJMemzn5a5"
      }
    },
    {
      "cell_type": "code",
      "source": [
        "for i in docs:\n",
        "  i.strip('\\n')\n"
      ],
      "metadata": {
        "id": "PwbYYIuZn8pE"
      },
      "execution_count": 6,
      "outputs": []
    },
    {
      "cell_type": "code",
      "source": [
        "print(docs[0:10])"
      ],
      "metadata": {
        "id": "j-0qeh2Jn8l1",
        "colab": {
          "base_uri": "https://localhost:8080/"
        },
        "outputId": "001d50e1-c767-4896-bec4-ee837aa10688"
      },
      "execution_count": 7,
      "outputs": [
        {
          "output_type": "stream",
          "name": "stdout",
          "text": [
            "['Wow... Loved this place.\\n', 'Crust is not good.\\n', 'Not tasty and the texture was just nasty.\\n', 'Stopped by during the late May bank holiday off Rick Steve recommendation and loved it.\\n', 'The selection on the menu was great and so were the prices.\\n', 'Now I am getting angry and I want my damn pho.\\n', \"Honeslty it didn't taste THAT fresh.)\\n\", 'The potatoes were like rubber and you could tell they had been made up ahead of time being kept under a warmer.\\n', 'The fries were great too.\\n', 'A great touch.\\n']\n"
          ]
        }
      ]
    },
    {
      "cell_type": "markdown",
      "source": [
        "*   **Pregunta 2.**  \n",
        "\n",
        "Busca e imprime todas las palabras que terminan con dos o más signos de admiración seguidos, por ejemplo \"!!!\".\n",
        "\n",
        "Debes imprimir tanto la palabra como la totalidad de signos de admiración que le siguen.\n",
        "\n",
        "Indica cuántos resultados obtuviste.\n",
        "\n"
      ],
      "metadata": {
        "id": "VWeKQC93ctEo"
      }
    },
    {
      "cell_type": "code",
      "source": [
        "admiracion = []\n",
        "\n",
        "for i in docs:\n",
        "  admiracion.append(re.findall('\\w+(?:!+)', i))\n",
        "\n",
        "new_list = []\n",
        "for element in admiracion:\n",
        "  if isinstance(element, list):\n",
        "    new_list.extend(element)\n",
        "\n",
        "print(new_list)"
      ],
      "metadata": {
        "id": "0p3kMXfddICc",
        "colab": {
          "base_uri": "https://localhost:8080/"
        },
        "outputId": "6b64cfd7-2dd5-4929-db5d-bd0cd11d3f6c"
      },
      "execution_count": 52,
      "outputs": [
        {
          "output_type": "stream",
          "name": "stdout",
          "text": [
            "['mmmm!', 'Blah!', 'blow!', 'delight!', 'Firehouse!!!!!', 'good!', 'huge!', 'APPETIZERS!!!', 'Gringos!', 'it!', 'amazing!!!', 'for!', 'delicious!', 'AGAIN!', 'buffet!!!', 'lady!', 'again!', 'quickly!', 'go!', 'afternoon!', 'deal!', 'good!!', 'gross!', 'BITCHES!', 'excellent!', 'it!!!!', 'here!', 'cost!', 'DELICIOUS!!', 'lovers!', 'rudely!', 'food!', 'Pho!', 'serivce!', 'Tasty!', 'though!', 'see!', 'BARGAIN!', 'amazing!!', 'flavor!', 'boot!', 'ago!', 'world!', 'FLAVOR!', 'here!', 'Salads!', 'amazing!', 'did!', 'place!', 'check!', 'me!', 'good!', 'food!', 'house!', 'shawarrrrrrma!!!!!!', 'UNREAL!', 'yucky!!!', 'delicioso!', 'Tucson!', 'steak!!!!!', 'app!', 'terrible!', 'delicious!!!', 'delicious!', 'life!', 'it!', 'far!!', 'kiddos!', 'screwed!', 'stuffed!', 'website!', 'was!', 'complaints!', 'biscuits!!!', 'delicious!', 'winner!', 'too!', 'though!', 'it!', 'back!', 'decide!', 'delicious!', 'delicious!', 'service!', 'disappointed!', 'had!', 'also!', 'NOW!', 'tasty!', 'ever!', 'pizzas!', 'back!', 'place!', 'this!', 'here!', 'ESTABLISHMENT!', 'delicious!', 'time!', 'anyone!', 'delicious!', 'better!', 'dry!!', 'recommended!', 'NASTY!', 'ever!', 'Phoenix!', 'Philadelphia!', 'disappointed!', 'one!', 'visit!', 'disappointing!!!', 'baby!', 'good!', 'here!', 'Experience!', 'soon!', 'restaurant!', 'eggplant!', 'MGM!', 'great!', 'cheeseburger!', 'had!', 'back!', 'awesome!!', 'it!', 'terrible!', 'Up!!', 'dough!', 'service!', 'FLY!!!!!!!!', 'back!', 'rapidly!', 'FANTASTIC!', 'again!', 'eat!', 'stale!', 'here!!!', 'Stars!', 'amazing!', 'HAVE!', 'great!!!!!!!!!!!!!!', 'surprise!', 'place!', 'OVERPRICED!', 'packed!!', 'here!', 'since!', 'were!', 'otherwise!!', 'lot!', 'dude!', 'patron!', 'people!', 'amazing!!!!!!!!!!!!!!!!!!!', 'understand!', 'no!', 'disgusting!', 'one!', 'style!!', 'disappointed!!', 'disappointment!']\n"
          ]
        }
      ]
    },
    {
      "cell_type": "code",
      "source": [
        "quantity = len(new_list)\n",
        "\n",
        "print(f\"Se encontraron {quantity} palabras que terminan con dos o más signos de admiración seguidos\")"
      ],
      "metadata": {
        "id": "SPVM1MCWdH6Z",
        "colab": {
          "base_uri": "https://localhost:8080/"
        },
        "outputId": "2e4bbee2-6199-4451-c3a4-e50ce841dcdf"
      },
      "execution_count": 53,
      "outputs": [
        {
          "output_type": "stream",
          "name": "stdout",
          "text": [
            "Se encontraron 161 palabras que terminan con dos o más signos de admiración seguidos\n"
          ]
        }
      ]
    },
    {
      "cell_type": "markdown",
      "source": [
        "*   **Pregunta 3.**  \n",
        "\n",
        "Busca e imprime todas las palabras que están escritas totalmente en mayúsculas. Cada coincidencia debe ser una sola palabra.\n",
        "\n",
        "Indica cuántas palabras encontraste.\n",
        "\n"
      ],
      "metadata": {
        "id": "-s3okBqL96TT"
      }
    },
    {
      "cell_type": "code",
      "source": [
        "mayusculas = []\n",
        "\n",
        "for i in docs:\n",
        "  mayusculas.append(re.findall('\\w+(?:[A-Z])', i))\n",
        "\n",
        "new_list = []\n",
        "for element in mayusculas:\n",
        "  if isinstance(element, list):\n",
        "    new_list.extend(element)\n",
        "\n",
        "print(new_list)"
      ],
      "metadata": {
        "id": "yKHJkZKo_nW5",
        "colab": {
          "base_uri": "https://localhost:8080/"
        },
        "outputId": "fa79e1c0-1192-44ed-cecf-2aa0e1191568"
      },
      "execution_count": 54,
      "outputs": [
        {
          "output_type": "stream",
          "name": "stdout",
          "text": [
            "['THAT', 'APPETIZERS', 'WILL', 'NEVER', 'EVER', 'STEP', 'FORWARD', 'IN', 'IT', 'AGAIN', 'LOVED', 'AND', 'REAL', 'BITCHES', 'NYC', 'STALE', 'DELICIOUS', 'WORST', 'EXPERIENCE', 'EVER', 'ALL', 'BARGAIN', 'TV', 'NONE', 'FREEZING', 'AYCE', 'FLAVOR', 'NEVER', 'BBQ', 'UNREAL', 'OMG', 'BETTER', 'BLAND', 'RUDE', 'INCONSIDERATE', 'MANAGEMENT', 'WILL', 'NEVER', 'EVER', 'GO', 'BACK', 'AND', 'HAVE', 'TOLD', 'MANY', 'PEOPLE', 'WHAT', 'HAD', 'HAPPENED', 'TOTAL', 'WASTE', 'OF', 'TIME', 'FS', 'AZ', 'LOVED', 'CONCLUSION', 'BEST', 'GO', 'NOW', 'GC', 'AVOID', 'THIS', 'ESTABLISHMENT', 'AN', 'HOUR', 'NASTY', 'OMG', 'NO', 'BEST', 'THE', 'OWNERS', 'REALLY', 'REALLY', 'PERFECT', 'SCREAMS', 'LEGIT', 'MGM', 'BEST', 'FLY', 'FLY', 'FANTASTIC', 'GREAT', 'OK', 'WAY', 'MUST', 'HAVE', 'OK', 'OVERPRICED', 'BARE', 'HANDS', 'WEAK', 'SHOULD', 'RI', 'WAAAAAA', 'VERY', 'NOT']\n"
          ]
        }
      ]
    },
    {
      "cell_type": "code",
      "source": [
        "quantity = len(new_list)\n",
        "\n",
        "print(f\"Se encontraron {quantity} palabras que están escritas totalmente en mayúsculas\")"
      ],
      "metadata": {
        "id": "L3q08aq69sNn",
        "colab": {
          "base_uri": "https://localhost:8080/"
        },
        "outputId": "f00009d9-1b7a-4089-d100-6faf5d37efc5"
      },
      "execution_count": 55,
      "outputs": [
        {
          "output_type": "stream",
          "name": "stdout",
          "text": [
            "Se encontraron 97 palabras que están escritas totalmente en mayúsculas\n"
          ]
        }
      ]
    },
    {
      "cell_type": "markdown",
      "source": [
        "*   **Pregunta 4.**  \n",
        "\n",
        "Busca e imprime los comentarios en donde todos los caracteres alfabéticos (letras) están en mayúsculas.\n",
        "\n",
        "Cada coincidencia encontrada debe ser todo el comentario/enunciado.\n",
        "\n",
        "Indica cuántos resultados obtuviste.\n"
      ],
      "metadata": {
        "id": "GX8eYyDoMZma"
      }
    },
    {
      "cell_type": "code",
      "source": [
        "mayusculas = []\n",
        "\n",
        "for i in docs:\n",
        "  mayusculas.append(re.findall(r'^[^a-z]*[A-Z][^a-z]*$', i))\n",
        "\n",
        "new_list = []\n",
        "for element in mayusculas:\n",
        "  if isinstance(element, list):\n",
        "    new_list.extend(element)\n",
        "\n",
        "print(new_list)"
      ],
      "metadata": {
        "id": "K8VuZxvTMYj6",
        "colab": {
          "base_uri": "https://localhost:8080/"
        },
        "outputId": "c7a8bed6-3580-483b-c6d9-a359b3b8b035"
      },
      "execution_count": 57,
      "outputs": [
        {
          "output_type": "stream",
          "name": "stdout",
          "text": [
            "['DELICIOUS!!\\n', 'RUDE & INCONSIDERATE MANAGEMENT.\\n', 'WILL NEVER EVER GO BACK AND HAVE TOLD MANY PEOPLE WHAT HAD HAPPENED.\\n', 'TOTAL WASTE OF TIME.\\n', 'AVOID THIS ESTABLISHMENT!\\n']\n"
          ]
        }
      ]
    },
    {
      "cell_type": "code",
      "source": [
        "quantity = len(new_list)\n",
        "\n",
        "print(f\"Se encontraron {quantity} comentarios en donde todos los caracteres alfabéticos (letras) están en mayúsculas\")"
      ],
      "metadata": {
        "id": "PmKgX7sCMcDx",
        "colab": {
          "base_uri": "https://localhost:8080/"
        },
        "outputId": "c5fb43dd-d19c-4918-f6fa-a4e20eddf049"
      },
      "execution_count": 58,
      "outputs": [
        {
          "output_type": "stream",
          "name": "stdout",
          "text": [
            "Se encontraron 5 comentarios en donde todos los caracteres alfabéticos (letras) están en mayúsculas\n"
          ]
        }
      ]
    },
    {
      "cell_type": "markdown",
      "source": [
        "*   **Pregunta 5.**  \n",
        "\n",
        "Busca e imprime todas las palabras que tengan una vocal acentuada, del tipo á, é, í, ó, ú.\n",
        "\n",
        "Indica cuántos resultados obtuviste."
      ],
      "metadata": {
        "id": "a1i6qv7-McmU"
      }
    },
    {
      "cell_type": "code",
      "source": [
        "acentuadas = []\n",
        "\n",
        "for i in docs:\n",
        "  acentuadas.append(re.findall(r'\\b\\w*[á|é|í|ó|ú|Á|É|Í|Ó|Ú]\\w*\\b', i))\n",
        "\n",
        "\n",
        "new_list = []\n",
        "for element in acentuadas:\n",
        "  if isinstance(element, list):\n",
        "    new_list.extend(element)\n",
        "\n",
        "print(new_list)"
      ],
      "metadata": {
        "id": "nZZ5zKUOMeGD",
        "colab": {
          "base_uri": "https://localhost:8080/"
        },
        "outputId": "4f834747-1951-4e33-a357-967cf8da5fc9"
      },
      "execution_count": 60,
      "outputs": [
        {
          "output_type": "stream",
          "name": "stdout",
          "text": [
            "['fiancé', 'Café', 'puréed']\n"
          ]
        }
      ]
    },
    {
      "cell_type": "code",
      "source": [
        "quantity = len(new_list)\n",
        "\n",
        "print(f\"Se encontraron {quantity} palabras que tengan una vocal acentuada\")"
      ],
      "metadata": {
        "id": "l1mFvUEZMe8s",
        "colab": {
          "base_uri": "https://localhost:8080/"
        },
        "outputId": "91e69454-018d-4c5a-e835-a95351c7660a"
      },
      "execution_count": 61,
      "outputs": [
        {
          "output_type": "stream",
          "name": "stdout",
          "text": [
            "Se encontraron 3 palabras que tengan una vocal acentuada\n"
          ]
        }
      ]
    },
    {
      "cell_type": "markdown",
      "source": [
        "*   **Pregunta 6.**  \n",
        "\n",
        "Busca e imprime todas las cantidades numéricas monetarias, enteras o con decimales, que inician con el símbolo $\\$$.\n",
        "\n",
        "Indica cuántos resultados obtuviste."
      ],
      "metadata": {
        "id": "ZmPiAI82Mfb3"
      }
    },
    {
      "cell_type": "code",
      "source": [
        "monetarias = []\n",
        "\n",
        "for i in docs:\n",
        "  monetarias.append(re.findall(r'\\$\\w*\\S\\w*\\b', i))\n",
        "\n",
        "new_list = []\n",
        "for element in monetarias:\n",
        "  if isinstance(element, list):\n",
        "    new_list.extend(element)\n",
        "\n",
        "print(new_list)"
      ],
      "metadata": {
        "id": "6vhe9-Y-MhL9",
        "colab": {
          "base_uri": "https://localhost:8080/"
        },
        "outputId": "7d88415c-9f0f-4c23-92bd-096ecb0a7020"
      },
      "execution_count": 63,
      "outputs": [
        {
          "output_type": "stream",
          "name": "stdout",
          "text": [
            "['$20', '$4.00', '$17', '$3', '$35', '$7.85', '$12', '$11.99']\n"
          ]
        }
      ]
    },
    {
      "cell_type": "code",
      "source": [
        "quantity = len(new_list)\n",
        "\n",
        "print(f\"Se encontraron {quantity} cantidades numéricas monetarias\")"
      ],
      "metadata": {
        "id": "_t0a5xWDMhQ5",
        "colab": {
          "base_uri": "https://localhost:8080/"
        },
        "outputId": "86967964-3036-4c1a-b5e4-2ee1c5d88ed1"
      },
      "execution_count": 64,
      "outputs": [
        {
          "output_type": "stream",
          "name": "stdout",
          "text": [
            "Se encontraron 8 cantidades numéricas monetarias\n"
          ]
        }
      ]
    },
    {
      "cell_type": "markdown",
      "source": [
        "*   **Pregunta 7.**  \n",
        "\n",
        "Busca e imprime todas las palabras que sean variantes de la palabra \"love\", sin importar si incluyen mayúsculas o minúsculas, o la manera en que esté conjugada o alguna otra variación que se haga con dicha palabra.\n",
        "\n",
        "Indica cuántos resultados obtuviste."
      ],
      "metadata": {
        "id": "2j-HpvhwMhq2"
      }
    },
    {
      "cell_type": "code",
      "source": [
        "love = []\n",
        "\n",
        "for i in docs:\n",
        "  love.append(re.findall(r'\\blov(?:e|es|ed|ing|ely|eless|er|ers|eliness)?\\b', i, flags=re.IGNORECASE))\n",
        "\n",
        "new_list = []\n",
        "for element in love:\n",
        "  if isinstance(element, list):\n",
        "    new_list.extend(element)\n",
        "\n",
        "print(new_list)"
      ],
      "metadata": {
        "id": "kqqyRChVMjol",
        "colab": {
          "base_uri": "https://localhost:8080/"
        },
        "outputId": "1ada9616-fcb0-4d4f-f945-567c80efff2f"
      },
      "execution_count": 66,
      "outputs": [
        {
          "output_type": "stream",
          "name": "stdout",
          "text": [
            "['Loved', 'loved', 'Loved', 'love', 'loves', 'LOVED', 'lovers', 'loving', 'love', 'lovers', 'Love', 'loved', 'loved', 'love', 'love', 'love', 'loved', 'love', 'loved', 'Love', 'LOVED', 'love', 'lovely', 'love', 'lovely', 'love', 'lover', 'loved', 'love', 'love', 'love', 'love', 'love', 'love', 'love', 'love']\n"
          ]
        }
      ]
    },
    {
      "cell_type": "code",
      "source": [
        "quantity = len(new_list)\n",
        "\n",
        "print(f\"Se encontraron {quantity} palabras que sean variantes de la palabra love\")"
      ],
      "metadata": {
        "id": "UXd0VQluMj_x",
        "colab": {
          "base_uri": "https://localhost:8080/"
        },
        "outputId": "d82643f8-17f8-4b94-d922-03d1905fe11f"
      },
      "execution_count": 68,
      "outputs": [
        {
          "output_type": "stream",
          "name": "stdout",
          "text": [
            "Se encontraron 36 palabras que sean variantes de la palabra love\n"
          ]
        }
      ]
    },
    {
      "cell_type": "markdown",
      "source": [
        "*   **Pregunta 8.**  \n",
        "\n",
        "Busca e imprime todas las palabras, variantes de \"so\" y \"good\", que tengan dos o más \"o\" en \"so\" y 3 o más \"o\" en good.\n",
        "\n",
        "Indica cuántas encontraste.\n"
      ],
      "metadata": {
        "id": "Ctb-NTY3MkYG"
      }
    },
    {
      "cell_type": "code",
      "source": [
        "so_good = []\n",
        "\n",
        "for i in docs:\n",
        "  so_good.append(re.findall(r'so{2,}|go{3,}d', i, flags=re.IGNORECASE))\n",
        "\n",
        "new_list = []\n",
        "for element in so_good:\n",
        "  if isinstance(element, list):\n",
        "    new_list.extend(element)\n",
        "\n",
        "print(new_list)"
      ],
      "metadata": {
        "id": "A8Nf3B_cMlqg",
        "colab": {
          "base_uri": "https://localhost:8080/"
        },
        "outputId": "75965e3a-4f14-4d10-aa62-7399bf36ba97"
      },
      "execution_count": 70,
      "outputs": [
        {
          "output_type": "stream",
          "name": "stdout",
          "text": [
            "['Sooooo', 'soo', 'soooo', 'soo', 'soo', 'goood', 'soo', 'soo', 'soooooo', 'soo', 'soo', 'soooo', 'soo', 'soo']\n"
          ]
        }
      ]
    },
    {
      "cell_type": "code",
      "source": [
        "quantity = len(new_list)\n",
        "\n",
        "print(f\"Se encontraron {quantity} variantes de 'so' y 'good' que tengan dos o más 'o' en 'so' y 3 o más 'o' en good\")"
      ],
      "metadata": {
        "id": "svS4-vvPMl6f",
        "colab": {
          "base_uri": "https://localhost:8080/"
        },
        "outputId": "785e2ab2-49f2-4daf-cccb-0f5f0efdea0a"
      },
      "execution_count": 71,
      "outputs": [
        {
          "output_type": "stream",
          "name": "stdout",
          "text": [
            "Se encontraron 14 variantes de 'so' y 'good' que tengan dos o más 'o' en 'so' y 3 o más 'o' en good\n"
          ]
        }
      ]
    },
    {
      "cell_type": "markdown",
      "source": [
        "*   **Pregunta 9.**  \n",
        "\n",
        "Busca e imprime todas las palabras que tengan una longitud mayor estrictamente a 10 caracteres alfabéticos.\n",
        "\n",
        "No se consideran los signos de puntuación o caracteres especiales en la longitud de estas cadenas, solo caracteres alfabéticos en mayúsculas o minúsculas.\n",
        "\n",
        "Indica la cantidad de palabras encontradas.\n"
      ],
      "metadata": {
        "id": "hkak1opjMmlk"
      }
    },
    {
      "cell_type": "code",
      "source": [
        "diez_caracteres = []\n",
        "\n",
        "for i in docs:\n",
        "  diez_caracteres.append(re.findall(r'\\b[a-zA-Z]{11,}\\b', i))\n",
        "\n",
        "new_list = []\n",
        "for element in diez_caracteres:\n",
        "  if isinstance(element, list):\n",
        "    new_list.extend(element)\n",
        "\n",
        "print(new_list)"
      ],
      "metadata": {
        "id": "PYxdp3uhMoD0",
        "colab": {
          "base_uri": "https://localhost:8080/"
        },
        "outputId": "61db0ceb-04c7-4526-c201-08d06744a65a"
      },
      "execution_count": 72,
      "outputs": [
        {
          "output_type": "stream",
          "name": "stdout",
          "text": [
            "['recommendation', 'recommended', 'overwhelmed', 'inexpensive', 'establishment', 'imaginative', 'opportunity', 'experiencing', 'underwhelming', 'relationship', 'unsatisfying', 'disappointing', 'outrageously', 'disappointing', 'expectations', 'restaurants', 'suggestions', 'disappointed', 'considering', 'Unfortunately', 'immediately', 'ingredients', 'accommodations', 'maintaining', 'Interesting', 'disrespected', 'accordingly', 'unbelievable', 'cheeseburger', 'descriptions', 'inexpensive', 'disappointed', 'Veggitarian', 'outstanding', 'recommendation', 'disappointed', 'disappointed', 'neighborhood', 'disappointed', 'corporation', 'considering', 'exceptional', 'shawarrrrrrma', 'disappointed', 'vinaigrette', 'immediately', 'unbelievably', 'replenished', 'disappointed', 'enthusiastic', 'Outstanding', 'comfortable', 'interesting', 'INCONSIDERATE', 'considering', 'transcendant', 'disappointment', 'disappointed', 'disappointed', 'overwhelmed', 'professional', 'Furthermore', 'combination', 'connoisseur', 'profiterole', 'outstanding', 'acknowledged', 'ventilation', 'beautifully', 'establishment', 'extraordinary', 'disappointed', 'cheesecurds', 'disappointed', 'interesting', 'experienced', 'opportunity', 'disgraceful', 'restaurants', 'ESTABLISHMENT', 'recommended', 'disappointed', 'recommended', 'acknowledged', 'presentation', 'Philadelphia', 'disappointed', 'disappointing', 'grandmother', 'drastically', 'informative', 'Disappointed', 'constructed', 'comfortable', 'Smashburger', 'cheeseburger', 'neighborhood', 'disappointed', 'hospitality', 'recommending', 'disappointed', 'deliciously', 'compliments', 'recommendation', 'establishment', 'calligraphy', 'traditional', 'combination', 'Unfortunately', 'Wienerschnitzel', 'unfortunately', 'considering', 'highlighted', 'Mediterranean', 'unprofessional', 'anticipated', 'disappointing', 'unexperienced', 'disrespected', 'professional', 'restaurants', 'Disappointing', 'WAAAAAAyyyyyyyyyy', 'reservation', 'imagination', 'undercooked', 'disappointed', 'disappointment', 'disappointment', 'deuchebaggery', 'disappointed', 'disappointment', 'immediately', 'Unfortunately', 'disapppointment', 'circumstances', 'undercooked', 'caterpillar', 'presentation', 'disappointed', 'underwhelming']\n"
          ]
        }
      ]
    },
    {
      "cell_type": "code",
      "source": [
        "quantity = len(new_list)\n",
        "\n",
        "print(f\"Se encontraron {quantity} palabras que tengan una longitud mayor estrictamente a 10 caracteres alfabéticos\")"
      ],
      "metadata": {
        "id": "BR7e2F4FMof-",
        "colab": {
          "base_uri": "https://localhost:8080/"
        },
        "outputId": "bc148e96-bd65-467f-c501-947111610fc3"
      },
      "execution_count": 74,
      "outputs": [
        {
          "output_type": "stream",
          "name": "stdout",
          "text": [
            "Se encontraron 141 palabras que tengan una longitud mayor estrictamente a 10 caracteres alfabéticos\n"
          ]
        }
      ]
    },
    {
      "cell_type": "markdown",
      "source": [
        "*   **Pregunta 10.**  \n",
        "\n",
        "Busca e imprime todas las palabras que inician con una letra mayúscula y terminan con una minúscula, pero que además no sea la primera palabra del comentario/string.\n",
        "\n",
        "Indica la cantidad de resultados obtenidos."
      ],
      "metadata": {
        "id": "ApjTNzSxMpDc"
      }
    },
    {
      "cell_type": "code",
      "source": [
        "may_min = []\n",
        "\n",
        "for i in docs:\n",
        "  may_min.append(re.findall(r'(?<!^)\\b[A-Z][a-zA-Z]*[a-z]\\b', i))\n",
        "\n",
        "new_list = []\n",
        "for element in may_min:\n",
        "  if isinstance(element, list):\n",
        "    new_list.extend(element)\n",
        "\n",
        "print(new_list)"
      ],
      "metadata": {
        "id": "Vb0ndRGAMqdL",
        "colab": {
          "base_uri": "https://localhost:8080/"
        },
        "outputId": "b05ec706-730f-4c87-eb63-23ab4c25734c"
      },
      "execution_count": 76,
      "outputs": [
        {
          "output_type": "stream",
          "name": "stdout",
          "text": [
            "['Loved', 'May', 'Rick', 'Steve', 'Cape', 'Cod', 'This', 'Vegas', 'Burrittos', 'Blah', 'The', 'The', 'They', 'This', 'Mexican', 'Took', 'Luke', 'Our', 'Also', 'Overall', 'Poor', 'Hiro', 'On', 'Frozen', 'The', 'Firehouse', 'My', 'Greek', 'Greek', 'They', 'Loved', 'Heart', 'Attack', 'Grill', 'Vegas', 'The', 'The', 'Great', 'Dos', 'Gringos', 'The', 'Jeff', 'Really', 'It', 'Excalibur', 'Very', 'Bad', 'Customer', 'Service', 'Vegas', 'Rice', 'Company', 'Pho', 'In', 'It', 'Never', 'Hard', 'Rock', 'Casino', 'On', 'Our', 'The', 'Best', 'Buffet', 'Tigerlilly', 'The', 'Yama', 'At', 'Thai', 'Nice', 'Although', 'Indian', 'Worst', 'The', 'We', 'Host', 'Not', 'Phenomenal', 'Definitely', 'Vegas', 'They', 'Delicious', 'Lox', 'Great', 'Subway', 'Subway', 'Vegas', 'He', 'Vegas', 'The', 'The', 'Mandalay', 'Bay', 'Great', 'Voodoo', 'Unfortunately', 'Their', 'Phoenix', 'This', 'Vegas', 'Lordy', 'Khao', 'Soi', 'Perhaps', 'The', 'Not', 'The', 'Love', 'Lemon', 'The', 'Also', 'When', 'Joey', 'Valley', 'Phoenix', 'Magazine', 'Pho', 'Fridays', 'The', 'If', 'For', 'Tasty', 'Jamaican', 'The', 'Lobster', 'Bisque', 'Bussell', 'Sprouts', 'Risotto', 'Filet', 'It', 'Otto', 'As', 'If', 'Ordered', 'Yeah', 'If', 'The', 'Honestly', 'Not', 'Everyone', 'It', 'Also', 'Drinks', 'Seriously', 'Vegas', 'Greek', 'Overall', 'Vegas', 'Good', 'Plus', 'The', 'Thus', 'For', 'Veggitarian', 'Stopped', 'Madison', 'Ironman', 'Jenni', 'Pho', 'Bachi', 'Burger', 'This', 'Pizza', 'Salads', 'They', 'Yelpers', 'The', 'You', 'Bachi', 'Service', 'Will', 'As', 'In', 'English', 'Great', 'By', 'Back', 'And', 'Also', 'They', 'Pizza', 'Hut', 'Both', 'We', 'Seat', 'The', 'Gold', 'Standard', 'Of', 'Thai', 'Tucson', 'Vegas', 'This', 'Chipotle', 'Classy', 'Baseball', 'On', 'Sadly', 'Gordon', 'Ramsey', 'Steak', 'Vegas', 'The', 'Outstanding', 'Best', 'Food', 'Lobster', 'Bisque', 'Vegas', 'The', 'The', 'They', 'Eggplant', 'Green', 'Bean', 'In', 'The', 'Halibut', 'Vegas', 'If', 'Vegas', 'Vegas', 'Crystals', 'Aria', 'To', 'Ians', 'Overall', 'Bouchon', 'Great', 'San', 'Francisco', 'Bay', 'Area', 'Buldogis', 'Gourmet', 'Hot', 'Dog', 'Come', 'For', 'Our', 'On', 'Furthermore', 'Strike', 'Steiners', 'If', 'Anyway', 'Not', 'The', 'The', 'Carly', 'This', 'Love', 'Vegas', 'Very', 'Total', 'Camelback', 'Flower', 'Shop', 'Cartel', 'Coffee', 'Third', 'This', 'Las', 'Vegas', 'This', 'It', 'Worse', 'Bunch', 'Very', 'This', 'Mom', 'Noca', 'Give', 'At', 'Anyway', 'Point', 'Oh', 'Similarly', 'Be', 'The', 'Vegas', 'Sat', 'Sun', 'If', 'Mexican', 'Frenchman', 'Great', 'No', 'Perfect', 'Vegas', 'However', 'Palm', 'The', 'Are', 'This', 'He', 'The', 'As', 'If', 'Thai', 'All', 'My', 'Toast', 'Thai', 'It', 'Phoenix', 'Crema', 'Philadelphia', 'We', 'Good', 'North', 'Scottsdale', 'The', 'Sorry', 'Bloody', 'Mary', 'Despite', 'Pho', 'The', 'Same', 'Caesar', 'After', 'Macarons', 'Our', 'Experience', 'Very', 'Disappointed', 'Big', 'Bay', 'Plater', 'Not', 'Italian', 'That', 'Vegas', 'Baba', 'Ganoush', 'Very', 'The', 'Nobu', 'Smashburger', 'Panna', 'Cotta', 'Very', 'Prices', 'The', 'Good', 'Hawaiian', 'Breeze', 'Mango', 'Magic', 'Pineapple', 'Delight', 'We', 'Needless', 'Anyways', 'The', 'The', 'Strip', 'Steak', 'Paradise', 'Valley', 'Cibo', 'Service', 'That', 'Thumbs', 'Up', 'Italian', 'Pros', 'Large', 'Nice', 'Great', 'The', 'Elk', 'Filet', 'After', 'Cute', 'The', 'Dylan', 'All', 'One', 'Han', 'Nan', 'Chicken', 'As', 'The', 'Bar', 'Edinburgh', 'Chinese', 'Overall', 'Indian', 'Probably', 'Friend', 'Try', 'Chinese', 'When', 'The', 'Level', 'Main', 'When', 'Food', 'Prices', 'The', 'Phoenix', 'It', 'Both', 'Hot', 'Sour', 'Egg', 'Flower', 'Soups', 'Stars', 'Sunday', 'Hunan', 'What', 'The', 'Unfortunately', 'Perfect', 'The', 'The', 'Great', 'Pita', 'Wienerschnitzel', 'Maine', 'Lobster', 'Roll', 'My', 'The', 'Lastly', 'The', 'This', 'Kabuki', 'Best', 'Maria', 'Caballero', 'In', 'To', 'Bad', 'The', 'Wife', 'Went', 'This', 'Hot', 'Everything', 'They', 'For', 'Strip', 'The', 'Costco', 'All', 'To', 'Place', 'Gyros', 'Japanese', 'Now', 'The', 'Albondigas', 'On', 'After', 'No', 'Mediterranean', 'Chicken', 'Salad', 'Mellow', 'Mushroom', 'Thai', 'Vegas', 'Overall', 'Mmmm', 'Buffet', 'Bellagio', 'And', 'My', 'Also', 'Vegas', 'Very', 'How', 'There', 'What', 'Christmas', 'Eve', 'Needless', 'Every', 'However', 'It', 'The', 'Denny', 'If', 'The', 'The', 'The', 'The', 'It', 'Maybe', 'Vegetarian', 'The', 'The', 'Then', 'Insults', 'Taco', 'Unfortunately', 'Your', 'Heimer', 'All', 'Ha', 'Long', 'Bay', 'Subway', 'When', 'Brushfire', 'It', 'Mirage', 'In', 'The', 'Ninja', 'Sushi', 'Then']\n"
          ]
        }
      ]
    },
    {
      "cell_type": "code",
      "source": [
        "quantity = len(new_list)\n",
        "\n",
        "print(f\"Se encontraron {quantity} palabras que inician con una letra mayúscula y terminan con una minúscula, pero que además no sea la primera palabra del comentario/string\")"
      ],
      "metadata": {
        "id": "dLPTRPnTMqqx",
        "colab": {
          "base_uri": "https://localhost:8080/"
        },
        "outputId": "af429fab-d33e-4036-96c0-9ce0fcf00a76"
      },
      "execution_count": 77,
      "outputs": [
        {
          "output_type": "stream",
          "name": "stdout",
          "text": [
            "Se encontraron 517 palabras que inician con una letra mayúscula y terminan con una minúscula, pero que además no sea la primera palabra del comentario/string\n"
          ]
        }
      ]
    },
    {
      "cell_type": "markdown",
      "source": [
        "*   **Pregunta 11.**  \n",
        "\n",
        "Busca e imprime la secuencia de dos o más palabras que están separadas por un guion, \"-\", sin que tengan espacios en blanco entre ellas.\n",
        "\n",
        "Por ejemplo \"Go-Kart\" sería válido, pero \"Go  -Kart\" o \"Go  -  Kart\" no lo serían.\n",
        "\n",
        "Indica la cantidad de resultados obtenidos."
      ],
      "metadata": {
        "id": "u7nfm4KhMrNW"
      }
    },
    {
      "cell_type": "code",
      "source": [
        "guion = []\n",
        "\n",
        "for i in docs:\n",
        "  guion.append(re.findall(r'\\b\\w+(?:-\\w+)+\\b', i))\n",
        "\n",
        "new_list = []\n",
        "for element in guion:\n",
        "  if isinstance(element, list):\n",
        "    new_list.extend(element)\n",
        "\n",
        "print(new_list)"
      ],
      "metadata": {
        "id": "OwU-a7eGMsub",
        "colab": {
          "base_uri": "https://localhost:8080/"
        },
        "outputId": "5011a091-1d2f-4b60-836e-c7057e54209a"
      },
      "execution_count": 82,
      "outputs": [
        {
          "output_type": "stream",
          "name": "stdout",
          "text": [
            "['flat-lined', 'hands-down', 'must-stop', 'sub-par', 'Service-check', 'in-house', 'been-stepped-in-and-tracked-everywhere', 'multi-grain', 'to-go', 'non-customer', 'High-quality', 'sit-down', 'over-whelm', 'low-key', 'non-fancy', 'golden-crispy', 'over-priced', 'over-hip', 'under-services']\n"
          ]
        }
      ]
    },
    {
      "cell_type": "code",
      "source": [
        "quantity = len(new_list)\n",
        "\n",
        "print(f\"Se encontraron {quantity} secuencias de dos o más palabras que están separadas por un guion, '-', sin que tengan espacios en blanco entre ellas\")"
      ],
      "metadata": {
        "id": "SgzIL74ZMtGw",
        "colab": {
          "base_uri": "https://localhost:8080/"
        },
        "outputId": "b76ab271-082b-40a0-9341-7181dd4c5598"
      },
      "execution_count": 83,
      "outputs": [
        {
          "output_type": "stream",
          "name": "stdout",
          "text": [
            "Se encontraron 19 secuencias de dos o más palabras que están separadas por un guion, '-', sin que tengan espacios en blanco entre ellas\n"
          ]
        }
      ]
    },
    {
      "cell_type": "markdown",
      "source": [
        "*   **Pregunta 12.**  \n",
        "\n",
        "Busca e imprime todas las palabras que terminan en \"ing\" o \"ed\".\n",
        "\n",
        "Indica la cantidad de palabras que encontraste de cada una."
      ],
      "metadata": {
        "id": "DEIgl79HMthr"
      }
    },
    {
      "cell_type": "code",
      "source": [
        "ing = []\n",
        "\n",
        "for i in docs:\n",
        "  ing.append(re.findall(r'\\b\\w+(?:ing)\\b', i))\n",
        "\n",
        "new_list_ing = []\n",
        "for element in ing:\n",
        "  if isinstance(element, list):\n",
        "    new_list_ing.extend(element)\n",
        "\n",
        "print(new_list_ing)"
      ],
      "metadata": {
        "id": "I4TSofBMMv9y",
        "colab": {
          "base_uri": "https://localhost:8080/"
        },
        "outputId": "efbb5e43-5c77-4df2-d3f4-4cf81a190799"
      },
      "execution_count": 89,
      "outputs": [
        {
          "output_type": "stream",
          "name": "stdout",
          "text": [
            "['during', 'getting', 'being', 'being', 'amazing', 'running', 'redeeming', 'getting', 'thing', 'dressing', 'refreshing', 'running', 'amazing', 'nothing', 'appalling', 'wasting', 'eating', 'going', 'Coming', 'experiencing', 'underwhelming', 'eating', 'raving', 'spring', 'unsatisfying', 'amazing', 'Everything', 'disappointing', 'dining', 'flirting', 'thing', 'coming', 'playing', 'ordering', 'arriving', 'disappointing', 'preparing', 'loving', 'liking', 'reviewing', 'venturing', 'including', 'during', 'changing', 'going', 'considering', 'coming', 'going', 'everything', 'looking', 'dressing', 'dining', 'Everything', 'amazing', 'judging', 'maintaining', 'asking', 'having', 'something', 'lacking', 'Interesting', 'preparing', 'missing', 'feeling', 'exceeding', 'inviting', 'climbing', 'waiting', 'coming', 'being', 'lacking', 'going', 'amazing', 'dealing', 'annoying', 'falling', 'sporting', 'amazing', 'providing', 'building', 'lighting', 'going', 'nothing', 'working', 'eating', 'dressing', 'being', 'outstanding', 'getting', 'amazing', 'rating', 'eating', 'writing', 'everything', 'dining', 'boring', 'charming', 'going', 'making', 'pricing', 'considering', 'amazing', 'Everything', 'nothing', 'nothing', 'driving', 'during', 'evening', 'Outstanding', 'buying', 'handling', 'wasting', 'craving', 'dining', 'interesting', 'amazing', 'being', 'outshining', 'starving', 'coming', 'considering', 'shopping', 'nothing', 'getting', 'trying', 'eating', 'going', 'everything', 'Nothing', 'going', 'outstanding', 'running', 'forgetting', 'upgrading', 'eating', 'bring', 'hoping', 'living', 'dining', 'filling', 'amazing', 'Everything', 'thing', 'amazing', 'Everything', 'interesting', 'amazing', 'amazing', 'waiting', 'going', 'going', 'dining', 'saving', 'something', 'trying', 'disgusting', 'hankering', 'being', 'being', 'being', 'setting', 'sitting', 'waiting', 'satisfying', 'eating', 'being', 'freaking', 'getting', 'amazing', 'disappointing', 'seasoning', 'going', 'being', 'bring', 'letting', 'evening', 'waiting', 'being', 'eating', 'going', 'seating', 'playing', 'amazing', 'staying', 'giving', 'talking', 'amazing', 'amazing', 'amazing', 'amazing', 'filling', 'dripping', 'going', 'serving', 'recommending', 'thing', 'reading', 'seating', 'going', 'everything', 'thing', 'sitting', 'waiting', 'bring', 'revisiting', 'coming', 'anything', 'feeling', 'during', 'thing', 'being', 'amazing', 'being', 'amazing', 'satifying', 'describing', 'coming', 'everything', 'Paying', 'going', 'thing', 'amazing', 'getting', 'cramming', 'considering', 'fucking', 'going', 'appealing', 'getting', 'coming', 'Everything', 'dealing', 'everything', 'something', 'during', 'dining', 'cooking', 'dining', 'editing', 'setting', 'amazing', 'rotating', 'Pricing', 'satisfying', 'disappointing', 'amazing', 'returning', 'running', 'being', 'thing', 'nothing', 'poisoning', 'thinking', 'something', 'going', 'disgusting', 'caring', 'bring', 'Disappointing', 'saying', 'going', 'coming', 'building', 'seating', 'dipping', 'setting', 'anything', 'drinking', 'serving', 'doing', 'putting', 'getting', 'looking', 'coming', 'staying', 'lacking', 'underwhelming', 'drawing', 'bring']\n"
          ]
        }
      ]
    },
    {
      "cell_type": "code",
      "source": [
        "ed = []\n",
        "\n",
        "for i in docs:\n",
        "  ed.append(re.findall(r'\\b\\w+(?:ed)\\b', i))\n",
        "\n",
        "new_list_ed = []\n",
        "for element in ed:\n",
        "  if isinstance(element, list):\n",
        "    new_list_ed.extend(element)\n",
        "\n",
        "print(new_list_ed)"
      ],
      "metadata": {
        "colab": {
          "base_uri": "https://localhost:8080/"
        },
        "id": "8qVYfg-R4s0W",
        "outputId": "28a99695-b720-43bb-f7eb-ed468ef3f4f0"
      },
      "execution_count": 91,
      "outputs": [
        {
          "output_type": "stream",
          "name": "stdout",
          "text": [
            "['Loved', 'Stopped', 'loved', 'ended', 'overpriced', 'tried', 'disgusted', 'shocked', 'recommended', 'performed', 'red', 'asked', 'overwhelmed', 'grossed', 'melted', 'provided', 'cooked', 'ordered', 'realized', 'Loved', 'lined', 'cooked', 'ripped', 'ripped', 'petrified', 'included', 'expected', 'seasoned', 'cheated', 'walked', 'smelled', 'tailored', 'arrived', 'roasted', 'added', 'cooked', 'passed', 'liked', 'managed', 'served', 'overpriced', 'checked', 'disappointed', 'red', 'decorated', 'served', 'watched', 'greeted', 'seated', 'waited', 'flavored', 'ordered', 'ordered', 'relocated', 'impressed', 'seated', 'priced', 'treated', 'ordered', 'used', 'handed', 'listed', 'missed', 'thrilled', 'inspired', 'desired', 'overcooked', 'decided', 'looked', 'dressed', 'treated', 'ordered', 'sucked', 'expected', 'sucked', 'imagined', 'served', 'arrived', 'satisfied', 'voted', 'insulted', 'disrespected', 'dreamed', 'lived', 'stepped', 'mixed', 'showed', 'realized', 'loved', 'needed', 'loved', 'wrapped', 'uninspired', 'Ordered', 'uploaded', 'covered', 'supposed', 'rolled', 'stayed', 'Based', 'received', 'privileged', 'charged', 'visited', 'proclaimed', 'disappointed', 'Stopped', 'dedicated', 'liked', 'disappointed', 'waited', 'waited', 'burned', 'waited', 'disappointed', 'Waited', 'disappointed', 'pulled', 'prepared', 'fried', 'passed', 'ordered', 'toasted', 'untoasted', 'figured', 'returned', 'eyed', 'disappointed', 'pleased', 'replenished', 'disappointed', 'treated', 'offered', 'tasted', 'dropped', 'decorated', 'served', 'walked', 'stuffed', 'located', 'Cooked', 'disappointed', 'screwed', 'frustrated', 'iced', 'stuffed', 'disappointed', 'grossed', 'enjoyed', 'looked', 'overwhelmed', 'stayed', 'smeared', 'stepped', 'tracked', 'tried', 'rushed', 'loved', 'Ordered', 'cooked', 'insulted', 'contained', 'enjoyed', 'relaxed', 'loved', 'acknowledged', 'trimmed', 'cooked', 'claimed', 'handled', 'asked', 'limited', 'boiled', 'liked', 'sliced', 'attached', 'humiliated', 'fried', 'impressed', 'disappointed', 'priced', 'disappointed', 'need', 'need', 'experienced', 'waited', 'seated', 'decided', 'pleased', 'recommended', 'helped', 'witnessed', 'Waited', 'waited', 'waited', 'checked', 'tasted', 'disappointed', 'served', 'rated', 'recommended', 'pulled', 'waited', 'acknowledged', 'perpared', 'dusted', 'powdered', 'enjoyed', 'expanded', 'ended', 'arrived', 'wanted', 'disappointed', 'need', 'checked', 'impressed', 'reheated', 'tasted', 'grilled', 'focused', 'roasted', 'asked', 'ignored', 'tasted', 'Ordered', 'greeted', 'seated', 'Tried', 'seated', 'Disappointed', 'ordered', 'constructed', 'fried', 'requested', 'used', 'tasted', 'drenched', 'tried', 'walked', 'expected', 'disappointed', 'mortified', 'impressed', 'refrained', 'pleased', 'loved', 'grilled', 'reminded', 'sucked', 'hooked', 'ordered', 'disappointed', 'seasoned', 'added', 'touched', 'fried', 'opened', 'impressed', 'watched', 'Tasted', 'ordered', 'received', 'impressed', 'overcooked', 'cooked', 'needed', 'served', 'ordered', 'overpriced', 'packed', 'opposed', 'priced', 'surprised', 'focused', 'overpriced', 'tried', 'enjoyed', 'qualified', 'tasted', 'hated', 'watched', 'fried', 'tried', 'helped', 'started', 'highlighted', 'used', 'enjoyed', 'ordered', 'tasted', 'asked', 'refused', 'tried', 'toasted', 'anticipated', 'unexperienced', 'insulted', 'disrespected', 'impressed', 'puréed', 'asked', 'rated', 'lacked', 'sliced', 'pulled', 'undercooked', 'seemed', 'watered', 'lacked', 'disappointed', 'overpriced', 'ensued', 'disappointed', 'placed', 'avoided', 'received', 'wanted', 'sucked', 'happened', 'owned', 'wanted', 'Overpriced', 'vomited', 'started', 'unwrapped', 'lacked', 'seemed', 'undercooked', 'closed', 'refried', 'dried', 'disappointed', 'impressed', 'wasted', 'poured']\n"
          ]
        }
      ]
    },
    {
      "cell_type": "code",
      "source": [
        "quantity = len(new_list_ing)\n",
        "\n",
        "print(f\"Se encontraron {quantity} palabras que terminan en 'ing'\")"
      ],
      "metadata": {
        "id": "AhGq6De2Mvyh",
        "colab": {
          "base_uri": "https://localhost:8080/"
        },
        "outputId": "766db48e-f762-4b91-ffe6-109afae26931"
      },
      "execution_count": 94,
      "outputs": [
        {
          "output_type": "stream",
          "name": "stdout",
          "text": [
            "Se encontraron 279 palabras que terminan en 'ing'\n"
          ]
        }
      ]
    },
    {
      "cell_type": "code",
      "source": [
        "quantity = len(new_list_ed)\n",
        "\n",
        "print(f\"Se encontraron {quantity} palabras que terminan en 'ed'\")"
      ],
      "metadata": {
        "colab": {
          "base_uri": "https://localhost:8080/"
        },
        "id": "ybLROUIs5OTp",
        "outputId": "2b984c77-adc2-48e3-c9d7-355c17f4d965"
      },
      "execution_count": 95,
      "outputs": [
        {
          "output_type": "stream",
          "name": "stdout",
          "text": [
            "Se encontraron 335 palabras que terminan en 'ed'\n"
          ]
        }
      ]
    },
    {
      "cell_type": "markdown",
      "source": [
        "#**Parte 3. Proceso de limpieza.**"
      ],
      "metadata": {
        "id": "70StdqAZa9E9"
      }
    },
    {
      "cell_type": "markdown",
      "source": [
        "*   **Pregunta 13.**  \n",
        "\n",
        "Ahora realiza un proceso de limpieza del corpus que incluya los siguientes procesos:\n",
        "\n",
        "*   Solo se deben considerar caracteres alfabéticos. Es decir, se eliminan todos los signos de puntuación y caracteres especiales.\n",
        "*   Todos los caracteres alfabéticos se transforman a minúsculas.\n",
        "*   Se deben eliminar todos los espacios en blanco adicionales que se puedan encontrar en cada comentario.\n",
        "\n",
        "Al finalizar dicho proceso de limpieza, imprime el resultado de los primeros 10 comentarios resultantes.\n",
        "   \n",
        "\n",
        "\n"
      ],
      "metadata": {
        "id": "xaDUFXHrMvX2"
      }
    },
    {
      "cell_type": "code",
      "source": [
        "corpus_clean = []\n",
        "\n",
        "for i in docs:\n",
        "  i = re.sub(r'[^a-zA-Z\\s]', '', i)\n",
        "  i = i.lower()\n",
        "  i = re.sub(r'\\s+', ' ', i)\n",
        "  i = i.strip()\n",
        "  corpus_clean.append(i)\n",
        "\n",
        "print(corpus_clean)"
      ],
      "metadata": {
        "id": "K3kQzPOPMx0w",
        "colab": {
          "base_uri": "https://localhost:8080/"
        },
        "outputId": "f7043a46-98c0-48ff-f699-5e06343fe53f"
      },
      "execution_count": 96,
      "outputs": [
        {
          "output_type": "stream",
          "name": "stdout",
          "text": [
            "['wow loved this place', 'crust is not good', 'not tasty and the texture was just nasty', 'stopped by during the late may bank holiday off rick steve recommendation and loved it', 'the selection on the menu was great and so were the prices', 'now i am getting angry and i want my damn pho', 'honeslty it didnt taste that fresh', 'the potatoes were like rubber and you could tell they had been made up ahead of time being kept under a warmer', 'the fries were great too', 'a great touch', 'service was very prompt', 'would not go back', 'the cashier had no care what so ever on what i had to say it still ended up being wayyy overpriced', 'i tried the cape cod ravoli chickenwith cranberrymmmm', 'i was disgusted because i was pretty sure that was human hair', 'i was shocked because no signs indicate cash only', 'highly recommended', 'waitress was a little slow in service', 'this place is not worth your time let alone vegas', 'did not like at all', 'the burrittos blah', 'the food amazing', 'service is also cute', 'i could care less the interior is just beautiful', 'so they performed', 'thats rightthe red velvet cakeohhh this stuff is so good', 'they never brought a salad we asked for', 'this hole in the wall has great mexican street tacos and friendly staff', 'took an hour to get our food only tables in restaurant my food was luke warm our sever was running around like he was totally overwhelmed', 'the worst was the salmon sashimi', 'also there are combos like a burger fries and beer for which is a decent deal', 'this was like the final blow', 'i found this place by accident and i could not be happier', 'seems like a good quick place to grab a bite of some familiar pub food but do yourself a favor and look elsewhere', 'overall i like this place a lot', 'the only redeeming quality of the restaurant was that it was very inexpensive', 'ample portions and good prices', 'poor service the waiter made me feel like i was stupid every time he came to the table', 'my first visit to hiro was a delight', 'service sucks', 'the shrimp tender and moist', 'there is not a deal good enough that would drag me into that establishment again', 'hard to judge whether these sides were good because we were grossed out by the melted styrofoam and didnt want to eat it for fear of getting sick', 'on a positive note our server was very attentive and provided great service', 'frozen pucks of disgust with some of the worst people behind the register', 'the only thing i did like was the prime rib and dessert section', 'its too bad the food is so damn generic', 'the burger is good beef cooked just right', 'if you want a sandwich just go to any firehouse', 'my side greek salad with the greek dressing was so tasty and the pita and hummus was very refreshing', 'we ordered the duck rare and it was pink and tender on the inside with a nice char on the outside', 'he came running after us when he realized my husband had left his sunglasses on the table', 'their chow mein is so good', 'they have horrible attitudes towards customers and talk down to each one when customers dont enjoy their food', 'the portion was huge', 'loved itfriendly servers great food wonderful and imaginative menu', 'the heart attack grill in downtown vegas is an absolutely flatlined excuse for a restaurant', 'not much seafood and like strings of pasta at the bottom', 'the salad had just the right amount of sauce to not over power the scallop which was perfectly cooked', 'the ripped banana was not only ripped but petrified and tasteless', 'at least think to refill my water before i struggle to wave you over for minutes', 'this place receives stars for their appetizers', 'the cocktails are all handmade and delicious', 'wed definitely go back here again', 'we are so glad we found this place', 'great food and service huge portions and they give a military discount', 'always a great time at dos gringos', 'updatewent back for a second time and it was still just as amazing', 'we got the food and apparently they have never heard of salt and the batter on the fish was chewy', 'a great way to finish a great', 'the deal included tastings and drinks and jeff went above and beyond what we expected', 'really really good rice all the time', 'the service was meh', 'it took over min to get their milkshake which was nothing more than chocolate milk', 'i guess i should have known that this place would suck because it is inside of the excalibur but i didnt use my common sense', 'the scallop dish is quite appalling for value as well', 'times very bad customer service', 'the sweet potato fries were very good and seasoned well', 'today is the second time ive been to their lunch buffet and it was pretty good', 'there is so much good food in vegas that i feel cheated for wasting an eating opportunity by going to rice and company', 'coming here is like experiencing an underwhelming relationship where both parties cant wait for the other person to ask to break up', 'walked in and the place smelled like an old grease trap and only others there eating', 'the turkey and roast beef were bland', 'this place has it', 'the pan cakes everyone are raving about taste like a sugary disaster tailored to the palate of a six year old', 'i love the pho and the spring rolls oh so yummy you have to try', 'the poor batter to meat ratio made the chicken tenders very unsatisfying', 'all i have to say is the food was amazing', 'omelets are to die for', 'everything was fresh and delicious', 'in summary this was a largely disappointing dining experience', 'its like a really sexy party in your mouth where youre outrageously flirting with the hottest person at the party', 'never been to hard rock casino before will never ever step forward in it again', 'best breakfast buffet', 'say bye bye to your tip lady', 'well never go again', 'will be back again', 'food arrived quickly', 'it was not good', 'on the up side their cafe serves really good food', 'our server was fantastic and when he found out the wife loves roasted garlic and bone marrow he added extra to our meal and another marrow to go', 'the only good thing was our waiter he was very helpful and kept the bloddy marys coming', 'best buffet in town for the price you cannot beat it', 'i loved their mussels cooked in this wine reduction the duck was tender and their potato dishes were delicious', 'this is one of the better buffets that i have been to', 'so we went to tigerlilly and had a fantastic afternoon', 'the food was delicious our bartender was attentive and personable and we got a great deal', 'the ambience is wonderful and there is music playing', 'will go back next trip out', 'sooooo good', 'real sushi lovers lets be honest yama is not that good', 'at least min passed in between us ordering and the food arriving and it wasnt that busy', 'this is a really fantastic thai restaurant which is definitely worth a visit', 'nice spicy and tender', 'good prices', 'check it out', 'it was pretty gross', 'ive had better atmosphere', 'kind of hard to mess up a steak but they did', 'although i very much liked the look and sound of this place the actual experience was a bit disappointing', 'i just dont know how this place managed to served the blandest food i have ever eaten when they are preparing indian cuisine', 'worst service to boot but that is the least of their worries', 'service was fine and the waitress was friendly', 'the guys all had steaks and our steak loving son who has had steak at the best and worst places said it was the best steak hes ever eaten', 'we thought youd have to venture further away to get good sushi but this place really hit the spot that night', 'host staff were for lack of a better word bitches', 'bland not a liking this place for a number of reasons and i dont want to waste time on bad reviewing ill leave it at that', 'phenomenal food service and ambiance', 'i wouldnt return', 'definitely worth venturing off the strip for the pork belly will return next time im in vegas', 'this place is way too overpriced for mediocre food', 'penne vodka excellent', 'they have a good selection of food including a massive meatloaf sandwich a crispy chicken wrap a delish tuna melt and some tasty burgers', 'the management is rude', 'delicious nyc bagels good selections of cream cheese real lox with capers even', 'great subway in fact its so good when you come here every other subway will not meet your expectations', 'i had a seriously solid breakfast here', 'this is one of the best bars with food in vegas', 'he was extremely rude and really there are so many other restaurants i would love to dine at during a weekend in vegas', 'my drink was never empty and he made some really great menu suggestions', 'dont do it', 'the waiter wasnt helpful or friendly and rarely checked on us', 'my husband and i ate lunch here and were very disappointed with the food and service', 'and the red curry had so much bamboo shoots and wasnt very tasty to me', 'nice blanket of moz over top but i feel like this was done to cover up the subpar food', 'the bathrooms are clean and the place itself is well decorated', 'the menu is always changing food quality is going down service is extremely slow', 'the service was a little slow considering that were served by people servers so the food was coming in a slow pace', 'i give it thumbs down', 'we watched our waiter pay a lot more attention to other tables and ignore us', 'my fianc and i came in the middle of the day and we were greeted and seated right away', 'this is a great restaurant at the mandalay bay', 'we waited for forty five minutes in vain', 'crostini that came with the salad was stale', 'some highlights great quality nigiri here', 'the staff is friendly and the joint is always clean', 'this was a different cut than the piece the other day but still wonderful and tender s well as well flavored', 'i ordered the voodoo pasta and it was the first time id had really excellent pasta since going gluten free several years ago', 'this place is good', 'unfortunately we must have hit the bakery on leftover day because everything we ordered was stale', 'i came back today since they relocated and still not impressed', 'i was seated immediately', 'their menu is diverse and reasonably priced', 'avoid at all cost', 'restaurant is always full but never a wait', 'delicious', 'this place is handsdown one of the best places to eat in the phoenix metro area', 'so dont go there if you are looking for good food', 'ive never been treated so bad', 'bacon is hella salty', 'we also ordered the spinach and avocado salad the ingredients were sad and the dressing literally had zero taste', 'this really is how vegas fine dining used to be right down to the menus handed to the ladies that have no prices listed', 'the waitresses are very friendly', 'lordy the khao soi is a dish that is not to be missed for curry lovers', 'everything on the menu is terrific and we were also thrilled that they made amazing accommodations for our vegetarian daughter', 'perhaps i caught them on an off night judging by the other reviews but im not inspired to go back', 'the service here leaves a lot to be desired', 'the atmosphere is modern and hip while maintaining a touch of coziness', 'not a weekly haunt but definitely a place to come back to every once in a while', 'we literally sat there for minutes with no one asking to take our order', 'the burger had absolutely no flavor the meat itself was totally bland the burger was overcooked and there was no charcoal flavor', 'i also decided not to send it back because our waitress looked like she was on the verge of having a heart attack', 'i dressed up to be treated so rudely', 'it was probably dirt', 'love this place hits the spot when i want something healthy but not lacking in quantity or flavor', 'i ordered the lemon raspberry ice cocktail which was also incredible', 'the food sucked which we expected but it sucked more than we could have imagined', 'interesting decor', 'what i really like there is the crepe station', 'also were served hot bread and butter and home made potato chips with bacon bits on topvery original and very good', 'you can watch them preparing the delicious food', 'both of the egg rolls were fantastic', 'when my order arrived one of the gyros was missing', 'i had a salad with the wings and some ice cream for dessert and left feeling quite satisfied', 'im not really sure how joeys was voted best hot dog in the valley by readers of phoenix magazine', 'the best place to go for a tasty bowl of pho', 'the live music on fridays totally blows', 'ive never been more insulted or felt disrespected', 'very friendly staff', 'it is worth the drive', 'i had heard good things about this place but it exceeding every hope i could have dreamed of', 'food was great and so was the serivce', 'the warm beer didnt help', 'great brunch spot', 'service is friendly and inviting', 'very good lunch spot', 'ive lived here since and this was the first and last time ive stepped foot into this place', 'the worst experience ever', 'must have been an off night at this place', 'the sides are delish mixed mushrooms yukon gold puree white corn beateous', 'if that bug never showed up i would have given a for sure but on the other side of the wall where this bug was climbing was the kitchen', 'for about minutes we were waiting for her salad when we realized that it wasnt coming any time soon', 'my friend loved the salmon tartar', 'wont go back', 'extremely tasty', 'waitress was good though', 'soggy and not good', 'the jamaican mojitos are delicious', 'which are small and not worth the price', 'the food is rich so order accordingly', 'the shower area is outside so you can only rinse not take a full shower unless you dont mind being nude for everyone to see', 'the service was a bit lacking', 'lobster bisque bussell sprouts risotto filet all needed salt and pepperand of course there is none at the tables', 'hopefully this bodes for them going out of business and someone who can cook can come in', 'it was either too cold not enough flavor or just bad', 'i loved the bacon wrapped dates', 'this is an unbelievable bargain', 'the folks at otto always make us feel so welcome and special', 'as for the mains also uninspired', 'this is the place where i first had pho and it was amazing', 'this wonderful experience made this place a muststop whenever we are in town again', 'if the food isnt bad enough for you then enjoy dealing with the worlds worstannoying drunk people', 'very very fun chef', 'ordered a double cheeseburger got a single patty that was falling apart picture uploaded yeah still sucks', 'great place to have a couple drinks and watch any and all sporting events as the walls are covered with tvs', 'if it were possible to give them zero stars theyd have it', 'the descriptions said yum yum sauce and another said eel sauce yet another said spicy mayowell none of the rolls had sauces on them', 'id say that would be the hardest decision honestly all of ms dishes taste how they are supposed to taste amazing', 'if she had not rolled the eyes we may have stayed not sure if we will go back and try it again', 'everyone is very attentive providing excellent customer service', 'horrible dont waste your time and money', 'now this dish was quite flavourful', 'by this time our side of the restaurant was almost empty so there was no excuse', 'it wasnt busy either also the building was freezing cold', 'like the other reviewer said you couldnt pay me to eat at this place again', 'drinks took close to minutes to come out at one point', 'seriously flavorful delights folks', 'much better than the other ayce sushi place i went to in vegas', 'the lighting is just dark enough to set the mood', 'based on the subpar service i received and no effort to show their gratitude for my business i wont be going back', 'owners are really great people', 'there is nothing privileged about workingeating there', 'the greek dressing was very creamy and flavorful', 'overall i dont think that i would take my parents to this place again because they made most of the similar complaints that i silently felt too', 'now the pizza itself was good the peanut sauce was very tasty', 'we had at our table and the service was pretty fast', 'fantastic service here', 'i as well wouldve given godfathers zero stars if possible', 'they know how to make them here', 'very tough and very short on flavor', 'i hope this place sticks around', 'i have been in more than a few bars in vegas and do not ever recall being charged for tap water', 'the restaurant atmosphere was exquisite', 'good service very clean and inexpensive to boot', 'the seafood was fresh and generous in portion', 'plus its only bucks', 'the service was not up to par either', 'thus far have only visited twice and the food was absolutely delicious each time', 'just as good as when i had it more than a year ago', 'for a self proclaimed coffee cafe i was wildly disappointed', 'the veggitarian platter is out of this world', 'you cant go wrong with any of the food here', 'you cant beat that', 'stopped by this place while in madison for the ironman very friendly kind staff', 'the chefs were friendly and did a good job', 'ive had better not only from dedicated boba tea spots but even from jenni pho', 'i liked the patio and the service was outstanding', 'the goat taco didnt skimp on the meat and wow what flavor', 'i think not again', 'i had the mac salad and it was pretty bland so i will not be getting that again', 'i went to bachi burger on a friends recommendation and was not disappointed', 'service stinks here', 'i waited and waited', 'this place is not quality sushi it is not a quality restaurant', 'i would definitely recommend the wings as well as the pizza', 'great pizza and salads', 'things that went wrong they burned the saganaki', 'we waited an hour for what was a breakfast i could have done times better at home', 'this place is amazing', 'i hate to disagree with my fellow yelpers but my husband and i were so disappointed with this place', 'waited hours never got either of our pizzas as many other around us who came in later did', 'just dont know why they were so slow', 'the staff is great the food is delish and they have an incredible beer selection', 'i live in the neighborhood so i am disappointed i wont be back here because it is a convenient location', 'i didnt know pulled pork could be soooo delicious', 'you get incredibly fresh fish prepared with care', 'before i go in to why i gave a star rating please know that this was my third time eating at bachi burger before writing a review', 'i love the fact that everything on their menu is worth it', 'never again will i be dining at this place', 'the food was excellent and service was very good', 'good beer drink selection and good food selection', 'please stay away from the shrimp stir fried noodles', 'the potato chip order was sad i could probably count how many chips were in that box and it was probably around', 'food was really boring', 'good servicecheck', 'this greedy corporation will never see another dime from me', 'will never ever go back', 'as much as id like to go back i cant get passed the atrocious service and will never return', 'in the summer you can dine in a charming outdoor patio so very delightful', 'i did not expect this to be so good', 'fantastic food', 'she ordered a toasted english muffin that came out untoasted', 'the food was very good', 'never going back', 'great food for the price which is very high quality and house made', 'the bus boy on the other hand was so rude', 'by this point my friends and i had basically figured out this place was a joke and didnt mind making it publicly and loudly known', 'back to good bbq lighter fare reasonable pricing and tell the public they are back to the old ways', 'and considering the two of us left there very full and happy for about you just cant go wrong', 'all the bread is made inhouse', 'the only downside is the service', 'also the fries are without a doubt the worst fries ive ever had', 'service was exceptional and food was a good as all the reviews', 'a couple of months later i returned and had an amazing meal', 'favorite place in town for shawarrrrrrma', 'the black eyed peas and sweet potatoes unreal', 'you wont be disappointed', 'they could serve it with just the vinaigrette and it may make for a better overall dish but it was still very good', 'i go to far too many places and ive never seen any restaurant that serves a egg breakfast especially for', 'when my mom and i got home she immediately got sick and she only had a few bites of salad', 'the servers are not pleasant to deal with and they dont always honor pizza hut coupons', 'both of them were truly unbelievably good and i am so glad we went back', 'we had fantastic service and were pleased by the atmosphere', 'everything was gross', 'i love this place', 'great service and food', 'first the bathrooms at this location were dirty seat covers were not replenished just plain yucky', 'the burger i got the gold standard a burger and was kind of disappointed', 'omg the food was delicioso', 'there is nothing authentic about this place', 'the spaghetti is nothing special whatsoever', 'of all the dishes the salmon was the best but all were great', 'the vegetables are so fresh and the sauce feels like authentic thai', 'its worth driving up from tucson', 'the selection was probably the worst ive seen in vegasthere was none', 'pretty good beer selection too', 'this place is like chipotle but better', 'classywarm atmosphere fun and fresh appetizers succulent steaks baseball steak', 'stars for the brick oven bread app', 'i have eaten here multiple times and each time the food was delicious', 'we sat another ten minutes and finally gave up and left', 'he was terrible', 'everyone is treated equally special', 'it shouldnt take min for pancakes and eggs', 'it was delicious', 'on the good side the staff was genuinely pleasant and enthusiastic a real treat', 'sadly gordon ramseys steak is a place we shall sharply avoid during our next trip to vegas', 'as always the evening was wonderful and the food delicious', 'best fish ive ever had in my life', 'the bathroom is just next door and very nice', 'the buffet is small and all the food they offered was bland', 'this is an outstanding little restaurant with some of the best food i have ever tasted', 'pretty cool i would say', 'definitely a turn off for me i doubt ill be back unless someone else is buying', 'server did a great job handling our large rowdy table', 'i find wasting food to be despicable but this just wasnt food', 'my wife had the lobster bisque soup which was lukewarm', 'would come back again if i had a sushi craving while in vegas', 'the staff are great the ambiance is great', 'he deserves stars', 'i left with a stomach ache and felt sick the rest of the day', 'they dropped more than the ball', 'the dining space is tiny but elegantly decorated and comfortable', 'they will customize your order any way youd like my usual is eggplant with green bean stir fry love it', 'and the beans and rice were mediocre at best', 'best tacos in town by far', 'i took back my money and got outta there', 'in an interesting part of town this place is amazing', 'rude inconsiderate management', 'the staff are now not as friendly the wait times for being served are horrible no one even says hi for the first minutes', 'i wont be back', 'they have great dinners', 'the service was outshining i definitely recommend the halibut', 'the food was terrible', 'will never ever go back and have told many people what had happened', 'i dont recommend unless your car breaks down in front of it and you are starving', 'i will come back here every time im in vegas', 'this place deserves one star and has to do with the food', 'this is a disgrace', 'def coming back to bowl next time', 'if you want healthy authentic or ethic food try this place', 'i will continue to come here on ladies night andddd date night highly recommend this place to anyone who is in the area', 'i have been here several times in the past and the experience has always been great', 'we walked away stuffed and happy about our first vegas buffet experience', 'service was excellent and prices are pretty reasonable considering this is vegas and located inside the crystals shopping mall by aria', 'to summarize the food was incredible nay transcendant but nothing brings me joy quite like the memory of the pneumatic condiment dispenser', 'im probably one of the few people to ever go to ians and not like it', 'kids pizza is always a hit too with lots of great side dish options for the kiddos', 'service is perfect and the family atmosphere is nice to see', 'cooked to perfection and the service was impeccable', 'this one is simply a disappointment', 'overall i was very disappointed with the quality of food at bouchon', 'i dont have to be an accountant to know im getting screwed', 'great place to eat reminds me of the little mom and pop shops in the san francisco bay area', 'today was my first taste of a buldogis gourmet hot dog and i have to tell you it was more than i ever thought possible', 'left very frustrated', 'ill definitely be in soon again', 'food was really good and i got full petty fast', 'service was fantastic', 'total waste of time', 'i dont know what kind it is but they have the best iced tea', 'come hungry leave happy and stuffed', 'for service i give them no stars', 'i can assure you that you wont be disappointed', 'i can take a little bad service but the food sucks', 'gave up trying to eat any of the crust teeth still sore', 'but now i was completely grossed out', 'i really enjoyed eating here', 'first time going but i think i will quickly become a regular', 'our server was very nice and even though he looked a little overwhelmed with all of our needs he stayed professional and friendly until the end', 'from what my dinner companions told meeverything was very fresh with nice texture and taste', 'on the ground right next to our table was a large smeared beensteppedinandtrackedeverywhere pile of green bird poop', 'furthermore you cant even find hours of operation on the website', 'weve tried to like this place but after times i think were done with them', 'what a mistake that was', 'no complaints', 'this is some seriously good pizza and im an expertconnisseur on the topic', 'waiter was a jerk', 'strike who wants to be rushed', 'these are the nicest restaurant owners ive ever come across', 'i never come again', 'we loved the biscuits', 'service is quick and friendly', 'ordered an appetizer and took minutes and then the pizza another minutes', 'so absolutley fantastic', 'it was a huge awkward lb piece of cow that was ths gristle and fat', 'definitely will come back here again', 'i like steiners because its dark and it feels like a bar', 'wow very spicy but delicious', 'if youre not familiar check it out', 'ill take my business dinner dollars elsewhere', 'id love to go back', 'anyway this fs restaurant has a wonderful breakfastlunch', 'nothing special', 'each day of the week they have a different deal and its all so delicious', 'not to mention the combination of pears almonds and bacon is a big winner', 'will not be back', 'sauce was tasteless', 'the food is delicious and just spicy enough so be sure to ask for spicier if you prefer it that way', 'my ribeye steak was cooked perfectly and had great mesquite flavor', 'i dont think well be going back anytime soon', 'food was so gooodd', 'i am far from a sushi connoisseur but i can definitely tell the difference between good food and bad food and this was certainly bad food', 'i was so insulted', 'the last times i had lunch here has been bad', 'the chicken wings contained the driest chicken meat i have ever eaten', 'the food was very good and i enjoyed every mouthful an enjoyable relaxed venue for couples small family groups etc', 'nargile i think you are great', 'best tater tots in the southwest', 'we loved the place', 'definitely not worth the i paid', 'the vanilla ice cream was creamy and smooth while the profiterole choux pastry was fresh enough', 'im in az all the time and now have my new spot', 'the manager was the worst', 'the inside is really quite nice and very clean', 'the food was outstanding and the prices were very reasonable', 'i dont think ill be running back to carlys anytime soon for food', 'this is was due to the fact that it took minutes to be acknowledged then another minutes to get our foodand they kept forgetting things', 'love the margaritas too', 'this was my first and only vegas buffet and it did not disappoint', 'very good though', 'the one down note is the ventilation could use some upgrading', 'great pork sandwich', 'dont waste your time here', 'total letdown i would much rather just go to the camelback flower shop and cartel coffee', 'third the cheese on my friends burger was cold', 'we enjoy their pizza and brunch', 'the steaks are all well trimmed and also perfectly cooked', 'we had a group of when we claimed we would only have and they handled us beautifully', 'i loved it', 'we asked for the bill to leave without eating and they didnt bring that either', 'this place is a jewel in las vegas and exactly what ive been hoping to find in nearly ten years living here', 'seafood was limited to boiled shrimp and crab legs but the crab legs definitely did not taste fresh', 'the selection of food was not the best', 'delicious and i will absolutely be back', 'this isnt a small family restaurant this is a fine dining establishment', 'they had a toro tartare with a cavier that was extraordinary and i liked the thinly sliced wagyu with white truffle', 'i dont think i will be back for a very long time', 'it was attached to a gas station and that is rarely a good sign', 'how awesome is that', 'i will be back many times soon', 'the menu had so much good stuff on it i could not decide', 'worse of all he humiliated his worker right in front of mebunch of horrible name callings', 'conclusion very filling meals', 'their daily specials are always a hit with my group', 'and then tragedy struck', 'the pancake was also really good and pretty large at that', 'this was my first crawfish experience and it was delicious', 'their monster chicken fried steak and eggs is my all time favorite', 'waitress was sweet and funny', 'i also had to taste my moms multigrain pumpkin pancakes with pecan butter and they were amazing fluffy and delicious', 'id rather eat airline food seriously', 'cant say enough good things about this place', 'the ambiance was incredible', 'the waitress and manager are so friendly', 'i would not recommend this place', 'overall i wasnt very impressed with noca', 'my gyro was basically lettuce only', 'terrible service', 'thoroughly disappointed', 'i dont each much pasta but i love the homemade hand made pastas and thin pizzas here', 'give it a try you will be happy you did', 'by far the best cheesecurds we have ever had', 'reasonably priced also', 'everything was perfect the night we were in', 'the food is very good for your typical bar food', 'it was a drive to get there', 'at first glance it is a lovely bakery cafe nice ambiance clean friendly staff', 'anyway i do not think i will go back there', 'point your finger at any item on the menu order it and you wont be disappointed', 'oh this is such a thing of beauty this restaurant', 'if you havent gone here go now', 'a greasy unhealthy meal', 'first time there and might just be the last', 'those burgers were amazing', 'similarly the delivery man did not say a word of apology when our food was minutes late', 'and it was way to expensive', 'be sure to order dessert even if you need to pack it togo the tiramisu and cannoli are both to die for', 'this was my first time and i cant wait until the next', 'the bartender was also nice', 'everything was good and tasty', 'this place is two thumbs upway up', 'the best place in vegas for breakfast just check out a sat or sun', 'if you love authentic mexican food and want a whole bunch of interesting yet delicious meats to choose from you need to try this place', 'terrible management', 'an excellent new restaurant by an experienced frenchman', 'if there were zero stars i would give it zero stars', 'great steak great sides great wine amazing desserts', 'worst martini ever', 'the steak and the shrimp are in my opinion the best entrees at gc', 'i had the opportunity today to sample your amazing pizzas', 'we waited for thirty minutes to be seated although there were vacant tables and we were the only folks waiting', 'the yellowtail carpaccio was melt in your mouth fresh', 'i wont try going back there even if its empty', 'no im going to eat the potato that i found some strangers hair in it', 'just spicy enough perfect actually', 'last night was my second time dining here and i was so happy i decided to go back', 'not even a hello we will be right with you', 'the desserts were a bit strange', 'my boyfriend and i came here for the first time on a recent trip to vegas and could not have been more pleased with the quality of food and service', 'i really do recommend this place you can go wrong with this donut place', 'nice ambiance', 'i would recommend saving room for this', 'i guess maybe we went on an off night but it was disgraceful', 'however my recent experience at this particular location was not so good', 'i know this is not like the other restaurants at all something is very off here', 'avoid this establishment', 'i think this restaurant suffers from not trying hard enough', 'all of the tapas dishes were delicious', 'i heart this place', 'my salad had a bland vinegrette on the baby greens and hearts of palm', 'after two i felt disgusting', 'a good time', 'i believe that this place is a great stop for those with a huge belly and hankering for sushi', 'generous portions and great taste', 'i will never go back to this place and will never ever recommended this place to anyone', 'the servers went back and forth several times not even so much as an are you being helped', 'food was delicious', 'an hour seriously', 'i consider this theft', 'eew this location needs a complete overhaul', 'we recently witnessed her poor quality of management towards other guests as well', 'waited and waited and waited', 'he also came back to check on us regularly excellent service', 'our server was super nice and checked on us many times', 'the pizza tasted old super chewy in not a good way', 'i swung in to give them a try but was deeply disappointed', 'service was good and the company was better', 'the staff are also very friendly and efficient', 'as for the service im a fan because its quick and youre being served by some nice folks', 'boy was that sucker dry', 'over rated', 'if you look for authentic thai food go else where', 'their steaks are recommended', 'after i pulled up my car i waited for another minutes before being acknowledged', 'great food and great service in a clean and friendly setting', 'all in all i can assure you ill be back', 'i hate those things as much as cheap quality black olives', 'my breakfast was perpared great with a beautiful presentation of giant slices of toast lightly dusted with powdered sugar', 'the kids play area is nasty', 'great place fo take out or eat in', 'the waitress was friendly and happy to accomodate for veganveggie options', 'omg i felt like i had never eaten thai food until this dish', 'it was extremely crumby and pretty tasteless', 'it was a pale color instead of nice and char and has no flavor', 'the croutons also taste homemade which is an extra plus', 'i got home to see the driest damn wings ever', 'itll be a regular stop on my trips to phoenix', 'i really enjoyed crema caf before they expanded i even told friends they had the best breakfast', 'not good for the money', 'i miss it and wish they had one in philadelphia', 'we got sitting fairly fast but ended up waiting minutes just to place our order another minutes before the food arrived', 'they also have the best cheese crisp in town', 'good value great food great service', 'couldnt ask for a more satisfying meal', 'the food is good', 'it was awesome', 'i just wanted to leave', 'we made the drive all the way from north scottsdale and i was not one bit disappointed', 'i will not be eating there again', 'the owners really really need to quit being soooooo cheap let them wrap my freaking sandwich in two papers not one', 'i checked out this place a couple years ago and was not impressed', 'the chicken i got was definitely reheated and was only ok the wedges were cold and soggy', 'sorry i will not be getting food from here anytime soon', 'an absolute must visit', 'the cow tongue and cheek tacos are amazing', 'my friend did not like his bloody mary', 'despite how hard i rate businesses its actually rare for me to give a star', 'they really want to make your experience a good one', 'i will not return', 'i had the chicken pho and it tasted very bland', 'very disappointing', 'the grilled chicken was so tender and yellow from the saffron seasoning', 'a drive thru means you do not want to wait around for half an hour for your food but somehow when we end up going here they make us wait and wait', 'pretty awesome place', 'ambience is perfect', 'best of luck to the rude and noncustomer service focused new management', 'any grandmother can make a roasted chicken better than this one', 'i asked multiple times for the wine list and after some time of being ignored i went to the hostess and got one myself', 'the staff is always super friendly and helpful which is especially cool when you bring two small boys and a baby', 'four stars for the food the guy in the blue shirt for his great vibe still letting us in to eat', 'the roast beef sandwich tasted really good', 'same evening him and i are both drastically sick', 'highquality chicken on the chicken caesar salad', 'ordered burger rare came in well done', 'we were promptly greeted and seated', 'tried to go here for lunch and it was a madhouse', 'i was proven dead wrong by this sushi bar not only because the quality is great but the service is fast and the food impeccable', 'after waiting an hour and being seated i was not in the greatest of moods', 'this is a good joint', 'the macarons here are insanely good', 'im not eating here', 'our waiter was very attentive friendly and informative', 'maybe if they werent cold they would have been somewhat edible', 'this place has a lot of promise but fails to deliver', 'very bad experience', 'what a mistake', 'food was average at best', 'great food', 'we wont be going back anytime soon', 'very very disappointed ordered the big bay plater', 'great place to relax and have an awesome burger and beer', 'it is perfect for a sitdown family meal or get together with a few friends', 'not much flavor to them and very poorly constructed', 'the patio seating was very comfortable', 'the fried rice was dry as well', 'hands down my favorite italian restaurant', 'that just screams legit in my booksomethats also pretty rare here in vegas', 'it was just not a fun experience', 'the atmosphere was great with a lovely duo of violinists playing songs we requested', 'i personally love the hummus pita baklava falafels and baba ganoush its amazing what they do with eggplant', 'very convenient since we were staying at the mgm', 'the owners are super friendly and the staff is courteous', 'both great', 'eclectic selection', 'the sweet potato tots were good but the onion rings were perfection or as close as i have had', 'the staff was very attentive', 'and the chef was generous with his time even came around twice so we can take pictures with him', 'the owner used to work at nobu so this place is really similar for half the price', 'google mediocre and i imagine smashburger will pop up', 'dont go here', 'i promise they wont disappoint', 'as a sushi lover avoid this place by all means', 'what a great double cheeseburger', 'awesome service and food', 'a fantastic neighborhood gem', 'i cant wait to go back', 'the plantains were the worst ive ever tasted', 'its a great place and i highly recommend it', 'service was slow and not attentive', 'i gave it stars then and im giving it stars now', 'your staff spends more time talking to themselves than me', 'dessert panna cotta was amazing', 'very good food great atmosphere', 'damn good steak', 'total brunch fail', 'prices are very reasonable flavors are spot on the sauce is home made and the slaw is not drenched in mayo', 'the decor is nice and the piano music soundtrack is pleasant', 'the steak was amazingrge fillet relleno was the best seafood plate i have ever had', 'good food good service', 'it was absolutely amazing', 'i probably wont be back to be honest', 'will definitely be back', 'the sergeant pepper beef sandwich with auju sauce is an excellent sandwich as well', 'hawaiian breeze mango magic and pineapple delight are the smoothies that ive tried so far and theyre all good', 'went for lunch service was slow', 'we had so much to say about the place before we walked in that he expected it to be amazing but was quickly disappointed', 'i was mortified', 'needless to say we will never be back here again', 'anyways the food was definitely not filling at all and for the price you pay you should expect more', 'the chips that came out were dripping with grease and mostly not edible', 'i wasnt really impressed with strip steak', 'have been going since and every meal has been awesome', 'our server was very nice and attentive as were the other serving staff', 'the cashier was friendly and even brought the food out to me', 'i work in the hospitality industry in paradise valley and have refrained from recommending cibo any longer', 'the atmosphere here is fun', 'would not recommend to others', 'service is quick and even to go orders are just like we like it', 'i mean really how do you get so famous for your fish and chips when its so terrible', 'that said our mouths and bellies were still quite pleased', 'not my thing', 'thumbs up', 'if you are reading this please dont go there', 'i loved the grilled pizza reminded me of legit italian pizza', 'only pros large seating area nice bar area great simple drink menu the best brick oven pizza with homemade dough', 'they have a really nice atmosphere', 'tonight i had the elk filet specialand it sucked', 'after one bite i was hooked', 'we ordered some old classics and some new dishes after going there a few times and were sorely disappointed with everything', 'cute quaint simple honest', 'the chicken was deliciously seasoned and had the perfect fry on the outside and moist chicken on the inside', 'the food was great as always compliments to the chef', 'special thanks to dylan t for the recommendation on what to order all yummy for my tummy', 'awesome selection of beer', 'great food and awesome service', 'one nice thing was that they added gratuity on the bill since our party was larger than or and they didnt expect more tip than that', 'a fly was in my apple juice a fly', 'the han nan chicken was also very tasty', 'as for the service i thought it was good', 'the food was barely lukewarm so it must have been sitting waiting for the server to bring it out to us', 'ryans bar is definitely one edinburgh establishment i wont be revisiting', 'nicest chinese restaurant ive been in a while', 'overall i like there food and the service', 'they also now serve indian naan bread with hummus and some spicy pine nut sauce that was out of this world', 'probably never coming back and wouldnt recommend it', 'friends pasta also bad he barely touched it', 'try them in the airport to experience some tasty food and speedy friendly service', 'i love the decor with the chinese calligraphy wall paper', 'never had anything to complain about here', 'the restaurant is very clean and has a family restaurant feel to it', 'it was way over fried', 'im not sure how long we stood there but it was long enough for me to begin to feel awkwardly out of place', 'when i opened the sandwich i was impressed but not in a good way', 'will not be back', 'there was a warm feeling with the service and i felt like their guest for a special treat', 'an extensive menu provides lots of options for breakfast', 'i always order from the vegetarian menu during dinner which has a wide array of options to choose from', 'i have watched their prices inflate portions get smaller and management attitudes grow rapidly', 'wonderful lil tapas and the ambience made me feel all warm and fuzzy inside', 'i got to enjoy the seafood salad with a fabulous vinegrette', 'the wontons were thin not thick and chewy almost melt in your mouth', 'level spicy was perfect where spice didnt overwhelm the soup', 'we were sat right on time and our server from the get go was fantastic', 'main thing i didnt enjoy is that the crowd is of older crowd around mid s and up', 'when im on this side of town this will definitely be a spot ill hit up again', 'i had to wait over minutes to get my drink and longer to get arepas', 'this is a great place to eat', 'the jalapeno bacon is soooo good', 'the service was poor and thats being nice', 'food was good service was good prices were good', 'the place was not clean and the food oh so stale', 'the chicken dishes are ok the beef is like shoe leather', 'but the service was beyond bad', 'im so happy to be here', 'tasted like dirt', 'one of the few places in phoenix that i would definately go back to again', 'the block was amazing', 'its close to my house its lowkey nonfancy affordable prices good food', 'both the hot sour the egg flower soups were absolutely stars', 'my sashimi was poor quality being soggy and tasteless', 'great time family dinner on a sunday night', 'the food is not tasty at all not to say its real traditional hunan style', 'what did bother me was the slow service', 'the flair bartenders are absolutely amazing', 'their frozen margaritas are way too sugary for my taste', 'these were so good we ordered them twice', 'so in a nutshell the restaraunt smells like a combination of a dirty fish market and a sewer', 'my girlfriends veal was very bad', 'unfortunately it was not good', 'i had a pretty satifying experience', 'join the club and get awesome offers via email', 'perfect for someone me who only likes beer ice cold or in this case even colder', 'bland and flavorless is a good way of describing the barely tepid meat', 'the chains which im no fan of beat this place easily', 'the nachos are a must have', 'we will not be coming back', 'i dont have very many words to say about this place but it does everything pretty well', 'the staff is super nice and very quick even with the crazy crowds of the downtown juries lawyers and court staff', 'great atmosphere friendly and fast service', 'when i received my pita it was huge it did have a lot of meat in it so thumbs up there', 'once your food arrives its meh', 'paying for a hot dog and fries that looks like it came out of a kids meal at the wienerschnitzel is not my idea of a good meal', 'the classic maine lobster roll was fantastic', 'my brother in law who works at the mall ate here same day and guess what he was sick all night too', 'so good i am going to have to review this place twice once hereas a tribute to the place and once as a tribute to an event held here last night', 'the chips and salsa were really good the salsa was very fresh', 'this place is great', 'mediocre food', 'once you get inside youll be impressed with the place', 'im super pissd', 'and service was super friendly', 'why are these sad little vegetables so overcooked', 'this place was such a nice surprise', 'they were goldencrispy and delicious', 'i had high hopes for this place since the burgers are cooked over a charcoal grill but unfortunately the taste fell flat way flat', 'i could eat their bruschetta all day it is devine', 'not a single employee came out to see if we were ok or even needed a water refill once they finally served us our food', 'lastly the mozzarella sticks they were the best thing we ordered', 'the first time i ever came here i had an amazing experience i still tell people how awesome the duck was', 'the server was very negligent of our needs and made us feel very unwelcome i would not suggest this place', 'the service was terrible though', 'this place is overpriced not consistent with their boba and it really is overpriced', 'it was packed', 'i love this place', 'i can say that the desserts were yummy', 'the food was terrible', 'the seasonal fruit was fresh white peach puree', 'it kept getting worse and worse so now im officially done', 'this place should honestly be blown up', 'but i definitely would not eat here again', 'do not waste your money here', 'i love that they put their food in nice plastic containers as opposed to cramming it in little paper takeout boxes', 'the crpe was delicate and thin and moist', 'awful service', 'wont ever go here again', 'food quality has been horrible', 'for that price i can think of a few place i would have much rather gone', 'the service here is fair at best', 'i do love sushi but i found kabuki to be overpriced overhip and underservices', 'do yourself a favor and stay away from this dish', 'very poor service', 'no one at the table thought the food was above average or worth the wait that we had for it', 'best service and food ever maria our server was so good and friendly she made our day', 'they were excellent', 'i paid the bill but did not tip because i felt the server did a terrible job', 'just had lunch here and had a great experience', 'i have never had such bland food which surprised me considering the article we read focused so much on their spices and flavor', 'food is way overpriced and portions are fucking small', 'i recently tried caballeros and i have been back every week since', 'for bucks a head i really expect better food', 'the food came out at a good pace', 'i ate there twice on my last visit and especially enjoyed the salmon salad', 'i wont be back', 'we could not believe how dirty the oysters were', 'this place deserves no stars', 'i would not recommend this place', 'in fact im going to round up to stars just because she was so awesome', 'to my disbelief each dish qualified as the worst version of these foods i have ever tasted', 'bad day or not i have a very low tolerance for rude customer service people it is your job to be nice and polite wash dishes otherwise', 'the potatoes were great and so was the biscuit', 'i probably would not go here again', 'so flavorful and has just the perfect amount of heat', 'the price is reasonable and the service is great', 'the wife hated her meal coconut shrimp and our friends really did not enjoy their meals either', 'my fella got the huevos rancheros and they didnt look too appealing', 'went in for happy hour great list of wines', 'some may say this buffet is pricey but i think you get what you pay for and this place you are getting quite a lot', 'i probably wont be coming back here', 'worst foodservice ive had in a while', 'this place is pretty good nice little vibe in the restaurant', 'talk about great customer service of course we will be back', 'hot dishes are not hot cold dishes are close to room tempi watched staff prepare food with bare hands no gloveseverything is deep fried in oil', 'i love their fries and their beans', 'always a pleasure dealing with him', 'they have a plethora of salads and sandwiches and everything ive tried gets my seal of approval', 'this place is awesome if you want something light and healthy during the summer', 'for sushi on the strip this is the place to go', 'the service was great even the manager came and helped with our table', 'the feel of the dining room was more college cooking course than high class dining and the service was slow at best', 'i started this review with two stars but im editing it to give it only one', 'this is the worst sushi i have ever eat besides costcos', 'all in all an excellent restaurant highlighted by great service a unique menu and a beautiful setting', 'my boyfriend and i sat at the bar and had a completely delightful experience', 'weird vibe from owners', 'there was hardly any meat', 'ive had better bagels from the grocery store', 'go to place for gyros', 'i love the ownerchef his one authentic japanese cool dude', 'now the burgers arent as good the pizza which used to be amazing is doughy and flavorless', 'i found a six inch long piece of wire in my salsa', 'the service was terrible food was mediocre', 'we definately enjoyed ourselves', 'i ordered albondigas soup which was just warm and tasted like tomato soup with frozen meatballs', 'on three different occasions i asked for well done or medium well and all three times i got the bloodiest piece of meat on my plate', 'i had about two bites and refused to eat anymore', 'the service was extremely slow', 'after minutes wait i got a table', 'seriously killer hot chai latte', 'no allergy warnings on the menu and the waitress had absolutely no clue as to which meals did or did not contain peanuts', 'my boyfriend tried the mediterranean chicken salad and fell in love', 'their rotating beers on tap is also a highlight of this place', 'pricing is a bit of a concern at mellow mushroom', 'worst thai ever', 'if you stay in vegas you must get breakfast here at least once', 'i want to first say our server was great and we had perfect service', 'the pizza selections are good', 'i had strawberry tea which was good', 'highly unprofessional and rude to a loyal patron', 'overall a great experience', 'spend your money elsewhere', 'their regular toasted bread was equally satisfying with the occasional pats of butter mmmm', 'the buffet at bellagio was far from what i anticipated', 'and the drinks are weak people', 'my order was not correct', 'also i feel like the chips are bought not made in house', 'after the disappointing dinner we went elsewhere for dessert', 'the chips and sals a here is amazing', 'we wont be returning', 'this is my new fav vegas buffet spot', 'i seriously cannot believe that the owner has so many unexperienced employees that all are running around like chickens with their heads cut off', 'very very sad', 'i felt insulted and disrespected how could you talk and judge another human being like that', 'how can you call yourself a steakhouse if you cant properly cook a steak i dont understand', 'im not impressed with the concept or the food', 'the only thing i wasnt too crazy about was their guacamole as i dont like it pured', 'there is really nothing for me at postinos hope your experience is better', 'i got food poisoning here at the buffet', 'they brought a fresh batch of fries and i was thinking yay something warm but no', 'what should have been a hilarious yummy christmas eve dinner to remember was the biggest fail of the entire trip for us', 'needless to say i wont be going back anytime soon', 'this place is disgusting', 'every time i eat here i see caring teamwork to a professional degree', 'the ri style calamari was a joke', 'however there was so much garlic in the fondue it was barely edible', 'i could barely stomach the meal but didnt complain because it was a business lunch', 'it was so bad i had lost the heart to finish it', 'it also took her forever to bring us the check when we asked for it', 'we arent ones to make a scene at restaurants but i just dont get itdefinitely lost the love after this one', 'disappointing experience', 'the food is about on par with dennys which is to say not good at all', 'if you want to wait for mediocre food and downright terrible service then this is the place for you', 'waaaaaayyyyyyyyyy over rated is all i am saying', 'we wont be going back', 'the place was fairly clean but the food simply wasnt worth it', 'this place lacked style', 'the sangria was about half of a glass wine full and was ridiculous', 'dont bother coming here', 'the meat was pretty dry i had the sliced brisket and pulled pork', 'the building itself seems pretty neat the bathroom is pretty trippy but i wouldnt eat here again', 'it was equally awful', 'probably not in a hurry to go back', 'very slow at seating even with reservation', 'not good by any stretch of the imagination', 'the cashew cream sauce was bland and the vegetables were undercooked', 'the chipolte ranch dipping sause was tasteless seemed thin and watered down with no heat', 'it was a bit too sweet not really spicy enough and lacked flavor', 'i was very disappointed', 'this place is horrible and way overpriced', 'maybe its just their vegetarian fare but ive been twice and i thought it was average at best', 'it wasnt busy at all and now we know why', 'the tables outside are also dirty a lot of the time and the workers are not always friendly and helpful with the menu', 'the ambiance here did not feel like a buffet setting but more of a douchey indoor garden for tea and biscuits', 'con spotty service', 'the fries were not hot and neither was my burger', 'but then they came back cold', 'then our food came out disappointment ensued', 'the real disappointment was our waiter', 'my husband said she was very rude did not even apologize for the bad food or anything', 'the only reason to eat here would be to fill up before a night of binge drinking just to get some carbs in your stomach', 'insults profound deuchebaggery and had to go outside for a smoke break while serving just to solidify it', 'if someone orders two tacos dont you think it may be part of customer service to ask if it is combo or ala cart', 'she was quite disappointed although some blame needs to be placed at her door', 'after all the rave reviews i couldnt wait to eat herewhat a disappointment', 'del taco is pretty nasty and should be avoided if possible', 'its not hard to make a decent hamburger', 'but i dont like it', 'hell no will i go back', 'weve have gotten a much better service from the pizza place next door than the services we received from this restaurant', 'i dont know what the big deal is about this place but i wont be back yaall', 'i immediately said i wanted to talk to the manager but i did not want to talk to the guy who was doing shots of fireball behind the bar', 'the ambiance isnt much better', 'unfortunately it only set us up for disapppointment with our entrees', 'the food wasnt good', 'your servers suck wait correction our server heimer sucked', 'what happened next was prettyoff putting', 'too bad cause i know its family owned i really wanted to like this place', 'overpriced for what you are getting', 'i vomited in the bathroom mid lunch', 'i kept looking at the time and it had soon become minutes yet still no food', 'i have been to very few places to eat that under no circumstances would i ever return to and this tops the list', 'we started with the tuna sashimi which was brownish in color and obviously wasnt fresh', 'food was below average', 'it sure does beat the nachos at the movies but i would expect a little bit more coming from a restaurant', 'all in all ha long bay was a bit of a flop', 'the problem i have is that they charge for a sandwich that is no bigger than a subway sub which offers better and more amount of vegetables', 'shrimp when i unwrapped it i live only a mile from brushfire it was literally ice cold', 'it lacked flavor seemed undercooked and dry', 'it really is impressive that the place hasnt closed down', 'i would avoid this place if you are staying in the mirage', 'the refried beans that came with my meal were dried out and crusty and the food was bland', 'spend your money and time some place else', 'a lady at the table next to us found a live green caterpillar in her salad', 'the presentation of the food was awful', 'i cant tell you how disappointed i was', 'i think food should have flavor and texture and both were lacking', 'appetite instantly gone', 'overall i was not impressed and would not go back', 'the whole experience was underwhelming and i think well just go to ninja sushi next time', 'then as if i hadnt wasted enough of my life there they poured salt in the wound by drawing out the time it took to bring the check']\n"
          ]
        }
      ]
    },
    {
      "cell_type": "code",
      "source": [
        "print(corpus_clean[0:10])"
      ],
      "metadata": {
        "id": "mYEDlHSFMyJN",
        "colab": {
          "base_uri": "https://localhost:8080/"
        },
        "outputId": "da6b2cee-abb7-4d6c-ee7a-539a027fe7b2"
      },
      "execution_count": 97,
      "outputs": [
        {
          "output_type": "stream",
          "name": "stdout",
          "text": [
            "['wow loved this place', 'crust is not good', 'not tasty and the texture was just nasty', 'stopped by during the late may bank holiday off rick steve recommendation and loved it', 'the selection on the menu was great and so were the prices', 'now i am getting angry and i want my damn pho', 'honeslty it didnt taste that fresh', 'the potatoes were like rubber and you could tell they had been made up ahead of time being kept under a warmer', 'the fries were great too', 'a great touch']\n"
          ]
        }
      ]
    },
    {
      "cell_type": "markdown",
      "source": [
        "*   **Pregunta 14.**  \n",
        "\n",
        "Con el resultado de la limpieza obtenido en la pregunta anterior, realiza ahora un proceso de tokenización por palabras del corpus.\n",
        "\n",
        "Es decir, al final de este proceso de tokenización, debes tener como resultado una lista de listas, donde cada comentario estará tokenizado por palabras.\n",
        "\n",
        "Al terminar calcula el total de tokens obtenido en todo el corpus."
      ],
      "metadata": {
        "id": "WZwEhg2lUSAX"
      }
    },
    {
      "cell_type": "code",
      "source": [
        "tokens = [i.split() for i in corpus_clean]\n",
        "\n",
        "print(tokens)"
      ],
      "metadata": {
        "id": "kbAL9-v0V-jx",
        "colab": {
          "base_uri": "https://localhost:8080/"
        },
        "outputId": "c5d4e2b3-678a-4049-80a9-44fef370926c"
      },
      "execution_count": 98,
      "outputs": [
        {
          "output_type": "stream",
          "name": "stdout",
          "text": [
            "[['wow', 'loved', 'this', 'place'], ['crust', 'is', 'not', 'good'], ['not', 'tasty', 'and', 'the', 'texture', 'was', 'just', 'nasty'], ['stopped', 'by', 'during', 'the', 'late', 'may', 'bank', 'holiday', 'off', 'rick', 'steve', 'recommendation', 'and', 'loved', 'it'], ['the', 'selection', 'on', 'the', 'menu', 'was', 'great', 'and', 'so', 'were', 'the', 'prices'], ['now', 'i', 'am', 'getting', 'angry', 'and', 'i', 'want', 'my', 'damn', 'pho'], ['honeslty', 'it', 'didnt', 'taste', 'that', 'fresh'], ['the', 'potatoes', 'were', 'like', 'rubber', 'and', 'you', 'could', 'tell', 'they', 'had', 'been', 'made', 'up', 'ahead', 'of', 'time', 'being', 'kept', 'under', 'a', 'warmer'], ['the', 'fries', 'were', 'great', 'too'], ['a', 'great', 'touch'], ['service', 'was', 'very', 'prompt'], ['would', 'not', 'go', 'back'], ['the', 'cashier', 'had', 'no', 'care', 'what', 'so', 'ever', 'on', 'what', 'i', 'had', 'to', 'say', 'it', 'still', 'ended', 'up', 'being', 'wayyy', 'overpriced'], ['i', 'tried', 'the', 'cape', 'cod', 'ravoli', 'chickenwith', 'cranberrymmmm'], ['i', 'was', 'disgusted', 'because', 'i', 'was', 'pretty', 'sure', 'that', 'was', 'human', 'hair'], ['i', 'was', 'shocked', 'because', 'no', 'signs', 'indicate', 'cash', 'only'], ['highly', 'recommended'], ['waitress', 'was', 'a', 'little', 'slow', 'in', 'service'], ['this', 'place', 'is', 'not', 'worth', 'your', 'time', 'let', 'alone', 'vegas'], ['did', 'not', 'like', 'at', 'all'], ['the', 'burrittos', 'blah'], ['the', 'food', 'amazing'], ['service', 'is', 'also', 'cute'], ['i', 'could', 'care', 'less', 'the', 'interior', 'is', 'just', 'beautiful'], ['so', 'they', 'performed'], ['thats', 'rightthe', 'red', 'velvet', 'cakeohhh', 'this', 'stuff', 'is', 'so', 'good'], ['they', 'never', 'brought', 'a', 'salad', 'we', 'asked', 'for'], ['this', 'hole', 'in', 'the', 'wall', 'has', 'great', 'mexican', 'street', 'tacos', 'and', 'friendly', 'staff'], ['took', 'an', 'hour', 'to', 'get', 'our', 'food', 'only', 'tables', 'in', 'restaurant', 'my', 'food', 'was', 'luke', 'warm', 'our', 'sever', 'was', 'running', 'around', 'like', 'he', 'was', 'totally', 'overwhelmed'], ['the', 'worst', 'was', 'the', 'salmon', 'sashimi'], ['also', 'there', 'are', 'combos', 'like', 'a', 'burger', 'fries', 'and', 'beer', 'for', 'which', 'is', 'a', 'decent', 'deal'], ['this', 'was', 'like', 'the', 'final', 'blow'], ['i', 'found', 'this', 'place', 'by', 'accident', 'and', 'i', 'could', 'not', 'be', 'happier'], ['seems', 'like', 'a', 'good', 'quick', 'place', 'to', 'grab', 'a', 'bite', 'of', 'some', 'familiar', 'pub', 'food', 'but', 'do', 'yourself', 'a', 'favor', 'and', 'look', 'elsewhere'], ['overall', 'i', 'like', 'this', 'place', 'a', 'lot'], ['the', 'only', 'redeeming', 'quality', 'of', 'the', 'restaurant', 'was', 'that', 'it', 'was', 'very', 'inexpensive'], ['ample', 'portions', 'and', 'good', 'prices'], ['poor', 'service', 'the', 'waiter', 'made', 'me', 'feel', 'like', 'i', 'was', 'stupid', 'every', 'time', 'he', 'came', 'to', 'the', 'table'], ['my', 'first', 'visit', 'to', 'hiro', 'was', 'a', 'delight'], ['service', 'sucks'], ['the', 'shrimp', 'tender', 'and', 'moist'], ['there', 'is', 'not', 'a', 'deal', 'good', 'enough', 'that', 'would', 'drag', 'me', 'into', 'that', 'establishment', 'again'], ['hard', 'to', 'judge', 'whether', 'these', 'sides', 'were', 'good', 'because', 'we', 'were', 'grossed', 'out', 'by', 'the', 'melted', 'styrofoam', 'and', 'didnt', 'want', 'to', 'eat', 'it', 'for', 'fear', 'of', 'getting', 'sick'], ['on', 'a', 'positive', 'note', 'our', 'server', 'was', 'very', 'attentive', 'and', 'provided', 'great', 'service'], ['frozen', 'pucks', 'of', 'disgust', 'with', 'some', 'of', 'the', 'worst', 'people', 'behind', 'the', 'register'], ['the', 'only', 'thing', 'i', 'did', 'like', 'was', 'the', 'prime', 'rib', 'and', 'dessert', 'section'], ['its', 'too', 'bad', 'the', 'food', 'is', 'so', 'damn', 'generic'], ['the', 'burger', 'is', 'good', 'beef', 'cooked', 'just', 'right'], ['if', 'you', 'want', 'a', 'sandwich', 'just', 'go', 'to', 'any', 'firehouse'], ['my', 'side', 'greek', 'salad', 'with', 'the', 'greek', 'dressing', 'was', 'so', 'tasty', 'and', 'the', 'pita', 'and', 'hummus', 'was', 'very', 'refreshing'], ['we', 'ordered', 'the', 'duck', 'rare', 'and', 'it', 'was', 'pink', 'and', 'tender', 'on', 'the', 'inside', 'with', 'a', 'nice', 'char', 'on', 'the', 'outside'], ['he', 'came', 'running', 'after', 'us', 'when', 'he', 'realized', 'my', 'husband', 'had', 'left', 'his', 'sunglasses', 'on', 'the', 'table'], ['their', 'chow', 'mein', 'is', 'so', 'good'], ['they', 'have', 'horrible', 'attitudes', 'towards', 'customers', 'and', 'talk', 'down', 'to', 'each', 'one', 'when', 'customers', 'dont', 'enjoy', 'their', 'food'], ['the', 'portion', 'was', 'huge'], ['loved', 'itfriendly', 'servers', 'great', 'food', 'wonderful', 'and', 'imaginative', 'menu'], ['the', 'heart', 'attack', 'grill', 'in', 'downtown', 'vegas', 'is', 'an', 'absolutely', 'flatlined', 'excuse', 'for', 'a', 'restaurant'], ['not', 'much', 'seafood', 'and', 'like', 'strings', 'of', 'pasta', 'at', 'the', 'bottom'], ['the', 'salad', 'had', 'just', 'the', 'right', 'amount', 'of', 'sauce', 'to', 'not', 'over', 'power', 'the', 'scallop', 'which', 'was', 'perfectly', 'cooked'], ['the', 'ripped', 'banana', 'was', 'not', 'only', 'ripped', 'but', 'petrified', 'and', 'tasteless'], ['at', 'least', 'think', 'to', 'refill', 'my', 'water', 'before', 'i', 'struggle', 'to', 'wave', 'you', 'over', 'for', 'minutes'], ['this', 'place', 'receives', 'stars', 'for', 'their', 'appetizers'], ['the', 'cocktails', 'are', 'all', 'handmade', 'and', 'delicious'], ['wed', 'definitely', 'go', 'back', 'here', 'again'], ['we', 'are', 'so', 'glad', 'we', 'found', 'this', 'place'], ['great', 'food', 'and', 'service', 'huge', 'portions', 'and', 'they', 'give', 'a', 'military', 'discount'], ['always', 'a', 'great', 'time', 'at', 'dos', 'gringos'], ['updatewent', 'back', 'for', 'a', 'second', 'time', 'and', 'it', 'was', 'still', 'just', 'as', 'amazing'], ['we', 'got', 'the', 'food', 'and', 'apparently', 'they', 'have', 'never', 'heard', 'of', 'salt', 'and', 'the', 'batter', 'on', 'the', 'fish', 'was', 'chewy'], ['a', 'great', 'way', 'to', 'finish', 'a', 'great'], ['the', 'deal', 'included', 'tastings', 'and', 'drinks', 'and', 'jeff', 'went', 'above', 'and', 'beyond', 'what', 'we', 'expected'], ['really', 'really', 'good', 'rice', 'all', 'the', 'time'], ['the', 'service', 'was', 'meh'], ['it', 'took', 'over', 'min', 'to', 'get', 'their', 'milkshake', 'which', 'was', 'nothing', 'more', 'than', 'chocolate', 'milk'], ['i', 'guess', 'i', 'should', 'have', 'known', 'that', 'this', 'place', 'would', 'suck', 'because', 'it', 'is', 'inside', 'of', 'the', 'excalibur', 'but', 'i', 'didnt', 'use', 'my', 'common', 'sense'], ['the', 'scallop', 'dish', 'is', 'quite', 'appalling', 'for', 'value', 'as', 'well'], ['times', 'very', 'bad', 'customer', 'service'], ['the', 'sweet', 'potato', 'fries', 'were', 'very', 'good', 'and', 'seasoned', 'well'], ['today', 'is', 'the', 'second', 'time', 'ive', 'been', 'to', 'their', 'lunch', 'buffet', 'and', 'it', 'was', 'pretty', 'good'], ['there', 'is', 'so', 'much', 'good', 'food', 'in', 'vegas', 'that', 'i', 'feel', 'cheated', 'for', 'wasting', 'an', 'eating', 'opportunity', 'by', 'going', 'to', 'rice', 'and', 'company'], ['coming', 'here', 'is', 'like', 'experiencing', 'an', 'underwhelming', 'relationship', 'where', 'both', 'parties', 'cant', 'wait', 'for', 'the', 'other', 'person', 'to', 'ask', 'to', 'break', 'up'], ['walked', 'in', 'and', 'the', 'place', 'smelled', 'like', 'an', 'old', 'grease', 'trap', 'and', 'only', 'others', 'there', 'eating'], ['the', 'turkey', 'and', 'roast', 'beef', 'were', 'bland'], ['this', 'place', 'has', 'it'], ['the', 'pan', 'cakes', 'everyone', 'are', 'raving', 'about', 'taste', 'like', 'a', 'sugary', 'disaster', 'tailored', 'to', 'the', 'palate', 'of', 'a', 'six', 'year', 'old'], ['i', 'love', 'the', 'pho', 'and', 'the', 'spring', 'rolls', 'oh', 'so', 'yummy', 'you', 'have', 'to', 'try'], ['the', 'poor', 'batter', 'to', 'meat', 'ratio', 'made', 'the', 'chicken', 'tenders', 'very', 'unsatisfying'], ['all', 'i', 'have', 'to', 'say', 'is', 'the', 'food', 'was', 'amazing'], ['omelets', 'are', 'to', 'die', 'for'], ['everything', 'was', 'fresh', 'and', 'delicious'], ['in', 'summary', 'this', 'was', 'a', 'largely', 'disappointing', 'dining', 'experience'], ['its', 'like', 'a', 'really', 'sexy', 'party', 'in', 'your', 'mouth', 'where', 'youre', 'outrageously', 'flirting', 'with', 'the', 'hottest', 'person', 'at', 'the', 'party'], ['never', 'been', 'to', 'hard', 'rock', 'casino', 'before', 'will', 'never', 'ever', 'step', 'forward', 'in', 'it', 'again'], ['best', 'breakfast', 'buffet'], ['say', 'bye', 'bye', 'to', 'your', 'tip', 'lady'], ['well', 'never', 'go', 'again'], ['will', 'be', 'back', 'again'], ['food', 'arrived', 'quickly'], ['it', 'was', 'not', 'good'], ['on', 'the', 'up', 'side', 'their', 'cafe', 'serves', 'really', 'good', 'food'], ['our', 'server', 'was', 'fantastic', 'and', 'when', 'he', 'found', 'out', 'the', 'wife', 'loves', 'roasted', 'garlic', 'and', 'bone', 'marrow', 'he', 'added', 'extra', 'to', 'our', 'meal', 'and', 'another', 'marrow', 'to', 'go'], ['the', 'only', 'good', 'thing', 'was', 'our', 'waiter', 'he', 'was', 'very', 'helpful', 'and', 'kept', 'the', 'bloddy', 'marys', 'coming'], ['best', 'buffet', 'in', 'town', 'for', 'the', 'price', 'you', 'cannot', 'beat', 'it'], ['i', 'loved', 'their', 'mussels', 'cooked', 'in', 'this', 'wine', 'reduction', 'the', 'duck', 'was', 'tender', 'and', 'their', 'potato', 'dishes', 'were', 'delicious'], ['this', 'is', 'one', 'of', 'the', 'better', 'buffets', 'that', 'i', 'have', 'been', 'to'], ['so', 'we', 'went', 'to', 'tigerlilly', 'and', 'had', 'a', 'fantastic', 'afternoon'], ['the', 'food', 'was', 'delicious', 'our', 'bartender', 'was', 'attentive', 'and', 'personable', 'and', 'we', 'got', 'a', 'great', 'deal'], ['the', 'ambience', 'is', 'wonderful', 'and', 'there', 'is', 'music', 'playing'], ['will', 'go', 'back', 'next', 'trip', 'out'], ['sooooo', 'good'], ['real', 'sushi', 'lovers', 'lets', 'be', 'honest', 'yama', 'is', 'not', 'that', 'good'], ['at', 'least', 'min', 'passed', 'in', 'between', 'us', 'ordering', 'and', 'the', 'food', 'arriving', 'and', 'it', 'wasnt', 'that', 'busy'], ['this', 'is', 'a', 'really', 'fantastic', 'thai', 'restaurant', 'which', 'is', 'definitely', 'worth', 'a', 'visit'], ['nice', 'spicy', 'and', 'tender'], ['good', 'prices'], ['check', 'it', 'out'], ['it', 'was', 'pretty', 'gross'], ['ive', 'had', 'better', 'atmosphere'], ['kind', 'of', 'hard', 'to', 'mess', 'up', 'a', 'steak', 'but', 'they', 'did'], ['although', 'i', 'very', 'much', 'liked', 'the', 'look', 'and', 'sound', 'of', 'this', 'place', 'the', 'actual', 'experience', 'was', 'a', 'bit', 'disappointing'], ['i', 'just', 'dont', 'know', 'how', 'this', 'place', 'managed', 'to', 'served', 'the', 'blandest', 'food', 'i', 'have', 'ever', 'eaten', 'when', 'they', 'are', 'preparing', 'indian', 'cuisine'], ['worst', 'service', 'to', 'boot', 'but', 'that', 'is', 'the', 'least', 'of', 'their', 'worries'], ['service', 'was', 'fine', 'and', 'the', 'waitress', 'was', 'friendly'], ['the', 'guys', 'all', 'had', 'steaks', 'and', 'our', 'steak', 'loving', 'son', 'who', 'has', 'had', 'steak', 'at', 'the', 'best', 'and', 'worst', 'places', 'said', 'it', 'was', 'the', 'best', 'steak', 'hes', 'ever', 'eaten'], ['we', 'thought', 'youd', 'have', 'to', 'venture', 'further', 'away', 'to', 'get', 'good', 'sushi', 'but', 'this', 'place', 'really', 'hit', 'the', 'spot', 'that', 'night'], ['host', 'staff', 'were', 'for', 'lack', 'of', 'a', 'better', 'word', 'bitches'], ['bland', 'not', 'a', 'liking', 'this', 'place', 'for', 'a', 'number', 'of', 'reasons', 'and', 'i', 'dont', 'want', 'to', 'waste', 'time', 'on', 'bad', 'reviewing', 'ill', 'leave', 'it', 'at', 'that'], ['phenomenal', 'food', 'service', 'and', 'ambiance'], ['i', 'wouldnt', 'return'], ['definitely', 'worth', 'venturing', 'off', 'the', 'strip', 'for', 'the', 'pork', 'belly', 'will', 'return', 'next', 'time', 'im', 'in', 'vegas'], ['this', 'place', 'is', 'way', 'too', 'overpriced', 'for', 'mediocre', 'food'], ['penne', 'vodka', 'excellent'], ['they', 'have', 'a', 'good', 'selection', 'of', 'food', 'including', 'a', 'massive', 'meatloaf', 'sandwich', 'a', 'crispy', 'chicken', 'wrap', 'a', 'delish', 'tuna', 'melt', 'and', 'some', 'tasty', 'burgers'], ['the', 'management', 'is', 'rude'], ['delicious', 'nyc', 'bagels', 'good', 'selections', 'of', 'cream', 'cheese', 'real', 'lox', 'with', 'capers', 'even'], ['great', 'subway', 'in', 'fact', 'its', 'so', 'good', 'when', 'you', 'come', 'here', 'every', 'other', 'subway', 'will', 'not', 'meet', 'your', 'expectations'], ['i', 'had', 'a', 'seriously', 'solid', 'breakfast', 'here'], ['this', 'is', 'one', 'of', 'the', 'best', 'bars', 'with', 'food', 'in', 'vegas'], ['he', 'was', 'extremely', 'rude', 'and', 'really', 'there', 'are', 'so', 'many', 'other', 'restaurants', 'i', 'would', 'love', 'to', 'dine', 'at', 'during', 'a', 'weekend', 'in', 'vegas'], ['my', 'drink', 'was', 'never', 'empty', 'and', 'he', 'made', 'some', 'really', 'great', 'menu', 'suggestions'], ['dont', 'do', 'it'], ['the', 'waiter', 'wasnt', 'helpful', 'or', 'friendly', 'and', 'rarely', 'checked', 'on', 'us'], ['my', 'husband', 'and', 'i', 'ate', 'lunch', 'here', 'and', 'were', 'very', 'disappointed', 'with', 'the', 'food', 'and', 'service'], ['and', 'the', 'red', 'curry', 'had', 'so', 'much', 'bamboo', 'shoots', 'and', 'wasnt', 'very', 'tasty', 'to', 'me'], ['nice', 'blanket', 'of', 'moz', 'over', 'top', 'but', 'i', 'feel', 'like', 'this', 'was', 'done', 'to', 'cover', 'up', 'the', 'subpar', 'food'], ['the', 'bathrooms', 'are', 'clean', 'and', 'the', 'place', 'itself', 'is', 'well', 'decorated'], ['the', 'menu', 'is', 'always', 'changing', 'food', 'quality', 'is', 'going', 'down', 'service', 'is', 'extremely', 'slow'], ['the', 'service', 'was', 'a', 'little', 'slow', 'considering', 'that', 'were', 'served', 'by', 'people', 'servers', 'so', 'the', 'food', 'was', 'coming', 'in', 'a', 'slow', 'pace'], ['i', 'give', 'it', 'thumbs', 'down'], ['we', 'watched', 'our', 'waiter', 'pay', 'a', 'lot', 'more', 'attention', 'to', 'other', 'tables', 'and', 'ignore', 'us'], ['my', 'fianc', 'and', 'i', 'came', 'in', 'the', 'middle', 'of', 'the', 'day', 'and', 'we', 'were', 'greeted', 'and', 'seated', 'right', 'away'], ['this', 'is', 'a', 'great', 'restaurant', 'at', 'the', 'mandalay', 'bay'], ['we', 'waited', 'for', 'forty', 'five', 'minutes', 'in', 'vain'], ['crostini', 'that', 'came', 'with', 'the', 'salad', 'was', 'stale'], ['some', 'highlights', 'great', 'quality', 'nigiri', 'here'], ['the', 'staff', 'is', 'friendly', 'and', 'the', 'joint', 'is', 'always', 'clean'], ['this', 'was', 'a', 'different', 'cut', 'than', 'the', 'piece', 'the', 'other', 'day', 'but', 'still', 'wonderful', 'and', 'tender', 's', 'well', 'as', 'well', 'flavored'], ['i', 'ordered', 'the', 'voodoo', 'pasta', 'and', 'it', 'was', 'the', 'first', 'time', 'id', 'had', 'really', 'excellent', 'pasta', 'since', 'going', 'gluten', 'free', 'several', 'years', 'ago'], ['this', 'place', 'is', 'good'], ['unfortunately', 'we', 'must', 'have', 'hit', 'the', 'bakery', 'on', 'leftover', 'day', 'because', 'everything', 'we', 'ordered', 'was', 'stale'], ['i', 'came', 'back', 'today', 'since', 'they', 'relocated', 'and', 'still', 'not', 'impressed'], ['i', 'was', 'seated', 'immediately'], ['their', 'menu', 'is', 'diverse', 'and', 'reasonably', 'priced'], ['avoid', 'at', 'all', 'cost'], ['restaurant', 'is', 'always', 'full', 'but', 'never', 'a', 'wait'], ['delicious'], ['this', 'place', 'is', 'handsdown', 'one', 'of', 'the', 'best', 'places', 'to', 'eat', 'in', 'the', 'phoenix', 'metro', 'area'], ['so', 'dont', 'go', 'there', 'if', 'you', 'are', 'looking', 'for', 'good', 'food'], ['ive', 'never', 'been', 'treated', 'so', 'bad'], ['bacon', 'is', 'hella', 'salty'], ['we', 'also', 'ordered', 'the', 'spinach', 'and', 'avocado', 'salad', 'the', 'ingredients', 'were', 'sad', 'and', 'the', 'dressing', 'literally', 'had', 'zero', 'taste'], ['this', 'really', 'is', 'how', 'vegas', 'fine', 'dining', 'used', 'to', 'be', 'right', 'down', 'to', 'the', 'menus', 'handed', 'to', 'the', 'ladies', 'that', 'have', 'no', 'prices', 'listed'], ['the', 'waitresses', 'are', 'very', 'friendly'], ['lordy', 'the', 'khao', 'soi', 'is', 'a', 'dish', 'that', 'is', 'not', 'to', 'be', 'missed', 'for', 'curry', 'lovers'], ['everything', 'on', 'the', 'menu', 'is', 'terrific', 'and', 'we', 'were', 'also', 'thrilled', 'that', 'they', 'made', 'amazing', 'accommodations', 'for', 'our', 'vegetarian', 'daughter'], ['perhaps', 'i', 'caught', 'them', 'on', 'an', 'off', 'night', 'judging', 'by', 'the', 'other', 'reviews', 'but', 'im', 'not', 'inspired', 'to', 'go', 'back'], ['the', 'service', 'here', 'leaves', 'a', 'lot', 'to', 'be', 'desired'], ['the', 'atmosphere', 'is', 'modern', 'and', 'hip', 'while', 'maintaining', 'a', 'touch', 'of', 'coziness'], ['not', 'a', 'weekly', 'haunt', 'but', 'definitely', 'a', 'place', 'to', 'come', 'back', 'to', 'every', 'once', 'in', 'a', 'while'], ['we', 'literally', 'sat', 'there', 'for', 'minutes', 'with', 'no', 'one', 'asking', 'to', 'take', 'our', 'order'], ['the', 'burger', 'had', 'absolutely', 'no', 'flavor', 'the', 'meat', 'itself', 'was', 'totally', 'bland', 'the', 'burger', 'was', 'overcooked', 'and', 'there', 'was', 'no', 'charcoal', 'flavor'], ['i', 'also', 'decided', 'not', 'to', 'send', 'it', 'back', 'because', 'our', 'waitress', 'looked', 'like', 'she', 'was', 'on', 'the', 'verge', 'of', 'having', 'a', 'heart', 'attack'], ['i', 'dressed', 'up', 'to', 'be', 'treated', 'so', 'rudely'], ['it', 'was', 'probably', 'dirt'], ['love', 'this', 'place', 'hits', 'the', 'spot', 'when', 'i', 'want', 'something', 'healthy', 'but', 'not', 'lacking', 'in', 'quantity', 'or', 'flavor'], ['i', 'ordered', 'the', 'lemon', 'raspberry', 'ice', 'cocktail', 'which', 'was', 'also', 'incredible'], ['the', 'food', 'sucked', 'which', 'we', 'expected', 'but', 'it', 'sucked', 'more', 'than', 'we', 'could', 'have', 'imagined'], ['interesting', 'decor'], ['what', 'i', 'really', 'like', 'there', 'is', 'the', 'crepe', 'station'], ['also', 'were', 'served', 'hot', 'bread', 'and', 'butter', 'and', 'home', 'made', 'potato', 'chips', 'with', 'bacon', 'bits', 'on', 'topvery', 'original', 'and', 'very', 'good'], ['you', 'can', 'watch', 'them', 'preparing', 'the', 'delicious', 'food'], ['both', 'of', 'the', 'egg', 'rolls', 'were', 'fantastic'], ['when', 'my', 'order', 'arrived', 'one', 'of', 'the', 'gyros', 'was', 'missing'], ['i', 'had', 'a', 'salad', 'with', 'the', 'wings', 'and', 'some', 'ice', 'cream', 'for', 'dessert', 'and', 'left', 'feeling', 'quite', 'satisfied'], ['im', 'not', 'really', 'sure', 'how', 'joeys', 'was', 'voted', 'best', 'hot', 'dog', 'in', 'the', 'valley', 'by', 'readers', 'of', 'phoenix', 'magazine'], ['the', 'best', 'place', 'to', 'go', 'for', 'a', 'tasty', 'bowl', 'of', 'pho'], ['the', 'live', 'music', 'on', 'fridays', 'totally', 'blows'], ['ive', 'never', 'been', 'more', 'insulted', 'or', 'felt', 'disrespected'], ['very', 'friendly', 'staff'], ['it', 'is', 'worth', 'the', 'drive'], ['i', 'had', 'heard', 'good', 'things', 'about', 'this', 'place', 'but', 'it', 'exceeding', 'every', 'hope', 'i', 'could', 'have', 'dreamed', 'of'], ['food', 'was', 'great', 'and', 'so', 'was', 'the', 'serivce'], ['the', 'warm', 'beer', 'didnt', 'help'], ['great', 'brunch', 'spot'], ['service', 'is', 'friendly', 'and', 'inviting'], ['very', 'good', 'lunch', 'spot'], ['ive', 'lived', 'here', 'since', 'and', 'this', 'was', 'the', 'first', 'and', 'last', 'time', 'ive', 'stepped', 'foot', 'into', 'this', 'place'], ['the', 'worst', 'experience', 'ever'], ['must', 'have', 'been', 'an', 'off', 'night', 'at', 'this', 'place'], ['the', 'sides', 'are', 'delish', 'mixed', 'mushrooms', 'yukon', 'gold', 'puree', 'white', 'corn', 'beateous'], ['if', 'that', 'bug', 'never', 'showed', 'up', 'i', 'would', 'have', 'given', 'a', 'for', 'sure', 'but', 'on', 'the', 'other', 'side', 'of', 'the', 'wall', 'where', 'this', 'bug', 'was', 'climbing', 'was', 'the', 'kitchen'], ['for', 'about', 'minutes', 'we', 'were', 'waiting', 'for', 'her', 'salad', 'when', 'we', 'realized', 'that', 'it', 'wasnt', 'coming', 'any', 'time', 'soon'], ['my', 'friend', 'loved', 'the', 'salmon', 'tartar'], ['wont', 'go', 'back'], ['extremely', 'tasty'], ['waitress', 'was', 'good', 'though'], ['soggy', 'and', 'not', 'good'], ['the', 'jamaican', 'mojitos', 'are', 'delicious'], ['which', 'are', 'small', 'and', 'not', 'worth', 'the', 'price'], ['the', 'food', 'is', 'rich', 'so', 'order', 'accordingly'], ['the', 'shower', 'area', 'is', 'outside', 'so', 'you', 'can', 'only', 'rinse', 'not', 'take', 'a', 'full', 'shower', 'unless', 'you', 'dont', 'mind', 'being', 'nude', 'for', 'everyone', 'to', 'see'], ['the', 'service', 'was', 'a', 'bit', 'lacking'], ['lobster', 'bisque', 'bussell', 'sprouts', 'risotto', 'filet', 'all', 'needed', 'salt', 'and', 'pepperand', 'of', 'course', 'there', 'is', 'none', 'at', 'the', 'tables'], ['hopefully', 'this', 'bodes', 'for', 'them', 'going', 'out', 'of', 'business', 'and', 'someone', 'who', 'can', 'cook', 'can', 'come', 'in'], ['it', 'was', 'either', 'too', 'cold', 'not', 'enough', 'flavor', 'or', 'just', 'bad'], ['i', 'loved', 'the', 'bacon', 'wrapped', 'dates'], ['this', 'is', 'an', 'unbelievable', 'bargain'], ['the', 'folks', 'at', 'otto', 'always', 'make', 'us', 'feel', 'so', 'welcome', 'and', 'special'], ['as', 'for', 'the', 'mains', 'also', 'uninspired'], ['this', 'is', 'the', 'place', 'where', 'i', 'first', 'had', 'pho', 'and', 'it', 'was', 'amazing'], ['this', 'wonderful', 'experience', 'made', 'this', 'place', 'a', 'muststop', 'whenever', 'we', 'are', 'in', 'town', 'again'], ['if', 'the', 'food', 'isnt', 'bad', 'enough', 'for', 'you', 'then', 'enjoy', 'dealing', 'with', 'the', 'worlds', 'worstannoying', 'drunk', 'people'], ['very', 'very', 'fun', 'chef'], ['ordered', 'a', 'double', 'cheeseburger', 'got', 'a', 'single', 'patty', 'that', 'was', 'falling', 'apart', 'picture', 'uploaded', 'yeah', 'still', 'sucks'], ['great', 'place', 'to', 'have', 'a', 'couple', 'drinks', 'and', 'watch', 'any', 'and', 'all', 'sporting', 'events', 'as', 'the', 'walls', 'are', 'covered', 'with', 'tvs'], ['if', 'it', 'were', 'possible', 'to', 'give', 'them', 'zero', 'stars', 'theyd', 'have', 'it'], ['the', 'descriptions', 'said', 'yum', 'yum', 'sauce', 'and', 'another', 'said', 'eel', 'sauce', 'yet', 'another', 'said', 'spicy', 'mayowell', 'none', 'of', 'the', 'rolls', 'had', 'sauces', 'on', 'them'], ['id', 'say', 'that', 'would', 'be', 'the', 'hardest', 'decision', 'honestly', 'all', 'of', 'ms', 'dishes', 'taste', 'how', 'they', 'are', 'supposed', 'to', 'taste', 'amazing'], ['if', 'she', 'had', 'not', 'rolled', 'the', 'eyes', 'we', 'may', 'have', 'stayed', 'not', 'sure', 'if', 'we', 'will', 'go', 'back', 'and', 'try', 'it', 'again'], ['everyone', 'is', 'very', 'attentive', 'providing', 'excellent', 'customer', 'service'], ['horrible', 'dont', 'waste', 'your', 'time', 'and', 'money'], ['now', 'this', 'dish', 'was', 'quite', 'flavourful'], ['by', 'this', 'time', 'our', 'side', 'of', 'the', 'restaurant', 'was', 'almost', 'empty', 'so', 'there', 'was', 'no', 'excuse'], ['it', 'wasnt', 'busy', 'either', 'also', 'the', 'building', 'was', 'freezing', 'cold'], ['like', 'the', 'other', 'reviewer', 'said', 'you', 'couldnt', 'pay', 'me', 'to', 'eat', 'at', 'this', 'place', 'again'], ['drinks', 'took', 'close', 'to', 'minutes', 'to', 'come', 'out', 'at', 'one', 'point'], ['seriously', 'flavorful', 'delights', 'folks'], ['much', 'better', 'than', 'the', 'other', 'ayce', 'sushi', 'place', 'i', 'went', 'to', 'in', 'vegas'], ['the', 'lighting', 'is', 'just', 'dark', 'enough', 'to', 'set', 'the', 'mood'], ['based', 'on', 'the', 'subpar', 'service', 'i', 'received', 'and', 'no', 'effort', 'to', 'show', 'their', 'gratitude', 'for', 'my', 'business', 'i', 'wont', 'be', 'going', 'back'], ['owners', 'are', 'really', 'great', 'people'], ['there', 'is', 'nothing', 'privileged', 'about', 'workingeating', 'there'], ['the', 'greek', 'dressing', 'was', 'very', 'creamy', 'and', 'flavorful'], ['overall', 'i', 'dont', 'think', 'that', 'i', 'would', 'take', 'my', 'parents', 'to', 'this', 'place', 'again', 'because', 'they', 'made', 'most', 'of', 'the', 'similar', 'complaints', 'that', 'i', 'silently', 'felt', 'too'], ['now', 'the', 'pizza', 'itself', 'was', 'good', 'the', 'peanut', 'sauce', 'was', 'very', 'tasty'], ['we', 'had', 'at', 'our', 'table', 'and', 'the', 'service', 'was', 'pretty', 'fast'], ['fantastic', 'service', 'here'], ['i', 'as', 'well', 'wouldve', 'given', 'godfathers', 'zero', 'stars', 'if', 'possible'], ['they', 'know', 'how', 'to', 'make', 'them', 'here'], ['very', 'tough', 'and', 'very', 'short', 'on', 'flavor'], ['i', 'hope', 'this', 'place', 'sticks', 'around'], ['i', 'have', 'been', 'in', 'more', 'than', 'a', 'few', 'bars', 'in', 'vegas', 'and', 'do', 'not', 'ever', 'recall', 'being', 'charged', 'for', 'tap', 'water'], ['the', 'restaurant', 'atmosphere', 'was', 'exquisite'], ['good', 'service', 'very', 'clean', 'and', 'inexpensive', 'to', 'boot'], ['the', 'seafood', 'was', 'fresh', 'and', 'generous', 'in', 'portion'], ['plus', 'its', 'only', 'bucks'], ['the', 'service', 'was', 'not', 'up', 'to', 'par', 'either'], ['thus', 'far', 'have', 'only', 'visited', 'twice', 'and', 'the', 'food', 'was', 'absolutely', 'delicious', 'each', 'time'], ['just', 'as', 'good', 'as', 'when', 'i', 'had', 'it', 'more', 'than', 'a', 'year', 'ago'], ['for', 'a', 'self', 'proclaimed', 'coffee', 'cafe', 'i', 'was', 'wildly', 'disappointed'], ['the', 'veggitarian', 'platter', 'is', 'out', 'of', 'this', 'world'], ['you', 'cant', 'go', 'wrong', 'with', 'any', 'of', 'the', 'food', 'here'], ['you', 'cant', 'beat', 'that'], ['stopped', 'by', 'this', 'place', 'while', 'in', 'madison', 'for', 'the', 'ironman', 'very', 'friendly', 'kind', 'staff'], ['the', 'chefs', 'were', 'friendly', 'and', 'did', 'a', 'good', 'job'], ['ive', 'had', 'better', 'not', 'only', 'from', 'dedicated', 'boba', 'tea', 'spots', 'but', 'even', 'from', 'jenni', 'pho'], ['i', 'liked', 'the', 'patio', 'and', 'the', 'service', 'was', 'outstanding'], ['the', 'goat', 'taco', 'didnt', 'skimp', 'on', 'the', 'meat', 'and', 'wow', 'what', 'flavor'], ['i', 'think', 'not', 'again'], ['i', 'had', 'the', 'mac', 'salad', 'and', 'it', 'was', 'pretty', 'bland', 'so', 'i', 'will', 'not', 'be', 'getting', 'that', 'again'], ['i', 'went', 'to', 'bachi', 'burger', 'on', 'a', 'friends', 'recommendation', 'and', 'was', 'not', 'disappointed'], ['service', 'stinks', 'here'], ['i', 'waited', 'and', 'waited'], ['this', 'place', 'is', 'not', 'quality', 'sushi', 'it', 'is', 'not', 'a', 'quality', 'restaurant'], ['i', 'would', 'definitely', 'recommend', 'the', 'wings', 'as', 'well', 'as', 'the', 'pizza'], ['great', 'pizza', 'and', 'salads'], ['things', 'that', 'went', 'wrong', 'they', 'burned', 'the', 'saganaki'], ['we', 'waited', 'an', 'hour', 'for', 'what', 'was', 'a', 'breakfast', 'i', 'could', 'have', 'done', 'times', 'better', 'at', 'home'], ['this', 'place', 'is', 'amazing'], ['i', 'hate', 'to', 'disagree', 'with', 'my', 'fellow', 'yelpers', 'but', 'my', 'husband', 'and', 'i', 'were', 'so', 'disappointed', 'with', 'this', 'place'], ['waited', 'hours', 'never', 'got', 'either', 'of', 'our', 'pizzas', 'as', 'many', 'other', 'around', 'us', 'who', 'came', 'in', 'later', 'did'], ['just', 'dont', 'know', 'why', 'they', 'were', 'so', 'slow'], ['the', 'staff', 'is', 'great', 'the', 'food', 'is', 'delish', 'and', 'they', 'have', 'an', 'incredible', 'beer', 'selection'], ['i', 'live', 'in', 'the', 'neighborhood', 'so', 'i', 'am', 'disappointed', 'i', 'wont', 'be', 'back', 'here', 'because', 'it', 'is', 'a', 'convenient', 'location'], ['i', 'didnt', 'know', 'pulled', 'pork', 'could', 'be', 'soooo', 'delicious'], ['you', 'get', 'incredibly', 'fresh', 'fish', 'prepared', 'with', 'care'], ['before', 'i', 'go', 'in', 'to', 'why', 'i', 'gave', 'a', 'star', 'rating', 'please', 'know', 'that', 'this', 'was', 'my', 'third', 'time', 'eating', 'at', 'bachi', 'burger', 'before', 'writing', 'a', 'review'], ['i', 'love', 'the', 'fact', 'that', 'everything', 'on', 'their', 'menu', 'is', 'worth', 'it'], ['never', 'again', 'will', 'i', 'be', 'dining', 'at', 'this', 'place'], ['the', 'food', 'was', 'excellent', 'and', 'service', 'was', 'very', 'good'], ['good', 'beer', 'drink', 'selection', 'and', 'good', 'food', 'selection'], ['please', 'stay', 'away', 'from', 'the', 'shrimp', 'stir', 'fried', 'noodles'], ['the', 'potato', 'chip', 'order', 'was', 'sad', 'i', 'could', 'probably', 'count', 'how', 'many', 'chips', 'were', 'in', 'that', 'box', 'and', 'it', 'was', 'probably', 'around'], ['food', 'was', 'really', 'boring'], ['good', 'servicecheck'], ['this', 'greedy', 'corporation', 'will', 'never', 'see', 'another', 'dime', 'from', 'me'], ['will', 'never', 'ever', 'go', 'back'], ['as', 'much', 'as', 'id', 'like', 'to', 'go', 'back', 'i', 'cant', 'get', 'passed', 'the', 'atrocious', 'service', 'and', 'will', 'never', 'return'], ['in', 'the', 'summer', 'you', 'can', 'dine', 'in', 'a', 'charming', 'outdoor', 'patio', 'so', 'very', 'delightful'], ['i', 'did', 'not', 'expect', 'this', 'to', 'be', 'so', 'good'], ['fantastic', 'food'], ['she', 'ordered', 'a', 'toasted', 'english', 'muffin', 'that', 'came', 'out', 'untoasted'], ['the', 'food', 'was', 'very', 'good'], ['never', 'going', 'back'], ['great', 'food', 'for', 'the', 'price', 'which', 'is', 'very', 'high', 'quality', 'and', 'house', 'made'], ['the', 'bus', 'boy', 'on', 'the', 'other', 'hand', 'was', 'so', 'rude'], ['by', 'this', 'point', 'my', 'friends', 'and', 'i', 'had', 'basically', 'figured', 'out', 'this', 'place', 'was', 'a', 'joke', 'and', 'didnt', 'mind', 'making', 'it', 'publicly', 'and', 'loudly', 'known'], ['back', 'to', 'good', 'bbq', 'lighter', 'fare', 'reasonable', 'pricing', 'and', 'tell', 'the', 'public', 'they', 'are', 'back', 'to', 'the', 'old', 'ways'], ['and', 'considering', 'the', 'two', 'of', 'us', 'left', 'there', 'very', 'full', 'and', 'happy', 'for', 'about', 'you', 'just', 'cant', 'go', 'wrong'], ['all', 'the', 'bread', 'is', 'made', 'inhouse'], ['the', 'only', 'downside', 'is', 'the', 'service'], ['also', 'the', 'fries', 'are', 'without', 'a', 'doubt', 'the', 'worst', 'fries', 'ive', 'ever', 'had'], ['service', 'was', 'exceptional', 'and', 'food', 'was', 'a', 'good', 'as', 'all', 'the', 'reviews'], ['a', 'couple', 'of', 'months', 'later', 'i', 'returned', 'and', 'had', 'an', 'amazing', 'meal'], ['favorite', 'place', 'in', 'town', 'for', 'shawarrrrrrma'], ['the', 'black', 'eyed', 'peas', 'and', 'sweet', 'potatoes', 'unreal'], ['you', 'wont', 'be', 'disappointed'], ['they', 'could', 'serve', 'it', 'with', 'just', 'the', 'vinaigrette', 'and', 'it', 'may', 'make', 'for', 'a', 'better', 'overall', 'dish', 'but', 'it', 'was', 'still', 'very', 'good'], ['i', 'go', 'to', 'far', 'too', 'many', 'places', 'and', 'ive', 'never', 'seen', 'any', 'restaurant', 'that', 'serves', 'a', 'egg', 'breakfast', 'especially', 'for'], ['when', 'my', 'mom', 'and', 'i', 'got', 'home', 'she', 'immediately', 'got', 'sick', 'and', 'she', 'only', 'had', 'a', 'few', 'bites', 'of', 'salad'], ['the', 'servers', 'are', 'not', 'pleasant', 'to', 'deal', 'with', 'and', 'they', 'dont', 'always', 'honor', 'pizza', 'hut', 'coupons'], ['both', 'of', 'them', 'were', 'truly', 'unbelievably', 'good', 'and', 'i', 'am', 'so', 'glad', 'we', 'went', 'back'], ['we', 'had', 'fantastic', 'service', 'and', 'were', 'pleased', 'by', 'the', 'atmosphere'], ['everything', 'was', 'gross'], ['i', 'love', 'this', 'place'], ['great', 'service', 'and', 'food'], ['first', 'the', 'bathrooms', 'at', 'this', 'location', 'were', 'dirty', 'seat', 'covers', 'were', 'not', 'replenished', 'just', 'plain', 'yucky'], ['the', 'burger', 'i', 'got', 'the', 'gold', 'standard', 'a', 'burger', 'and', 'was', 'kind', 'of', 'disappointed'], ['omg', 'the', 'food', 'was', 'delicioso'], ['there', 'is', 'nothing', 'authentic', 'about', 'this', 'place'], ['the', 'spaghetti', 'is', 'nothing', 'special', 'whatsoever'], ['of', 'all', 'the', 'dishes', 'the', 'salmon', 'was', 'the', 'best', 'but', 'all', 'were', 'great'], ['the', 'vegetables', 'are', 'so', 'fresh', 'and', 'the', 'sauce', 'feels', 'like', 'authentic', 'thai'], ['its', 'worth', 'driving', 'up', 'from', 'tucson'], ['the', 'selection', 'was', 'probably', 'the', 'worst', 'ive', 'seen', 'in', 'vegasthere', 'was', 'none'], ['pretty', 'good', 'beer', 'selection', 'too'], ['this', 'place', 'is', 'like', 'chipotle', 'but', 'better'], ['classywarm', 'atmosphere', 'fun', 'and', 'fresh', 'appetizers', 'succulent', 'steaks', 'baseball', 'steak'], ['stars', 'for', 'the', 'brick', 'oven', 'bread', 'app'], ['i', 'have', 'eaten', 'here', 'multiple', 'times', 'and', 'each', 'time', 'the', 'food', 'was', 'delicious'], ['we', 'sat', 'another', 'ten', 'minutes', 'and', 'finally', 'gave', 'up', 'and', 'left'], ['he', 'was', 'terrible'], ['everyone', 'is', 'treated', 'equally', 'special'], ['it', 'shouldnt', 'take', 'min', 'for', 'pancakes', 'and', 'eggs'], ['it', 'was', 'delicious'], ['on', 'the', 'good', 'side', 'the', 'staff', 'was', 'genuinely', 'pleasant', 'and', 'enthusiastic', 'a', 'real', 'treat'], ['sadly', 'gordon', 'ramseys', 'steak', 'is', 'a', 'place', 'we', 'shall', 'sharply', 'avoid', 'during', 'our', 'next', 'trip', 'to', 'vegas'], ['as', 'always', 'the', 'evening', 'was', 'wonderful', 'and', 'the', 'food', 'delicious'], ['best', 'fish', 'ive', 'ever', 'had', 'in', 'my', 'life'], ['the', 'bathroom', 'is', 'just', 'next', 'door', 'and', 'very', 'nice'], ['the', 'buffet', 'is', 'small', 'and', 'all', 'the', 'food', 'they', 'offered', 'was', 'bland'], ['this', 'is', 'an', 'outstanding', 'little', 'restaurant', 'with', 'some', 'of', 'the', 'best', 'food', 'i', 'have', 'ever', 'tasted'], ['pretty', 'cool', 'i', 'would', 'say'], ['definitely', 'a', 'turn', 'off', 'for', 'me', 'i', 'doubt', 'ill', 'be', 'back', 'unless', 'someone', 'else', 'is', 'buying'], ['server', 'did', 'a', 'great', 'job', 'handling', 'our', 'large', 'rowdy', 'table'], ['i', 'find', 'wasting', 'food', 'to', 'be', 'despicable', 'but', 'this', 'just', 'wasnt', 'food'], ['my', 'wife', 'had', 'the', 'lobster', 'bisque', 'soup', 'which', 'was', 'lukewarm'], ['would', 'come', 'back', 'again', 'if', 'i', 'had', 'a', 'sushi', 'craving', 'while', 'in', 'vegas'], ['the', 'staff', 'are', 'great', 'the', 'ambiance', 'is', 'great'], ['he', 'deserves', 'stars'], ['i', 'left', 'with', 'a', 'stomach', 'ache', 'and', 'felt', 'sick', 'the', 'rest', 'of', 'the', 'day'], ['they', 'dropped', 'more', 'than', 'the', 'ball'], ['the', 'dining', 'space', 'is', 'tiny', 'but', 'elegantly', 'decorated', 'and', 'comfortable'], ['they', 'will', 'customize', 'your', 'order', 'any', 'way', 'youd', 'like', 'my', 'usual', 'is', 'eggplant', 'with', 'green', 'bean', 'stir', 'fry', 'love', 'it'], ['and', 'the', 'beans', 'and', 'rice', 'were', 'mediocre', 'at', 'best'], ['best', 'tacos', 'in', 'town', 'by', 'far'], ['i', 'took', 'back', 'my', 'money', 'and', 'got', 'outta', 'there'], ['in', 'an', 'interesting', 'part', 'of', 'town', 'this', 'place', 'is', 'amazing'], ['rude', 'inconsiderate', 'management'], ['the', 'staff', 'are', 'now', 'not', 'as', 'friendly', 'the', 'wait', 'times', 'for', 'being', 'served', 'are', 'horrible', 'no', 'one', 'even', 'says', 'hi', 'for', 'the', 'first', 'minutes'], ['i', 'wont', 'be', 'back'], ['they', 'have', 'great', 'dinners'], ['the', 'service', 'was', 'outshining', 'i', 'definitely', 'recommend', 'the', 'halibut'], ['the', 'food', 'was', 'terrible'], ['will', 'never', 'ever', 'go', 'back', 'and', 'have', 'told', 'many', 'people', 'what', 'had', 'happened'], ['i', 'dont', 'recommend', 'unless', 'your', 'car', 'breaks', 'down', 'in', 'front', 'of', 'it', 'and', 'you', 'are', 'starving'], ['i', 'will', 'come', 'back', 'here', 'every', 'time', 'im', 'in', 'vegas'], ['this', 'place', 'deserves', 'one', 'star', 'and', 'has', 'to', 'do', 'with', 'the', 'food'], ['this', 'is', 'a', 'disgrace'], ['def', 'coming', 'back', 'to', 'bowl', 'next', 'time'], ['if', 'you', 'want', 'healthy', 'authentic', 'or', 'ethic', 'food', 'try', 'this', 'place'], ['i', 'will', 'continue', 'to', 'come', 'here', 'on', 'ladies', 'night', 'andddd', 'date', 'night', 'highly', 'recommend', 'this', 'place', 'to', 'anyone', 'who', 'is', 'in', 'the', 'area'], ['i', 'have', 'been', 'here', 'several', 'times', 'in', 'the', 'past', 'and', 'the', 'experience', 'has', 'always', 'been', 'great'], ['we', 'walked', 'away', 'stuffed', 'and', 'happy', 'about', 'our', 'first', 'vegas', 'buffet', 'experience'], ['service', 'was', 'excellent', 'and', 'prices', 'are', 'pretty', 'reasonable', 'considering', 'this', 'is', 'vegas', 'and', 'located', 'inside', 'the', 'crystals', 'shopping', 'mall', 'by', 'aria'], ['to', 'summarize', 'the', 'food', 'was', 'incredible', 'nay', 'transcendant', 'but', 'nothing', 'brings', 'me', 'joy', 'quite', 'like', 'the', 'memory', 'of', 'the', 'pneumatic', 'condiment', 'dispenser'], ['im', 'probably', 'one', 'of', 'the', 'few', 'people', 'to', 'ever', 'go', 'to', 'ians', 'and', 'not', 'like', 'it'], ['kids', 'pizza', 'is', 'always', 'a', 'hit', 'too', 'with', 'lots', 'of', 'great', 'side', 'dish', 'options', 'for', 'the', 'kiddos'], ['service', 'is', 'perfect', 'and', 'the', 'family', 'atmosphere', 'is', 'nice', 'to', 'see'], ['cooked', 'to', 'perfection', 'and', 'the', 'service', 'was', 'impeccable'], ['this', 'one', 'is', 'simply', 'a', 'disappointment'], ['overall', 'i', 'was', 'very', 'disappointed', 'with', 'the', 'quality', 'of', 'food', 'at', 'bouchon'], ['i', 'dont', 'have', 'to', 'be', 'an', 'accountant', 'to', 'know', 'im', 'getting', 'screwed'], ['great', 'place', 'to', 'eat', 'reminds', 'me', 'of', 'the', 'little', 'mom', 'and', 'pop', 'shops', 'in', 'the', 'san', 'francisco', 'bay', 'area'], ['today', 'was', 'my', 'first', 'taste', 'of', 'a', 'buldogis', 'gourmet', 'hot', 'dog', 'and', 'i', 'have', 'to', 'tell', 'you', 'it', 'was', 'more', 'than', 'i', 'ever', 'thought', 'possible'], ['left', 'very', 'frustrated'], ['ill', 'definitely', 'be', 'in', 'soon', 'again'], ['food', 'was', 'really', 'good', 'and', 'i', 'got', 'full', 'petty', 'fast'], ['service', 'was', 'fantastic'], ['total', 'waste', 'of', 'time'], ['i', 'dont', 'know', 'what', 'kind', 'it', 'is', 'but', 'they', 'have', 'the', 'best', 'iced', 'tea'], ['come', 'hungry', 'leave', 'happy', 'and', 'stuffed'], ['for', 'service', 'i', 'give', 'them', 'no', 'stars'], ['i', 'can', 'assure', 'you', 'that', 'you', 'wont', 'be', 'disappointed'], ['i', 'can', 'take', 'a', 'little', 'bad', 'service', 'but', 'the', 'food', 'sucks'], ['gave', 'up', 'trying', 'to', 'eat', 'any', 'of', 'the', 'crust', 'teeth', 'still', 'sore'], ['but', 'now', 'i', 'was', 'completely', 'grossed', 'out'], ['i', 'really', 'enjoyed', 'eating', 'here'], ['first', 'time', 'going', 'but', 'i', 'think', 'i', 'will', 'quickly', 'become', 'a', 'regular'], ['our', 'server', 'was', 'very', 'nice', 'and', 'even', 'though', 'he', 'looked', 'a', 'little', 'overwhelmed', 'with', 'all', 'of', 'our', 'needs', 'he', 'stayed', 'professional', 'and', 'friendly', 'until', 'the', 'end'], ['from', 'what', 'my', 'dinner', 'companions', 'told', 'meeverything', 'was', 'very', 'fresh', 'with', 'nice', 'texture', 'and', 'taste'], ['on', 'the', 'ground', 'right', 'next', 'to', 'our', 'table', 'was', 'a', 'large', 'smeared', 'beensteppedinandtrackedeverywhere', 'pile', 'of', 'green', 'bird', 'poop'], ['furthermore', 'you', 'cant', 'even', 'find', 'hours', 'of', 'operation', 'on', 'the', 'website'], ['weve', 'tried', 'to', 'like', 'this', 'place', 'but', 'after', 'times', 'i', 'think', 'were', 'done', 'with', 'them'], ['what', 'a', 'mistake', 'that', 'was'], ['no', 'complaints'], ['this', 'is', 'some', 'seriously', 'good', 'pizza', 'and', 'im', 'an', 'expertconnisseur', 'on', 'the', 'topic'], ['waiter', 'was', 'a', 'jerk'], ['strike', 'who', 'wants', 'to', 'be', 'rushed'], ['these', 'are', 'the', 'nicest', 'restaurant', 'owners', 'ive', 'ever', 'come', 'across'], ['i', 'never', 'come', 'again'], ['we', 'loved', 'the', 'biscuits'], ['service', 'is', 'quick', 'and', 'friendly'], ['ordered', 'an', 'appetizer', 'and', 'took', 'minutes', 'and', 'then', 'the', 'pizza', 'another', 'minutes'], ['so', 'absolutley', 'fantastic'], ['it', 'was', 'a', 'huge', 'awkward', 'lb', 'piece', 'of', 'cow', 'that', 'was', 'ths', 'gristle', 'and', 'fat'], ['definitely', 'will', 'come', 'back', 'here', 'again'], ['i', 'like', 'steiners', 'because', 'its', 'dark', 'and', 'it', 'feels', 'like', 'a', 'bar'], ['wow', 'very', 'spicy', 'but', 'delicious'], ['if', 'youre', 'not', 'familiar', 'check', 'it', 'out'], ['ill', 'take', 'my', 'business', 'dinner', 'dollars', 'elsewhere'], ['id', 'love', 'to', 'go', 'back'], ['anyway', 'this', 'fs', 'restaurant', 'has', 'a', 'wonderful', 'breakfastlunch'], ['nothing', 'special'], ['each', 'day', 'of', 'the', 'week', 'they', 'have', 'a', 'different', 'deal', 'and', 'its', 'all', 'so', 'delicious'], ['not', 'to', 'mention', 'the', 'combination', 'of', 'pears', 'almonds', 'and', 'bacon', 'is', 'a', 'big', 'winner'], ['will', 'not', 'be', 'back'], ['sauce', 'was', 'tasteless'], ['the', 'food', 'is', 'delicious', 'and', 'just', 'spicy', 'enough', 'so', 'be', 'sure', 'to', 'ask', 'for', 'spicier', 'if', 'you', 'prefer', 'it', 'that', 'way'], ['my', 'ribeye', 'steak', 'was', 'cooked', 'perfectly', 'and', 'had', 'great', 'mesquite', 'flavor'], ['i', 'dont', 'think', 'well', 'be', 'going', 'back', 'anytime', 'soon'], ['food', 'was', 'so', 'gooodd'], ['i', 'am', 'far', 'from', 'a', 'sushi', 'connoisseur', 'but', 'i', 'can', 'definitely', 'tell', 'the', 'difference', 'between', 'good', 'food', 'and', 'bad', 'food', 'and', 'this', 'was', 'certainly', 'bad', 'food'], ['i', 'was', 'so', 'insulted'], ['the', 'last', 'times', 'i', 'had', 'lunch', 'here', 'has', 'been', 'bad'], ['the', 'chicken', 'wings', 'contained', 'the', 'driest', 'chicken', 'meat', 'i', 'have', 'ever', 'eaten'], ['the', 'food', 'was', 'very', 'good', 'and', 'i', 'enjoyed', 'every', 'mouthful', 'an', 'enjoyable', 'relaxed', 'venue', 'for', 'couples', 'small', 'family', 'groups', 'etc'], ['nargile', 'i', 'think', 'you', 'are', 'great'], ['best', 'tater', 'tots', 'in', 'the', 'southwest'], ['we', 'loved', 'the', 'place'], ['definitely', 'not', 'worth', 'the', 'i', 'paid'], ['the', 'vanilla', 'ice', 'cream', 'was', 'creamy', 'and', 'smooth', 'while', 'the', 'profiterole', 'choux', 'pastry', 'was', 'fresh', 'enough'], ['im', 'in', 'az', 'all', 'the', 'time', 'and', 'now', 'have', 'my', 'new', 'spot'], ['the', 'manager', 'was', 'the', 'worst'], ['the', 'inside', 'is', 'really', 'quite', 'nice', 'and', 'very', 'clean'], ['the', 'food', 'was', 'outstanding', 'and', 'the', 'prices', 'were', 'very', 'reasonable'], ['i', 'dont', 'think', 'ill', 'be', 'running', 'back', 'to', 'carlys', 'anytime', 'soon', 'for', 'food'], ['this', 'is', 'was', 'due', 'to', 'the', 'fact', 'that', 'it', 'took', 'minutes', 'to', 'be', 'acknowledged', 'then', 'another', 'minutes', 'to', 'get', 'our', 'foodand', 'they', 'kept', 'forgetting', 'things'], ['love', 'the', 'margaritas', 'too'], ['this', 'was', 'my', 'first', 'and', 'only', 'vegas', 'buffet', 'and', 'it', 'did', 'not', 'disappoint'], ['very', 'good', 'though'], ['the', 'one', 'down', 'note', 'is', 'the', 'ventilation', 'could', 'use', 'some', 'upgrading'], ['great', 'pork', 'sandwich'], ['dont', 'waste', 'your', 'time', 'here'], ['total', 'letdown', 'i', 'would', 'much', 'rather', 'just', 'go', 'to', 'the', 'camelback', 'flower', 'shop', 'and', 'cartel', 'coffee'], ['third', 'the', 'cheese', 'on', 'my', 'friends', 'burger', 'was', 'cold'], ['we', 'enjoy', 'their', 'pizza', 'and', 'brunch'], ['the', 'steaks', 'are', 'all', 'well', 'trimmed', 'and', 'also', 'perfectly', 'cooked'], ['we', 'had', 'a', 'group', 'of', 'when', 'we', 'claimed', 'we', 'would', 'only', 'have', 'and', 'they', 'handled', 'us', 'beautifully'], ['i', 'loved', 'it'], ['we', 'asked', 'for', 'the', 'bill', 'to', 'leave', 'without', 'eating', 'and', 'they', 'didnt', 'bring', 'that', 'either'], ['this', 'place', 'is', 'a', 'jewel', 'in', 'las', 'vegas', 'and', 'exactly', 'what', 'ive', 'been', 'hoping', 'to', 'find', 'in', 'nearly', 'ten', 'years', 'living', 'here'], ['seafood', 'was', 'limited', 'to', 'boiled', 'shrimp', 'and', 'crab', 'legs', 'but', 'the', 'crab', 'legs', 'definitely', 'did', 'not', 'taste', 'fresh'], ['the', 'selection', 'of', 'food', 'was', 'not', 'the', 'best'], ['delicious', 'and', 'i', 'will', 'absolutely', 'be', 'back'], ['this', 'isnt', 'a', 'small', 'family', 'restaurant', 'this', 'is', 'a', 'fine', 'dining', 'establishment'], ['they', 'had', 'a', 'toro', 'tartare', 'with', 'a', 'cavier', 'that', 'was', 'extraordinary', 'and', 'i', 'liked', 'the', 'thinly', 'sliced', 'wagyu', 'with', 'white', 'truffle'], ['i', 'dont', 'think', 'i', 'will', 'be', 'back', 'for', 'a', 'very', 'long', 'time'], ['it', 'was', 'attached', 'to', 'a', 'gas', 'station', 'and', 'that', 'is', 'rarely', 'a', 'good', 'sign'], ['how', 'awesome', 'is', 'that'], ['i', 'will', 'be', 'back', 'many', 'times', 'soon'], ['the', 'menu', 'had', 'so', 'much', 'good', 'stuff', 'on', 'it', 'i', 'could', 'not', 'decide'], ['worse', 'of', 'all', 'he', 'humiliated', 'his', 'worker', 'right', 'in', 'front', 'of', 'mebunch', 'of', 'horrible', 'name', 'callings'], ['conclusion', 'very', 'filling', 'meals'], ['their', 'daily', 'specials', 'are', 'always', 'a', 'hit', 'with', 'my', 'group'], ['and', 'then', 'tragedy', 'struck'], ['the', 'pancake', 'was', 'also', 'really', 'good', 'and', 'pretty', 'large', 'at', 'that'], ['this', 'was', 'my', 'first', 'crawfish', 'experience', 'and', 'it', 'was', 'delicious'], ['their', 'monster', 'chicken', 'fried', 'steak', 'and', 'eggs', 'is', 'my', 'all', 'time', 'favorite'], ['waitress', 'was', 'sweet', 'and', 'funny'], ['i', 'also', 'had', 'to', 'taste', 'my', 'moms', 'multigrain', 'pumpkin', 'pancakes', 'with', 'pecan', 'butter', 'and', 'they', 'were', 'amazing', 'fluffy', 'and', 'delicious'], ['id', 'rather', 'eat', 'airline', 'food', 'seriously'], ['cant', 'say', 'enough', 'good', 'things', 'about', 'this', 'place'], ['the', 'ambiance', 'was', 'incredible'], ['the', 'waitress', 'and', 'manager', 'are', 'so', 'friendly'], ['i', 'would', 'not', 'recommend', 'this', 'place'], ['overall', 'i', 'wasnt', 'very', 'impressed', 'with', 'noca'], ['my', 'gyro', 'was', 'basically', 'lettuce', 'only'], ['terrible', 'service'], ['thoroughly', 'disappointed'], ['i', 'dont', 'each', 'much', 'pasta', 'but', 'i', 'love', 'the', 'homemade', 'hand', 'made', 'pastas', 'and', 'thin', 'pizzas', 'here'], ['give', 'it', 'a', 'try', 'you', 'will', 'be', 'happy', 'you', 'did'], ['by', 'far', 'the', 'best', 'cheesecurds', 'we', 'have', 'ever', 'had'], ['reasonably', 'priced', 'also'], ['everything', 'was', 'perfect', 'the', 'night', 'we', 'were', 'in'], ['the', 'food', 'is', 'very', 'good', 'for', 'your', 'typical', 'bar', 'food'], ['it', 'was', 'a', 'drive', 'to', 'get', 'there'], ['at', 'first', 'glance', 'it', 'is', 'a', 'lovely', 'bakery', 'cafe', 'nice', 'ambiance', 'clean', 'friendly', 'staff'], ['anyway', 'i', 'do', 'not', 'think', 'i', 'will', 'go', 'back', 'there'], ['point', 'your', 'finger', 'at', 'any', 'item', 'on', 'the', 'menu', 'order', 'it', 'and', 'you', 'wont', 'be', 'disappointed'], ['oh', 'this', 'is', 'such', 'a', 'thing', 'of', 'beauty', 'this', 'restaurant'], ['if', 'you', 'havent', 'gone', 'here', 'go', 'now'], ['a', 'greasy', 'unhealthy', 'meal'], ['first', 'time', 'there', 'and', 'might', 'just', 'be', 'the', 'last'], ['those', 'burgers', 'were', 'amazing'], ['similarly', 'the', 'delivery', 'man', 'did', 'not', 'say', 'a', 'word', 'of', 'apology', 'when', 'our', 'food', 'was', 'minutes', 'late'], ['and', 'it', 'was', 'way', 'to', 'expensive'], ['be', 'sure', 'to', 'order', 'dessert', 'even', 'if', 'you', 'need', 'to', 'pack', 'it', 'togo', 'the', 'tiramisu', 'and', 'cannoli', 'are', 'both', 'to', 'die', 'for'], ['this', 'was', 'my', 'first', 'time', 'and', 'i', 'cant', 'wait', 'until', 'the', 'next'], ['the', 'bartender', 'was', 'also', 'nice'], ['everything', 'was', 'good', 'and', 'tasty'], ['this', 'place', 'is', 'two', 'thumbs', 'upway', 'up'], ['the', 'best', 'place', 'in', 'vegas', 'for', 'breakfast', 'just', 'check', 'out', 'a', 'sat', 'or', 'sun'], ['if', 'you', 'love', 'authentic', 'mexican', 'food', 'and', 'want', 'a', 'whole', 'bunch', 'of', 'interesting', 'yet', 'delicious', 'meats', 'to', 'choose', 'from', 'you', 'need', 'to', 'try', 'this', 'place'], ['terrible', 'management'], ['an', 'excellent', 'new', 'restaurant', 'by', 'an', 'experienced', 'frenchman'], ['if', 'there', 'were', 'zero', 'stars', 'i', 'would', 'give', 'it', 'zero', 'stars'], ['great', 'steak', 'great', 'sides', 'great', 'wine', 'amazing', 'desserts'], ['worst', 'martini', 'ever'], ['the', 'steak', 'and', 'the', 'shrimp', 'are', 'in', 'my', 'opinion', 'the', 'best', 'entrees', 'at', 'gc'], ['i', 'had', 'the', 'opportunity', 'today', 'to', 'sample', 'your', 'amazing', 'pizzas'], ['we', 'waited', 'for', 'thirty', 'minutes', 'to', 'be', 'seated', 'although', 'there', 'were', 'vacant', 'tables', 'and', 'we', 'were', 'the', 'only', 'folks', 'waiting'], ['the', 'yellowtail', 'carpaccio', 'was', 'melt', 'in', 'your', 'mouth', 'fresh'], ['i', 'wont', 'try', 'going', 'back', 'there', 'even', 'if', 'its', 'empty'], ['no', 'im', 'going', 'to', 'eat', 'the', 'potato', 'that', 'i', 'found', 'some', 'strangers', 'hair', 'in', 'it'], ['just', 'spicy', 'enough', 'perfect', 'actually'], ['last', 'night', 'was', 'my', 'second', 'time', 'dining', 'here', 'and', 'i', 'was', 'so', 'happy', 'i', 'decided', 'to', 'go', 'back'], ['not', 'even', 'a', 'hello', 'we', 'will', 'be', 'right', 'with', 'you'], ['the', 'desserts', 'were', 'a', 'bit', 'strange'], ['my', 'boyfriend', 'and', 'i', 'came', 'here', 'for', 'the', 'first', 'time', 'on', 'a', 'recent', 'trip', 'to', 'vegas', 'and', 'could', 'not', 'have', 'been', 'more', 'pleased', 'with', 'the', 'quality', 'of', 'food', 'and', 'service'], ['i', 'really', 'do', 'recommend', 'this', 'place', 'you', 'can', 'go', 'wrong', 'with', 'this', 'donut', 'place'], ['nice', 'ambiance'], ['i', 'would', 'recommend', 'saving', 'room', 'for', 'this'], ['i', 'guess', 'maybe', 'we', 'went', 'on', 'an', 'off', 'night', 'but', 'it', 'was', 'disgraceful'], ['however', 'my', 'recent', 'experience', 'at', 'this', 'particular', 'location', 'was', 'not', 'so', 'good'], ['i', 'know', 'this', 'is', 'not', 'like', 'the', 'other', 'restaurants', 'at', 'all', 'something', 'is', 'very', 'off', 'here'], ['avoid', 'this', 'establishment'], ['i', 'think', 'this', 'restaurant', 'suffers', 'from', 'not', 'trying', 'hard', 'enough'], ['all', 'of', 'the', 'tapas', 'dishes', 'were', 'delicious'], ['i', 'heart', 'this', 'place'], ['my', 'salad', 'had', 'a', 'bland', 'vinegrette', 'on', 'the', 'baby', 'greens', 'and', 'hearts', 'of', 'palm'], ['after', 'two', 'i', 'felt', 'disgusting'], ['a', 'good', 'time'], ['i', 'believe', 'that', 'this', 'place', 'is', 'a', 'great', 'stop', 'for', 'those', 'with', 'a', 'huge', 'belly', 'and', 'hankering', 'for', 'sushi'], ['generous', 'portions', 'and', 'great', 'taste'], ['i', 'will', 'never', 'go', 'back', 'to', 'this', 'place', 'and', 'will', 'never', 'ever', 'recommended', 'this', 'place', 'to', 'anyone'], ['the', 'servers', 'went', 'back', 'and', 'forth', 'several', 'times', 'not', 'even', 'so', 'much', 'as', 'an', 'are', 'you', 'being', 'helped'], ['food', 'was', 'delicious'], ['an', 'hour', 'seriously'], ['i', 'consider', 'this', 'theft'], ['eew', 'this', 'location', 'needs', 'a', 'complete', 'overhaul'], ['we', 'recently', 'witnessed', 'her', 'poor', 'quality', 'of', 'management', 'towards', 'other', 'guests', 'as', 'well'], ['waited', 'and', 'waited', 'and', 'waited'], ['he', 'also', 'came', 'back', 'to', 'check', 'on', 'us', 'regularly', 'excellent', 'service'], ['our', 'server', 'was', 'super', 'nice', 'and', 'checked', 'on', 'us', 'many', 'times'], ['the', 'pizza', 'tasted', 'old', 'super', 'chewy', 'in', 'not', 'a', 'good', 'way'], ['i', 'swung', 'in', 'to', 'give', 'them', 'a', 'try', 'but', 'was', 'deeply', 'disappointed'], ['service', 'was', 'good', 'and', 'the', 'company', 'was', 'better'], ['the', 'staff', 'are', 'also', 'very', 'friendly', 'and', 'efficient'], ['as', 'for', 'the', 'service', 'im', 'a', 'fan', 'because', 'its', 'quick', 'and', 'youre', 'being', 'served', 'by', 'some', 'nice', 'folks'], ['boy', 'was', 'that', 'sucker', 'dry'], ['over', 'rated'], ['if', 'you', 'look', 'for', 'authentic', 'thai', 'food', 'go', 'else', 'where'], ['their', 'steaks', 'are', 'recommended'], ['after', 'i', 'pulled', 'up', 'my', 'car', 'i', 'waited', 'for', 'another', 'minutes', 'before', 'being', 'acknowledged'], ['great', 'food', 'and', 'great', 'service', 'in', 'a', 'clean', 'and', 'friendly', 'setting'], ['all', 'in', 'all', 'i', 'can', 'assure', 'you', 'ill', 'be', 'back'], ['i', 'hate', 'those', 'things', 'as', 'much', 'as', 'cheap', 'quality', 'black', 'olives'], ['my', 'breakfast', 'was', 'perpared', 'great', 'with', 'a', 'beautiful', 'presentation', 'of', 'giant', 'slices', 'of', 'toast', 'lightly', 'dusted', 'with', 'powdered', 'sugar'], ['the', 'kids', 'play', 'area', 'is', 'nasty'], ['great', 'place', 'fo', 'take', 'out', 'or', 'eat', 'in'], ['the', 'waitress', 'was', 'friendly', 'and', 'happy', 'to', 'accomodate', 'for', 'veganveggie', 'options'], ['omg', 'i', 'felt', 'like', 'i', 'had', 'never', 'eaten', 'thai', 'food', 'until', 'this', 'dish'], ['it', 'was', 'extremely', 'crumby', 'and', 'pretty', 'tasteless'], ['it', 'was', 'a', 'pale', 'color', 'instead', 'of', 'nice', 'and', 'char', 'and', 'has', 'no', 'flavor'], ['the', 'croutons', 'also', 'taste', 'homemade', 'which', 'is', 'an', 'extra', 'plus'], ['i', 'got', 'home', 'to', 'see', 'the', 'driest', 'damn', 'wings', 'ever'], ['itll', 'be', 'a', 'regular', 'stop', 'on', 'my', 'trips', 'to', 'phoenix'], ['i', 'really', 'enjoyed', 'crema', 'caf', 'before', 'they', 'expanded', 'i', 'even', 'told', 'friends', 'they', 'had', 'the', 'best', 'breakfast'], ['not', 'good', 'for', 'the', 'money'], ['i', 'miss', 'it', 'and', 'wish', 'they', 'had', 'one', 'in', 'philadelphia'], ['we', 'got', 'sitting', 'fairly', 'fast', 'but', 'ended', 'up', 'waiting', 'minutes', 'just', 'to', 'place', 'our', 'order', 'another', 'minutes', 'before', 'the', 'food', 'arrived'], ['they', 'also', 'have', 'the', 'best', 'cheese', 'crisp', 'in', 'town'], ['good', 'value', 'great', 'food', 'great', 'service'], ['couldnt', 'ask', 'for', 'a', 'more', 'satisfying', 'meal'], ['the', 'food', 'is', 'good'], ['it', 'was', 'awesome'], ['i', 'just', 'wanted', 'to', 'leave'], ['we', 'made', 'the', 'drive', 'all', 'the', 'way', 'from', 'north', 'scottsdale', 'and', 'i', 'was', 'not', 'one', 'bit', 'disappointed'], ['i', 'will', 'not', 'be', 'eating', 'there', 'again'], ['the', 'owners', 'really', 'really', 'need', 'to', 'quit', 'being', 'soooooo', 'cheap', 'let', 'them', 'wrap', 'my', 'freaking', 'sandwich', 'in', 'two', 'papers', 'not', 'one'], ['i', 'checked', 'out', 'this', 'place', 'a', 'couple', 'years', 'ago', 'and', 'was', 'not', 'impressed'], ['the', 'chicken', 'i', 'got', 'was', 'definitely', 'reheated', 'and', 'was', 'only', 'ok', 'the', 'wedges', 'were', 'cold', 'and', 'soggy'], ['sorry', 'i', 'will', 'not', 'be', 'getting', 'food', 'from', 'here', 'anytime', 'soon'], ['an', 'absolute', 'must', 'visit'], ['the', 'cow', 'tongue', 'and', 'cheek', 'tacos', 'are', 'amazing'], ['my', 'friend', 'did', 'not', 'like', 'his', 'bloody', 'mary'], ['despite', 'how', 'hard', 'i', 'rate', 'businesses', 'its', 'actually', 'rare', 'for', 'me', 'to', 'give', 'a', 'star'], ['they', 'really', 'want', 'to', 'make', 'your', 'experience', 'a', 'good', 'one'], ['i', 'will', 'not', 'return'], ['i', 'had', 'the', 'chicken', 'pho', 'and', 'it', 'tasted', 'very', 'bland'], ['very', 'disappointing'], ['the', 'grilled', 'chicken', 'was', 'so', 'tender', 'and', 'yellow', 'from', 'the', 'saffron', 'seasoning'], ['a', 'drive', 'thru', 'means', 'you', 'do', 'not', 'want', 'to', 'wait', 'around', 'for', 'half', 'an', 'hour', 'for', 'your', 'food', 'but', 'somehow', 'when', 'we', 'end', 'up', 'going', 'here', 'they', 'make', 'us', 'wait', 'and', 'wait'], ['pretty', 'awesome', 'place'], ['ambience', 'is', 'perfect'], ['best', 'of', 'luck', 'to', 'the', 'rude', 'and', 'noncustomer', 'service', 'focused', 'new', 'management'], ['any', 'grandmother', 'can', 'make', 'a', 'roasted', 'chicken', 'better', 'than', 'this', 'one'], ['i', 'asked', 'multiple', 'times', 'for', 'the', 'wine', 'list', 'and', 'after', 'some', 'time', 'of', 'being', 'ignored', 'i', 'went', 'to', 'the', 'hostess', 'and', 'got', 'one', 'myself'], ['the', 'staff', 'is', 'always', 'super', 'friendly', 'and', 'helpful', 'which', 'is', 'especially', 'cool', 'when', 'you', 'bring', 'two', 'small', 'boys', 'and', 'a', 'baby'], ['four', 'stars', 'for', 'the', 'food', 'the', 'guy', 'in', 'the', 'blue', 'shirt', 'for', 'his', 'great', 'vibe', 'still', 'letting', 'us', 'in', 'to', 'eat'], ['the', 'roast', 'beef', 'sandwich', 'tasted', 'really', 'good'], ['same', 'evening', 'him', 'and', 'i', 'are', 'both', 'drastically', 'sick'], ['highquality', 'chicken', 'on', 'the', 'chicken', 'caesar', 'salad'], ['ordered', 'burger', 'rare', 'came', 'in', 'well', 'done'], ['we', 'were', 'promptly', 'greeted', 'and', 'seated'], ['tried', 'to', 'go', 'here', 'for', 'lunch', 'and', 'it', 'was', 'a', 'madhouse'], ['i', 'was', 'proven', 'dead', 'wrong', 'by', 'this', 'sushi', 'bar', 'not', 'only', 'because', 'the', 'quality', 'is', 'great', 'but', 'the', 'service', 'is', 'fast', 'and', 'the', 'food', 'impeccable'], ['after', 'waiting', 'an', 'hour', 'and', 'being', 'seated', 'i', 'was', 'not', 'in', 'the', 'greatest', 'of', 'moods'], ['this', 'is', 'a', 'good', 'joint'], ['the', 'macarons', 'here', 'are', 'insanely', 'good'], ['im', 'not', 'eating', 'here'], ['our', 'waiter', 'was', 'very', 'attentive', 'friendly', 'and', 'informative'], ['maybe', 'if', 'they', 'werent', 'cold', 'they', 'would', 'have', 'been', 'somewhat', 'edible'], ['this', 'place', 'has', 'a', 'lot', 'of', 'promise', 'but', 'fails', 'to', 'deliver'], ['very', 'bad', 'experience'], ['what', 'a', 'mistake'], ['food', 'was', 'average', 'at', 'best'], ['great', 'food'], ['we', 'wont', 'be', 'going', 'back', 'anytime', 'soon'], ['very', 'very', 'disappointed', 'ordered', 'the', 'big', 'bay', 'plater'], ['great', 'place', 'to', 'relax', 'and', 'have', 'an', 'awesome', 'burger', 'and', 'beer'], ['it', 'is', 'perfect', 'for', 'a', 'sitdown', 'family', 'meal', 'or', 'get', 'together', 'with', 'a', 'few', 'friends'], ['not', 'much', 'flavor', 'to', 'them', 'and', 'very', 'poorly', 'constructed'], ['the', 'patio', 'seating', 'was', 'very', 'comfortable'], ['the', 'fried', 'rice', 'was', 'dry', 'as', 'well'], ['hands', 'down', 'my', 'favorite', 'italian', 'restaurant'], ['that', 'just', 'screams', 'legit', 'in', 'my', 'booksomethats', 'also', 'pretty', 'rare', 'here', 'in', 'vegas'], ['it', 'was', 'just', 'not', 'a', 'fun', 'experience'], ['the', 'atmosphere', 'was', 'great', 'with', 'a', 'lovely', 'duo', 'of', 'violinists', 'playing', 'songs', 'we', 'requested'], ['i', 'personally', 'love', 'the', 'hummus', 'pita', 'baklava', 'falafels', 'and', 'baba', 'ganoush', 'its', 'amazing', 'what', 'they', 'do', 'with', 'eggplant'], ['very', 'convenient', 'since', 'we', 'were', 'staying', 'at', 'the', 'mgm'], ['the', 'owners', 'are', 'super', 'friendly', 'and', 'the', 'staff', 'is', 'courteous'], ['both', 'great'], ['eclectic', 'selection'], ['the', 'sweet', 'potato', 'tots', 'were', 'good', 'but', 'the', 'onion', 'rings', 'were', 'perfection', 'or', 'as', 'close', 'as', 'i', 'have', 'had'], ['the', 'staff', 'was', 'very', 'attentive'], ['and', 'the', 'chef', 'was', 'generous', 'with', 'his', 'time', 'even', 'came', 'around', 'twice', 'so', 'we', 'can', 'take', 'pictures', 'with', 'him'], ['the', 'owner', 'used', 'to', 'work', 'at', 'nobu', 'so', 'this', 'place', 'is', 'really', 'similar', 'for', 'half', 'the', 'price'], ['google', 'mediocre', 'and', 'i', 'imagine', 'smashburger', 'will', 'pop', 'up'], ['dont', 'go', 'here'], ['i', 'promise', 'they', 'wont', 'disappoint'], ['as', 'a', 'sushi', 'lover', 'avoid', 'this', 'place', 'by', 'all', 'means'], ['what', 'a', 'great', 'double', 'cheeseburger'], ['awesome', 'service', 'and', 'food'], ['a', 'fantastic', 'neighborhood', 'gem'], ['i', 'cant', 'wait', 'to', 'go', 'back'], ['the', 'plantains', 'were', 'the', 'worst', 'ive', 'ever', 'tasted'], ['its', 'a', 'great', 'place', 'and', 'i', 'highly', 'recommend', 'it'], ['service', 'was', 'slow', 'and', 'not', 'attentive'], ['i', 'gave', 'it', 'stars', 'then', 'and', 'im', 'giving', 'it', 'stars', 'now'], ['your', 'staff', 'spends', 'more', 'time', 'talking', 'to', 'themselves', 'than', 'me'], ['dessert', 'panna', 'cotta', 'was', 'amazing'], ['very', 'good', 'food', 'great', 'atmosphere'], ['damn', 'good', 'steak'], ['total', 'brunch', 'fail'], ['prices', 'are', 'very', 'reasonable', 'flavors', 'are', 'spot', 'on', 'the', 'sauce', 'is', 'home', 'made', 'and', 'the', 'slaw', 'is', 'not', 'drenched', 'in', 'mayo'], ['the', 'decor', 'is', 'nice', 'and', 'the', 'piano', 'music', 'soundtrack', 'is', 'pleasant'], ['the', 'steak', 'was', 'amazingrge', 'fillet', 'relleno', 'was', 'the', 'best', 'seafood', 'plate', 'i', 'have', 'ever', 'had'], ['good', 'food', 'good', 'service'], ['it', 'was', 'absolutely', 'amazing'], ['i', 'probably', 'wont', 'be', 'back', 'to', 'be', 'honest'], ['will', 'definitely', 'be', 'back'], ['the', 'sergeant', 'pepper', 'beef', 'sandwich', 'with', 'auju', 'sauce', 'is', 'an', 'excellent', 'sandwich', 'as', 'well'], ['hawaiian', 'breeze', 'mango', 'magic', 'and', 'pineapple', 'delight', 'are', 'the', 'smoothies', 'that', 'ive', 'tried', 'so', 'far', 'and', 'theyre', 'all', 'good'], ['went', 'for', 'lunch', 'service', 'was', 'slow'], ['we', 'had', 'so', 'much', 'to', 'say', 'about', 'the', 'place', 'before', 'we', 'walked', 'in', 'that', 'he', 'expected', 'it', 'to', 'be', 'amazing', 'but', 'was', 'quickly', 'disappointed'], ['i', 'was', 'mortified'], ['needless', 'to', 'say', 'we', 'will', 'never', 'be', 'back', 'here', 'again'], ['anyways', 'the', 'food', 'was', 'definitely', 'not', 'filling', 'at', 'all', 'and', 'for', 'the', 'price', 'you', 'pay', 'you', 'should', 'expect', 'more'], ['the', 'chips', 'that', 'came', 'out', 'were', 'dripping', 'with', 'grease', 'and', 'mostly', 'not', 'edible'], ['i', 'wasnt', 'really', 'impressed', 'with', 'strip', 'steak'], ['have', 'been', 'going', 'since', 'and', 'every', 'meal', 'has', 'been', 'awesome'], ['our', 'server', 'was', 'very', 'nice', 'and', 'attentive', 'as', 'were', 'the', 'other', 'serving', 'staff'], ['the', 'cashier', 'was', 'friendly', 'and', 'even', 'brought', 'the', 'food', 'out', 'to', 'me'], ['i', 'work', 'in', 'the', 'hospitality', 'industry', 'in', 'paradise', 'valley', 'and', 'have', 'refrained', 'from', 'recommending', 'cibo', 'any', 'longer'], ['the', 'atmosphere', 'here', 'is', 'fun'], ['would', 'not', 'recommend', 'to', 'others'], ['service', 'is', 'quick', 'and', 'even', 'to', 'go', 'orders', 'are', 'just', 'like', 'we', 'like', 'it'], ['i', 'mean', 'really', 'how', 'do', 'you', 'get', 'so', 'famous', 'for', 'your', 'fish', 'and', 'chips', 'when', 'its', 'so', 'terrible'], ['that', 'said', 'our', 'mouths', 'and', 'bellies', 'were', 'still', 'quite', 'pleased'], ['not', 'my', 'thing'], ['thumbs', 'up'], ['if', 'you', 'are', 'reading', 'this', 'please', 'dont', 'go', 'there'], ['i', 'loved', 'the', 'grilled', 'pizza', 'reminded', 'me', 'of', 'legit', 'italian', 'pizza'], ['only', 'pros', 'large', 'seating', 'area', 'nice', 'bar', 'area', 'great', 'simple', 'drink', 'menu', 'the', 'best', 'brick', 'oven', 'pizza', 'with', 'homemade', 'dough'], ['they', 'have', 'a', 'really', 'nice', 'atmosphere'], ['tonight', 'i', 'had', 'the', 'elk', 'filet', 'specialand', 'it', 'sucked'], ['after', 'one', 'bite', 'i', 'was', 'hooked'], ['we', 'ordered', 'some', 'old', 'classics', 'and', 'some', 'new', 'dishes', 'after', 'going', 'there', 'a', 'few', 'times', 'and', 'were', 'sorely', 'disappointed', 'with', 'everything'], ['cute', 'quaint', 'simple', 'honest'], ['the', 'chicken', 'was', 'deliciously', 'seasoned', 'and', 'had', 'the', 'perfect', 'fry', 'on', 'the', 'outside', 'and', 'moist', 'chicken', 'on', 'the', 'inside'], ['the', 'food', 'was', 'great', 'as', 'always', 'compliments', 'to', 'the', 'chef'], ['special', 'thanks', 'to', 'dylan', 't', 'for', 'the', 'recommendation', 'on', 'what', 'to', 'order', 'all', 'yummy', 'for', 'my', 'tummy'], ['awesome', 'selection', 'of', 'beer'], ['great', 'food', 'and', 'awesome', 'service'], ['one', 'nice', 'thing', 'was', 'that', 'they', 'added', 'gratuity', 'on', 'the', 'bill', 'since', 'our', 'party', 'was', 'larger', 'than', 'or', 'and', 'they', 'didnt', 'expect', 'more', 'tip', 'than', 'that'], ['a', 'fly', 'was', 'in', 'my', 'apple', 'juice', 'a', 'fly'], ['the', 'han', 'nan', 'chicken', 'was', 'also', 'very', 'tasty'], ['as', 'for', 'the', 'service', 'i', 'thought', 'it', 'was', 'good'], ['the', 'food', 'was', 'barely', 'lukewarm', 'so', 'it', 'must', 'have', 'been', 'sitting', 'waiting', 'for', 'the', 'server', 'to', 'bring', 'it', 'out', 'to', 'us'], ['ryans', 'bar', 'is', 'definitely', 'one', 'edinburgh', 'establishment', 'i', 'wont', 'be', 'revisiting'], ['nicest', 'chinese', 'restaurant', 'ive', 'been', 'in', 'a', 'while'], ['overall', 'i', 'like', 'there', 'food', 'and', 'the', 'service'], ['they', 'also', 'now', 'serve', 'indian', 'naan', 'bread', 'with', 'hummus', 'and', 'some', 'spicy', 'pine', 'nut', 'sauce', 'that', 'was', 'out', 'of', 'this', 'world'], ['probably', 'never', 'coming', 'back', 'and', 'wouldnt', 'recommend', 'it'], ['friends', 'pasta', 'also', 'bad', 'he', 'barely', 'touched', 'it'], ['try', 'them', 'in', 'the', 'airport', 'to', 'experience', 'some', 'tasty', 'food', 'and', 'speedy', 'friendly', 'service'], ['i', 'love', 'the', 'decor', 'with', 'the', 'chinese', 'calligraphy', 'wall', 'paper'], ['never', 'had', 'anything', 'to', 'complain', 'about', 'here'], ['the', 'restaurant', 'is', 'very', 'clean', 'and', 'has', 'a', 'family', 'restaurant', 'feel', 'to', 'it'], ['it', 'was', 'way', 'over', 'fried'], ['im', 'not', 'sure', 'how', 'long', 'we', 'stood', 'there', 'but', 'it', 'was', 'long', 'enough', 'for', 'me', 'to', 'begin', 'to', 'feel', 'awkwardly', 'out', 'of', 'place'], ['when', 'i', 'opened', 'the', 'sandwich', 'i', 'was', 'impressed', 'but', 'not', 'in', 'a', 'good', 'way'], ['will', 'not', 'be', 'back'], ['there', 'was', 'a', 'warm', 'feeling', 'with', 'the', 'service', 'and', 'i', 'felt', 'like', 'their', 'guest', 'for', 'a', 'special', 'treat'], ['an', 'extensive', 'menu', 'provides', 'lots', 'of', 'options', 'for', 'breakfast'], ['i', 'always', 'order', 'from', 'the', 'vegetarian', 'menu', 'during', 'dinner', 'which', 'has', 'a', 'wide', 'array', 'of', 'options', 'to', 'choose', 'from'], ['i', 'have', 'watched', 'their', 'prices', 'inflate', 'portions', 'get', 'smaller', 'and', 'management', 'attitudes', 'grow', 'rapidly'], ['wonderful', 'lil', 'tapas', 'and', 'the', 'ambience', 'made', 'me', 'feel', 'all', 'warm', 'and', 'fuzzy', 'inside'], ['i', 'got', 'to', 'enjoy', 'the', 'seafood', 'salad', 'with', 'a', 'fabulous', 'vinegrette'], ['the', 'wontons', 'were', 'thin', 'not', 'thick', 'and', 'chewy', 'almost', 'melt', 'in', 'your', 'mouth'], ['level', 'spicy', 'was', 'perfect', 'where', 'spice', 'didnt', 'overwhelm', 'the', 'soup'], ['we', 'were', 'sat', 'right', 'on', 'time', 'and', 'our', 'server', 'from', 'the', 'get', 'go', 'was', 'fantastic'], ['main', 'thing', 'i', 'didnt', 'enjoy', 'is', 'that', 'the', 'crowd', 'is', 'of', 'older', 'crowd', 'around', 'mid', 's', 'and', 'up'], ['when', 'im', 'on', 'this', 'side', 'of', 'town', 'this', 'will', 'definitely', 'be', 'a', 'spot', 'ill', 'hit', 'up', 'again'], ['i', 'had', 'to', 'wait', 'over', 'minutes', 'to', 'get', 'my', 'drink', 'and', 'longer', 'to', 'get', 'arepas'], ['this', 'is', 'a', 'great', 'place', 'to', 'eat'], ['the', 'jalapeno', 'bacon', 'is', 'soooo', 'good'], ['the', 'service', 'was', 'poor', 'and', 'thats', 'being', 'nice'], ['food', 'was', 'good', 'service', 'was', 'good', 'prices', 'were', 'good'], ['the', 'place', 'was', 'not', 'clean', 'and', 'the', 'food', 'oh', 'so', 'stale'], ['the', 'chicken', 'dishes', 'are', 'ok', 'the', 'beef', 'is', 'like', 'shoe', 'leather'], ['but', 'the', 'service', 'was', 'beyond', 'bad'], ['im', 'so', 'happy', 'to', 'be', 'here'], ['tasted', 'like', 'dirt'], ['one', 'of', 'the', 'few', 'places', 'in', 'phoenix', 'that', 'i', 'would', 'definately', 'go', 'back', 'to', 'again'], ['the', 'block', 'was', 'amazing'], ['its', 'close', 'to', 'my', 'house', 'its', 'lowkey', 'nonfancy', 'affordable', 'prices', 'good', 'food'], ['both', 'the', 'hot', 'sour', 'the', 'egg', 'flower', 'soups', 'were', 'absolutely', 'stars'], ['my', 'sashimi', 'was', 'poor', 'quality', 'being', 'soggy', 'and', 'tasteless'], ['great', 'time', 'family', 'dinner', 'on', 'a', 'sunday', 'night'], ['the', 'food', 'is', 'not', 'tasty', 'at', 'all', 'not', 'to', 'say', 'its', 'real', 'traditional', 'hunan', 'style'], ['what', 'did', 'bother', 'me', 'was', 'the', 'slow', 'service'], ['the', 'flair', 'bartenders', 'are', 'absolutely', 'amazing'], ['their', 'frozen', 'margaritas', 'are', 'way', 'too', 'sugary', 'for', 'my', 'taste'], ['these', 'were', 'so', 'good', 'we', 'ordered', 'them', 'twice'], ['so', 'in', 'a', 'nutshell', 'the', 'restaraunt', 'smells', 'like', 'a', 'combination', 'of', 'a', 'dirty', 'fish', 'market', 'and', 'a', 'sewer'], ['my', 'girlfriends', 'veal', 'was', 'very', 'bad'], ['unfortunately', 'it', 'was', 'not', 'good'], ['i', 'had', 'a', 'pretty', 'satifying', 'experience'], ['join', 'the', 'club', 'and', 'get', 'awesome', 'offers', 'via', 'email'], ['perfect', 'for', 'someone', 'me', 'who', 'only', 'likes', 'beer', 'ice', 'cold', 'or', 'in', 'this', 'case', 'even', 'colder'], ['bland', 'and', 'flavorless', 'is', 'a', 'good', 'way', 'of', 'describing', 'the', 'barely', 'tepid', 'meat'], ['the', 'chains', 'which', 'im', 'no', 'fan', 'of', 'beat', 'this', 'place', 'easily'], ['the', 'nachos', 'are', 'a', 'must', 'have'], ['we', 'will', 'not', 'be', 'coming', 'back'], ['i', 'dont', 'have', 'very', 'many', 'words', 'to', 'say', 'about', 'this', 'place', 'but', 'it', 'does', 'everything', 'pretty', 'well'], ['the', 'staff', 'is', 'super', 'nice', 'and', 'very', 'quick', 'even', 'with', 'the', 'crazy', 'crowds', 'of', 'the', 'downtown', 'juries', 'lawyers', 'and', 'court', 'staff'], ['great', 'atmosphere', 'friendly', 'and', 'fast', 'service'], ['when', 'i', 'received', 'my', 'pita', 'it', 'was', 'huge', 'it', 'did', 'have', 'a', 'lot', 'of', 'meat', 'in', 'it', 'so', 'thumbs', 'up', 'there'], ['once', 'your', 'food', 'arrives', 'its', 'meh'], ['paying', 'for', 'a', 'hot', 'dog', 'and', 'fries', 'that', 'looks', 'like', 'it', 'came', 'out', 'of', 'a', 'kids', 'meal', 'at', 'the', 'wienerschnitzel', 'is', 'not', 'my', 'idea', 'of', 'a', 'good', 'meal'], ['the', 'classic', 'maine', 'lobster', 'roll', 'was', 'fantastic'], ['my', 'brother', 'in', 'law', 'who', 'works', 'at', 'the', 'mall', 'ate', 'here', 'same', 'day', 'and', 'guess', 'what', 'he', 'was', 'sick', 'all', 'night', 'too'], ['so', 'good', 'i', 'am', 'going', 'to', 'have', 'to', 'review', 'this', 'place', 'twice', 'once', 'hereas', 'a', 'tribute', 'to', 'the', 'place', 'and', 'once', 'as', 'a', 'tribute', 'to', 'an', 'event', 'held', 'here', 'last', 'night'], ['the', 'chips', 'and', 'salsa', 'were', 'really', 'good', 'the', 'salsa', 'was', 'very', 'fresh'], ['this', 'place', 'is', 'great'], ['mediocre', 'food'], ['once', 'you', 'get', 'inside', 'youll', 'be', 'impressed', 'with', 'the', 'place'], ['im', 'super', 'pissd'], ['and', 'service', 'was', 'super', 'friendly'], ['why', 'are', 'these', 'sad', 'little', 'vegetables', 'so', 'overcooked'], ['this', 'place', 'was', 'such', 'a', 'nice', 'surprise'], ['they', 'were', 'goldencrispy', 'and', 'delicious'], ['i', 'had', 'high', 'hopes', 'for', 'this', 'place', 'since', 'the', 'burgers', 'are', 'cooked', 'over', 'a', 'charcoal', 'grill', 'but', 'unfortunately', 'the', 'taste', 'fell', 'flat', 'way', 'flat'], ['i', 'could', 'eat', 'their', 'bruschetta', 'all', 'day', 'it', 'is', 'devine'], ['not', 'a', 'single', 'employee', 'came', 'out', 'to', 'see', 'if', 'we', 'were', 'ok', 'or', 'even', 'needed', 'a', 'water', 'refill', 'once', 'they', 'finally', 'served', 'us', 'our', 'food'], ['lastly', 'the', 'mozzarella', 'sticks', 'they', 'were', 'the', 'best', 'thing', 'we', 'ordered'], ['the', 'first', 'time', 'i', 'ever', 'came', 'here', 'i', 'had', 'an', 'amazing', 'experience', 'i', 'still', 'tell', 'people', 'how', 'awesome', 'the', 'duck', 'was'], ['the', 'server', 'was', 'very', 'negligent', 'of', 'our', 'needs', 'and', 'made', 'us', 'feel', 'very', 'unwelcome', 'i', 'would', 'not', 'suggest', 'this', 'place'], ['the', 'service', 'was', 'terrible', 'though'], ['this', 'place', 'is', 'overpriced', 'not', 'consistent', 'with', 'their', 'boba', 'and', 'it', 'really', 'is', 'overpriced'], ['it', 'was', 'packed'], ['i', 'love', 'this', 'place'], ['i', 'can', 'say', 'that', 'the', 'desserts', 'were', 'yummy'], ['the', 'food', 'was', 'terrible'], ['the', 'seasonal', 'fruit', 'was', 'fresh', 'white', 'peach', 'puree'], ['it', 'kept', 'getting', 'worse', 'and', 'worse', 'so', 'now', 'im', 'officially', 'done'], ['this', 'place', 'should', 'honestly', 'be', 'blown', 'up'], ['but', 'i', 'definitely', 'would', 'not', 'eat', 'here', 'again'], ['do', 'not', 'waste', 'your', 'money', 'here'], ['i', 'love', 'that', 'they', 'put', 'their', 'food', 'in', 'nice', 'plastic', 'containers', 'as', 'opposed', 'to', 'cramming', 'it', 'in', 'little', 'paper', 'takeout', 'boxes'], ['the', 'crpe', 'was', 'delicate', 'and', 'thin', 'and', 'moist'], ['awful', 'service'], ['wont', 'ever', 'go', 'here', 'again'], ['food', 'quality', 'has', 'been', 'horrible'], ['for', 'that', 'price', 'i', 'can', 'think', 'of', 'a', 'few', 'place', 'i', 'would', 'have', 'much', 'rather', 'gone'], ['the', 'service', 'here', 'is', 'fair', 'at', 'best'], ['i', 'do', 'love', 'sushi', 'but', 'i', 'found', 'kabuki', 'to', 'be', 'overpriced', 'overhip', 'and', 'underservices'], ['do', 'yourself', 'a', 'favor', 'and', 'stay', 'away', 'from', 'this', 'dish'], ['very', 'poor', 'service'], ['no', 'one', 'at', 'the', 'table', 'thought', 'the', 'food', 'was', 'above', 'average', 'or', 'worth', 'the', 'wait', 'that', 'we', 'had', 'for', 'it'], ['best', 'service', 'and', 'food', 'ever', 'maria', 'our', 'server', 'was', 'so', 'good', 'and', 'friendly', 'she', 'made', 'our', 'day'], ['they', 'were', 'excellent'], ['i', 'paid', 'the', 'bill', 'but', 'did', 'not', 'tip', 'because', 'i', 'felt', 'the', 'server', 'did', 'a', 'terrible', 'job'], ['just', 'had', 'lunch', 'here', 'and', 'had', 'a', 'great', 'experience'], ['i', 'have', 'never', 'had', 'such', 'bland', 'food', 'which', 'surprised', 'me', 'considering', 'the', 'article', 'we', 'read', 'focused', 'so', 'much', 'on', 'their', 'spices', 'and', 'flavor'], ['food', 'is', 'way', 'overpriced', 'and', 'portions', 'are', 'fucking', 'small'], ['i', 'recently', 'tried', 'caballeros', 'and', 'i', 'have', 'been', 'back', 'every', 'week', 'since'], ['for', 'bucks', 'a', 'head', 'i', 'really', 'expect', 'better', 'food'], ['the', 'food', 'came', 'out', 'at', 'a', 'good', 'pace'], ['i', 'ate', 'there', 'twice', 'on', 'my', 'last', 'visit', 'and', 'especially', 'enjoyed', 'the', 'salmon', 'salad'], ['i', 'wont', 'be', 'back'], ['we', 'could', 'not', 'believe', 'how', 'dirty', 'the', 'oysters', 'were'], ['this', 'place', 'deserves', 'no', 'stars'], ['i', 'would', 'not', 'recommend', 'this', 'place'], ['in', 'fact', 'im', 'going', 'to', 'round', 'up', 'to', 'stars', 'just', 'because', 'she', 'was', 'so', 'awesome'], ['to', 'my', 'disbelief', 'each', 'dish', 'qualified', 'as', 'the', 'worst', 'version', 'of', 'these', 'foods', 'i', 'have', 'ever', 'tasted'], ['bad', 'day', 'or', 'not', 'i', 'have', 'a', 'very', 'low', 'tolerance', 'for', 'rude', 'customer', 'service', 'people', 'it', 'is', 'your', 'job', 'to', 'be', 'nice', 'and', 'polite', 'wash', 'dishes', 'otherwise'], ['the', 'potatoes', 'were', 'great', 'and', 'so', 'was', 'the', 'biscuit'], ['i', 'probably', 'would', 'not', 'go', 'here', 'again'], ['so', 'flavorful', 'and', 'has', 'just', 'the', 'perfect', 'amount', 'of', 'heat'], ['the', 'price', 'is', 'reasonable', 'and', 'the', 'service', 'is', 'great'], ['the', 'wife', 'hated', 'her', 'meal', 'coconut', 'shrimp', 'and', 'our', 'friends', 'really', 'did', 'not', 'enjoy', 'their', 'meals', 'either'], ['my', 'fella', 'got', 'the', 'huevos', 'rancheros', 'and', 'they', 'didnt', 'look', 'too', 'appealing'], ['went', 'in', 'for', 'happy', 'hour', 'great', 'list', 'of', 'wines'], ['some', 'may', 'say', 'this', 'buffet', 'is', 'pricey', 'but', 'i', 'think', 'you', 'get', 'what', 'you', 'pay', 'for', 'and', 'this', 'place', 'you', 'are', 'getting', 'quite', 'a', 'lot'], ['i', 'probably', 'wont', 'be', 'coming', 'back', 'here'], ['worst', 'foodservice', 'ive', 'had', 'in', 'a', 'while'], ['this', 'place', 'is', 'pretty', 'good', 'nice', 'little', 'vibe', 'in', 'the', 'restaurant'], ['talk', 'about', 'great', 'customer', 'service', 'of', 'course', 'we', 'will', 'be', 'back'], ['hot', 'dishes', 'are', 'not', 'hot', 'cold', 'dishes', 'are', 'close', 'to', 'room', 'tempi', 'watched', 'staff', 'prepare', 'food', 'with', 'bare', 'hands', 'no', 'gloveseverything', 'is', 'deep', 'fried', 'in', 'oil'], ['i', 'love', 'their', 'fries', 'and', 'their', 'beans'], ['always', 'a', 'pleasure', 'dealing', 'with', 'him'], ['they', 'have', 'a', 'plethora', 'of', 'salads', 'and', 'sandwiches', 'and', 'everything', 'ive', 'tried', 'gets', 'my', 'seal', 'of', 'approval'], ['this', 'place', 'is', 'awesome', 'if', 'you', 'want', 'something', 'light', 'and', 'healthy', 'during', 'the', 'summer'], ['for', 'sushi', 'on', 'the', 'strip', 'this', 'is', 'the', 'place', 'to', 'go'], ['the', 'service', 'was', 'great', 'even', 'the', 'manager', 'came', 'and', 'helped', 'with', 'our', 'table'], ['the', 'feel', 'of', 'the', 'dining', 'room', 'was', 'more', 'college', 'cooking', 'course', 'than', 'high', 'class', 'dining', 'and', 'the', 'service', 'was', 'slow', 'at', 'best'], ['i', 'started', 'this', 'review', 'with', 'two', 'stars', 'but', 'im', 'editing', 'it', 'to', 'give', 'it', 'only', 'one'], ['this', 'is', 'the', 'worst', 'sushi', 'i', 'have', 'ever', 'eat', 'besides', 'costcos'], ['all', 'in', 'all', 'an', 'excellent', 'restaurant', 'highlighted', 'by', 'great', 'service', 'a', 'unique', 'menu', 'and', 'a', 'beautiful', 'setting'], ['my', 'boyfriend', 'and', 'i', 'sat', 'at', 'the', 'bar', 'and', 'had', 'a', 'completely', 'delightful', 'experience'], ['weird', 'vibe', 'from', 'owners'], ['there', 'was', 'hardly', 'any', 'meat'], ['ive', 'had', 'better', 'bagels', 'from', 'the', 'grocery', 'store'], ['go', 'to', 'place', 'for', 'gyros'], ['i', 'love', 'the', 'ownerchef', 'his', 'one', 'authentic', 'japanese', 'cool', 'dude'], ['now', 'the', 'burgers', 'arent', 'as', 'good', 'the', 'pizza', 'which', 'used', 'to', 'be', 'amazing', 'is', 'doughy', 'and', 'flavorless'], ['i', 'found', 'a', 'six', 'inch', 'long', 'piece', 'of', 'wire', 'in', 'my', 'salsa'], ['the', 'service', 'was', 'terrible', 'food', 'was', 'mediocre'], ['we', 'definately', 'enjoyed', 'ourselves'], ['i', 'ordered', 'albondigas', 'soup', 'which', 'was', 'just', 'warm', 'and', 'tasted', 'like', 'tomato', 'soup', 'with', 'frozen', 'meatballs'], ['on', 'three', 'different', 'occasions', 'i', 'asked', 'for', 'well', 'done', 'or', 'medium', 'well', 'and', 'all', 'three', 'times', 'i', 'got', 'the', 'bloodiest', 'piece', 'of', 'meat', 'on', 'my', 'plate'], ['i', 'had', 'about', 'two', 'bites', 'and', 'refused', 'to', 'eat', 'anymore'], ['the', 'service', 'was', 'extremely', 'slow'], ['after', 'minutes', 'wait', 'i', 'got', 'a', 'table'], ['seriously', 'killer', 'hot', 'chai', 'latte'], ['no', 'allergy', 'warnings', 'on', 'the', 'menu', 'and', 'the', 'waitress', 'had', 'absolutely', 'no', 'clue', 'as', 'to', 'which', 'meals', 'did', 'or', 'did', 'not', 'contain', 'peanuts'], ['my', 'boyfriend', 'tried', 'the', 'mediterranean', 'chicken', 'salad', 'and', 'fell', 'in', 'love'], ['their', 'rotating', 'beers', 'on', 'tap', 'is', 'also', 'a', 'highlight', 'of', 'this', 'place'], ['pricing', 'is', 'a', 'bit', 'of', 'a', 'concern', 'at', 'mellow', 'mushroom'], ['worst', 'thai', 'ever'], ['if', 'you', 'stay', 'in', 'vegas', 'you', 'must', 'get', 'breakfast', 'here', 'at', 'least', 'once'], ['i', 'want', 'to', 'first', 'say', 'our', 'server', 'was', 'great', 'and', 'we', 'had', 'perfect', 'service'], ['the', 'pizza', 'selections', 'are', 'good'], ['i', 'had', 'strawberry', 'tea', 'which', 'was', 'good'], ['highly', 'unprofessional', 'and', 'rude', 'to', 'a', 'loyal', 'patron'], ['overall', 'a', 'great', 'experience'], ['spend', 'your', 'money', 'elsewhere'], ['their', 'regular', 'toasted', 'bread', 'was', 'equally', 'satisfying', 'with', 'the', 'occasional', 'pats', 'of', 'butter', 'mmmm'], ['the', 'buffet', 'at', 'bellagio', 'was', 'far', 'from', 'what', 'i', 'anticipated'], ['and', 'the', 'drinks', 'are', 'weak', 'people'], ['my', 'order', 'was', 'not', 'correct'], ['also', 'i', 'feel', 'like', 'the', 'chips', 'are', 'bought', 'not', 'made', 'in', 'house'], ['after', 'the', 'disappointing', 'dinner', 'we', 'went', 'elsewhere', 'for', 'dessert'], ['the', 'chips', 'and', 'sals', 'a', 'here', 'is', 'amazing'], ['we', 'wont', 'be', 'returning'], ['this', 'is', 'my', 'new', 'fav', 'vegas', 'buffet', 'spot'], ['i', 'seriously', 'cannot', 'believe', 'that', 'the', 'owner', 'has', 'so', 'many', 'unexperienced', 'employees', 'that', 'all', 'are', 'running', 'around', 'like', 'chickens', 'with', 'their', 'heads', 'cut', 'off'], ['very', 'very', 'sad'], ['i', 'felt', 'insulted', 'and', 'disrespected', 'how', 'could', 'you', 'talk', 'and', 'judge', 'another', 'human', 'being', 'like', 'that'], ['how', 'can', 'you', 'call', 'yourself', 'a', 'steakhouse', 'if', 'you', 'cant', 'properly', 'cook', 'a', 'steak', 'i', 'dont', 'understand'], ['im', 'not', 'impressed', 'with', 'the', 'concept', 'or', 'the', 'food'], ['the', 'only', 'thing', 'i', 'wasnt', 'too', 'crazy', 'about', 'was', 'their', 'guacamole', 'as', 'i', 'dont', 'like', 'it', 'pured'], ['there', 'is', 'really', 'nothing', 'for', 'me', 'at', 'postinos', 'hope', 'your', 'experience', 'is', 'better'], ['i', 'got', 'food', 'poisoning', 'here', 'at', 'the', 'buffet'], ['they', 'brought', 'a', 'fresh', 'batch', 'of', 'fries', 'and', 'i', 'was', 'thinking', 'yay', 'something', 'warm', 'but', 'no'], ['what', 'should', 'have', 'been', 'a', 'hilarious', 'yummy', 'christmas', 'eve', 'dinner', 'to', 'remember', 'was', 'the', 'biggest', 'fail', 'of', 'the', 'entire', 'trip', 'for', 'us'], ['needless', 'to', 'say', 'i', 'wont', 'be', 'going', 'back', 'anytime', 'soon'], ['this', 'place', 'is', 'disgusting'], ['every', 'time', 'i', 'eat', 'here', 'i', 'see', 'caring', 'teamwork', 'to', 'a', 'professional', 'degree'], ['the', 'ri', 'style', 'calamari', 'was', 'a', 'joke'], ['however', 'there', 'was', 'so', 'much', 'garlic', 'in', 'the', 'fondue', 'it', 'was', 'barely', 'edible'], ['i', 'could', 'barely', 'stomach', 'the', 'meal', 'but', 'didnt', 'complain', 'because', 'it', 'was', 'a', 'business', 'lunch'], ['it', 'was', 'so', 'bad', 'i', 'had', 'lost', 'the', 'heart', 'to', 'finish', 'it'], ['it', 'also', 'took', 'her', 'forever', 'to', 'bring', 'us', 'the', 'check', 'when', 'we', 'asked', 'for', 'it'], ['we', 'arent', 'ones', 'to', 'make', 'a', 'scene', 'at', 'restaurants', 'but', 'i', 'just', 'dont', 'get', 'itdefinitely', 'lost', 'the', 'love', 'after', 'this', 'one'], ['disappointing', 'experience'], ['the', 'food', 'is', 'about', 'on', 'par', 'with', 'dennys', 'which', 'is', 'to', 'say', 'not', 'good', 'at', 'all'], ['if', 'you', 'want', 'to', 'wait', 'for', 'mediocre', 'food', 'and', 'downright', 'terrible', 'service', 'then', 'this', 'is', 'the', 'place', 'for', 'you'], ['waaaaaayyyyyyyyyy', 'over', 'rated', 'is', 'all', 'i', 'am', 'saying'], ['we', 'wont', 'be', 'going', 'back'], ['the', 'place', 'was', 'fairly', 'clean', 'but', 'the', 'food', 'simply', 'wasnt', 'worth', 'it'], ['this', 'place', 'lacked', 'style'], ['the', 'sangria', 'was', 'about', 'half', 'of', 'a', 'glass', 'wine', 'full', 'and', 'was', 'ridiculous'], ['dont', 'bother', 'coming', 'here'], ['the', 'meat', 'was', 'pretty', 'dry', 'i', 'had', 'the', 'sliced', 'brisket', 'and', 'pulled', 'pork'], ['the', 'building', 'itself', 'seems', 'pretty', 'neat', 'the', 'bathroom', 'is', 'pretty', 'trippy', 'but', 'i', 'wouldnt', 'eat', 'here', 'again'], ['it', 'was', 'equally', 'awful'], ['probably', 'not', 'in', 'a', 'hurry', 'to', 'go', 'back'], ['very', 'slow', 'at', 'seating', 'even', 'with', 'reservation'], ['not', 'good', 'by', 'any', 'stretch', 'of', 'the', 'imagination'], ['the', 'cashew', 'cream', 'sauce', 'was', 'bland', 'and', 'the', 'vegetables', 'were', 'undercooked'], ['the', 'chipolte', 'ranch', 'dipping', 'sause', 'was', 'tasteless', 'seemed', 'thin', 'and', 'watered', 'down', 'with', 'no', 'heat'], ['it', 'was', 'a', 'bit', 'too', 'sweet', 'not', 'really', 'spicy', 'enough', 'and', 'lacked', 'flavor'], ['i', 'was', 'very', 'disappointed'], ['this', 'place', 'is', 'horrible', 'and', 'way', 'overpriced'], ['maybe', 'its', 'just', 'their', 'vegetarian', 'fare', 'but', 'ive', 'been', 'twice', 'and', 'i', 'thought', 'it', 'was', 'average', 'at', 'best'], ['it', 'wasnt', 'busy', 'at', 'all', 'and', 'now', 'we', 'know', 'why'], ['the', 'tables', 'outside', 'are', 'also', 'dirty', 'a', 'lot', 'of', 'the', 'time', 'and', 'the', 'workers', 'are', 'not', 'always', 'friendly', 'and', 'helpful', 'with', 'the', 'menu'], ['the', 'ambiance', 'here', 'did', 'not', 'feel', 'like', 'a', 'buffet', 'setting', 'but', 'more', 'of', 'a', 'douchey', 'indoor', 'garden', 'for', 'tea', 'and', 'biscuits'], ['con', 'spotty', 'service'], ['the', 'fries', 'were', 'not', 'hot', 'and', 'neither', 'was', 'my', 'burger'], ['but', 'then', 'they', 'came', 'back', 'cold'], ['then', 'our', 'food', 'came', 'out', 'disappointment', 'ensued'], ['the', 'real', 'disappointment', 'was', 'our', 'waiter'], ['my', 'husband', 'said', 'she', 'was', 'very', 'rude', 'did', 'not', 'even', 'apologize', 'for', 'the', 'bad', 'food', 'or', 'anything'], ['the', 'only', 'reason', 'to', 'eat', 'here', 'would', 'be', 'to', 'fill', 'up', 'before', 'a', 'night', 'of', 'binge', 'drinking', 'just', 'to', 'get', 'some', 'carbs', 'in', 'your', 'stomach'], ['insults', 'profound', 'deuchebaggery', 'and', 'had', 'to', 'go', 'outside', 'for', 'a', 'smoke', 'break', 'while', 'serving', 'just', 'to', 'solidify', 'it'], ['if', 'someone', 'orders', 'two', 'tacos', 'dont', 'you', 'think', 'it', 'may', 'be', 'part', 'of', 'customer', 'service', 'to', 'ask', 'if', 'it', 'is', 'combo', 'or', 'ala', 'cart'], ['she', 'was', 'quite', 'disappointed', 'although', 'some', 'blame', 'needs', 'to', 'be', 'placed', 'at', 'her', 'door'], ['after', 'all', 'the', 'rave', 'reviews', 'i', 'couldnt', 'wait', 'to', 'eat', 'herewhat', 'a', 'disappointment'], ['del', 'taco', 'is', 'pretty', 'nasty', 'and', 'should', 'be', 'avoided', 'if', 'possible'], ['its', 'not', 'hard', 'to', 'make', 'a', 'decent', 'hamburger'], ['but', 'i', 'dont', 'like', 'it'], ['hell', 'no', 'will', 'i', 'go', 'back'], ['weve', 'have', 'gotten', 'a', 'much', 'better', 'service', 'from', 'the', 'pizza', 'place', 'next', 'door', 'than', 'the', 'services', 'we', 'received', 'from', 'this', 'restaurant'], ['i', 'dont', 'know', 'what', 'the', 'big', 'deal', 'is', 'about', 'this', 'place', 'but', 'i', 'wont', 'be', 'back', 'yaall'], ['i', 'immediately', 'said', 'i', 'wanted', 'to', 'talk', 'to', 'the', 'manager', 'but', 'i', 'did', 'not', 'want', 'to', 'talk', 'to', 'the', 'guy', 'who', 'was', 'doing', 'shots', 'of', 'fireball', 'behind', 'the', 'bar'], ['the', 'ambiance', 'isnt', 'much', 'better'], ['unfortunately', 'it', 'only', 'set', 'us', 'up', 'for', 'disapppointment', 'with', 'our', 'entrees'], ['the', 'food', 'wasnt', 'good'], ['your', 'servers', 'suck', 'wait', 'correction', 'our', 'server', 'heimer', 'sucked'], ['what', 'happened', 'next', 'was', 'prettyoff', 'putting'], ['too', 'bad', 'cause', 'i', 'know', 'its', 'family', 'owned', 'i', 'really', 'wanted', 'to', 'like', 'this', 'place'], ['overpriced', 'for', 'what', 'you', 'are', 'getting'], ['i', 'vomited', 'in', 'the', 'bathroom', 'mid', 'lunch'], ['i', 'kept', 'looking', 'at', 'the', 'time', 'and', 'it', 'had', 'soon', 'become', 'minutes', 'yet', 'still', 'no', 'food'], ['i', 'have', 'been', 'to', 'very', 'few', 'places', 'to', 'eat', 'that', 'under', 'no', 'circumstances', 'would', 'i', 'ever', 'return', 'to', 'and', 'this', 'tops', 'the', 'list'], ['we', 'started', 'with', 'the', 'tuna', 'sashimi', 'which', 'was', 'brownish', 'in', 'color', 'and', 'obviously', 'wasnt', 'fresh'], ['food', 'was', 'below', 'average'], ['it', 'sure', 'does', 'beat', 'the', 'nachos', 'at', 'the', 'movies', 'but', 'i', 'would', 'expect', 'a', 'little', 'bit', 'more', 'coming', 'from', 'a', 'restaurant'], ['all', 'in', 'all', 'ha', 'long', 'bay', 'was', 'a', 'bit', 'of', 'a', 'flop'], ['the', 'problem', 'i', 'have', 'is', 'that', 'they', 'charge', 'for', 'a', 'sandwich', 'that', 'is', 'no', 'bigger', 'than', 'a', 'subway', 'sub', 'which', 'offers', 'better', 'and', 'more', 'amount', 'of', 'vegetables'], ['shrimp', 'when', 'i', 'unwrapped', 'it', 'i', 'live', 'only', 'a', 'mile', 'from', 'brushfire', 'it', 'was', 'literally', 'ice', 'cold'], ['it', 'lacked', 'flavor', 'seemed', 'undercooked', 'and', 'dry'], ['it', 'really', 'is', 'impressive', 'that', 'the', 'place', 'hasnt', 'closed', 'down'], ['i', 'would', 'avoid', 'this', 'place', 'if', 'you', 'are', 'staying', 'in', 'the', 'mirage'], ['the', 'refried', 'beans', 'that', 'came', 'with', 'my', 'meal', 'were', 'dried', 'out', 'and', 'crusty', 'and', 'the', 'food', 'was', 'bland'], ['spend', 'your', 'money', 'and', 'time', 'some', 'place', 'else'], ['a', 'lady', 'at', 'the', 'table', 'next', 'to', 'us', 'found', 'a', 'live', 'green', 'caterpillar', 'in', 'her', 'salad'], ['the', 'presentation', 'of', 'the', 'food', 'was', 'awful'], ['i', 'cant', 'tell', 'you', 'how', 'disappointed', 'i', 'was'], ['i', 'think', 'food', 'should', 'have', 'flavor', 'and', 'texture', 'and', 'both', 'were', 'lacking'], ['appetite', 'instantly', 'gone'], ['overall', 'i', 'was', 'not', 'impressed', 'and', 'would', 'not', 'go', 'back'], ['the', 'whole', 'experience', 'was', 'underwhelming', 'and', 'i', 'think', 'well', 'just', 'go', 'to', 'ninja', 'sushi', 'next', 'time'], ['then', 'as', 'if', 'i', 'hadnt', 'wasted', 'enough', 'of', 'my', 'life', 'there', 'they', 'poured', 'salt', 'in', 'the', 'wound', 'by', 'drawing', 'out', 'the', 'time', 'it', 'took', 'to', 'bring', 'the', 'check']]\n"
          ]
        }
      ]
    },
    {
      "cell_type": "code",
      "source": [
        "tokens_quantity = []\n",
        "for element in tokens:\n",
        "  if isinstance(element, list):\n",
        "    tokens_quantity.extend(element)\n",
        "\n",
        "quantity = len(tokens_quantity)\n",
        "\n",
        "print(f\"Se encontraron {quantity} tokens en todo el corpus\")"
      ],
      "metadata": {
        "id": "DZs_etmiV-fd",
        "colab": {
          "base_uri": "https://localhost:8080/"
        },
        "outputId": "dfbb0179-5d4c-452c-dcdb-11d15786feb8"
      },
      "execution_count": 99,
      "outputs": [
        {
          "output_type": "stream",
          "name": "stdout",
          "text": [
            "Se encontraron 10777 tokens en todo el corpus\n"
          ]
        }
      ]
    },
    {
      "cell_type": "markdown",
      "source": [
        "*   **Pregunta 15.**  \n",
        "\n",
        "Finalmente, en este ejercicio definiremos nuestro conjunto de palabras \"stopwords\", las cuales deberás eliminar de todo el corpus.\n",
        "\n",
        "Recuerda que ejemplos de stopwords son artículos, adverbios, conectivos, etcétera, que tienen frecuencias de aparición muy altas en cualquier documento, pero que no brindan mucho significado en cuanto al significado de un enunciado.\n",
        "\n",
        "Con base a la lista de stopwords que se te proporciona, realiza un proceso de limpieza eliminando todas estas palabras del corpus obtenido en el ejercicio anterior.\n",
        "\n",
        "Obtener cuántos tokens/palabras quedan finalmente en todo el corpus.\n",
        "\n",
        "Obtener cuántos de estos tokens/palabras son diferentes, es decir, cuántos tokens únicos tendrá lo que llamaremos más adelante nuestro vocabulario."
      ],
      "metadata": {
        "id": "EFeu0OJ7WDPD"
      }
    },
    {
      "cell_type": "code",
      "source": [
        "# Considera la siguiente lista como tu conjunto de stopwords:\n",
        "mis_stopwords = ['i', 'me', 'my', 'myself', 'we', 'our', 'ours', 'ourselves', 'you', 'your', 'yours', 'he', 'him', 'his', 'himself', 'she', 'her', 'hers', 'herself', 'it', 'its', 'itself', 'they', 'them', 'their', 'theirs', 'themselves', 'what', 'which', 'who', 'whom', 'this', 'that', 'these', 'those', 'am', 'is', 'are', 'was', 'were', 'be', 'been', 'being', 'have', 'has', 'had', 'having', 'do', 'does', 'did', 'doing', 'a', 'an', 'the', 'and', 'but', 'if', 'or', 'because', 'as', 'until', 'while', 'of', 'at', 'by', 'for', 'with', 'about', 'against', 'between', 'into', 'through', 'during', 'before', 'after', 'above', 'below', 'to', 'from', 'up', 'down', 'in', 'out', 'on', 'over', 'under', 'again', 'further', 'then', 'once', 'here', 'there', 'when', 'where', 'why', 'how', 'all', 'any', 'both', 'each', 'few', 'more', 'most', 'other', 'some', 'such', 'only', 'own', 'same', 'so', 'than', 'too', 'very', 's', 't', 'can', 'will', 'just', 'should', 'now', 'll']"
      ],
      "metadata": {
        "id": "6FP4FF3KXGxm"
      },
      "execution_count": 111,
      "outputs": []
    },
    {
      "cell_type": "code",
      "source": [
        "corpus_stopwords = [token for token in tokens_quantity if token not in mis_stopwords]\n",
        "\n",
        "print(corpus_stopwords)"
      ],
      "metadata": {
        "id": "CD8yjyq1ZrwY",
        "colab": {
          "base_uri": "https://localhost:8080/"
        },
        "outputId": "9503dd33-35e9-45af-ee2e-06b21af21a81"
      },
      "execution_count": 112,
      "outputs": [
        {
          "output_type": "stream",
          "name": "stdout",
          "text": [
            "['wow', 'loved', 'place', 'crust', 'not', 'good', 'not', 'tasty', 'texture', 'nasty', 'stopped', 'late', 'may', 'bank', 'holiday', 'off', 'rick', 'steve', 'recommendation', 'loved', 'selection', 'menu', 'great', 'prices', 'getting', 'angry', 'want', 'damn', 'pho', 'honeslty', 'didnt', 'taste', 'fresh', 'potatoes', 'like', 'rubber', 'could', 'tell', 'made', 'ahead', 'time', 'kept', 'warmer', 'fries', 'great', 'great', 'touch', 'service', 'prompt', 'would', 'not', 'go', 'back', 'cashier', 'no', 'care', 'ever', 'say', 'still', 'ended', 'wayyy', 'overpriced', 'tried', 'cape', 'cod', 'ravoli', 'chickenwith', 'cranberrymmmm', 'disgusted', 'pretty', 'sure', 'human', 'hair', 'shocked', 'no', 'signs', 'indicate', 'cash', 'highly', 'recommended', 'waitress', 'little', 'slow', 'service', 'place', 'not', 'worth', 'time', 'let', 'alone', 'vegas', 'not', 'like', 'burrittos', 'blah', 'food', 'amazing', 'service', 'also', 'cute', 'could', 'care', 'less', 'interior', 'beautiful', 'performed', 'thats', 'rightthe', 'red', 'velvet', 'cakeohhh', 'stuff', 'good', 'never', 'brought', 'salad', 'asked', 'hole', 'wall', 'great', 'mexican', 'street', 'tacos', 'friendly', 'staff', 'took', 'hour', 'get', 'food', 'tables', 'restaurant', 'food', 'luke', 'warm', 'sever', 'running', 'around', 'like', 'totally', 'overwhelmed', 'worst', 'salmon', 'sashimi', 'also', 'combos', 'like', 'burger', 'fries', 'beer', 'decent', 'deal', 'like', 'final', 'blow', 'found', 'place', 'accident', 'could', 'not', 'happier', 'seems', 'like', 'good', 'quick', 'place', 'grab', 'bite', 'familiar', 'pub', 'food', 'yourself', 'favor', 'look', 'elsewhere', 'overall', 'like', 'place', 'lot', 'redeeming', 'quality', 'restaurant', 'inexpensive', 'ample', 'portions', 'good', 'prices', 'poor', 'service', 'waiter', 'made', 'feel', 'like', 'stupid', 'every', 'time', 'came', 'table', 'first', 'visit', 'hiro', 'delight', 'service', 'sucks', 'shrimp', 'tender', 'moist', 'not', 'deal', 'good', 'enough', 'would', 'drag', 'establishment', 'hard', 'judge', 'whether', 'sides', 'good', 'grossed', 'melted', 'styrofoam', 'didnt', 'want', 'eat', 'fear', 'getting', 'sick', 'positive', 'note', 'server', 'attentive', 'provided', 'great', 'service', 'frozen', 'pucks', 'disgust', 'worst', 'people', 'behind', 'register', 'thing', 'like', 'prime', 'rib', 'dessert', 'section', 'bad', 'food', 'damn', 'generic', 'burger', 'good', 'beef', 'cooked', 'right', 'want', 'sandwich', 'go', 'firehouse', 'side', 'greek', 'salad', 'greek', 'dressing', 'tasty', 'pita', 'hummus', 'refreshing', 'ordered', 'duck', 'rare', 'pink', 'tender', 'inside', 'nice', 'char', 'outside', 'came', 'running', 'us', 'realized', 'husband', 'left', 'sunglasses', 'table', 'chow', 'mein', 'good', 'horrible', 'attitudes', 'towards', 'customers', 'talk', 'one', 'customers', 'dont', 'enjoy', 'food', 'portion', 'huge', 'loved', 'itfriendly', 'servers', 'great', 'food', 'wonderful', 'imaginative', 'menu', 'heart', 'attack', 'grill', 'downtown', 'vegas', 'absolutely', 'flatlined', 'excuse', 'restaurant', 'not', 'much', 'seafood', 'like', 'strings', 'pasta', 'bottom', 'salad', 'right', 'amount', 'sauce', 'not', 'power', 'scallop', 'perfectly', 'cooked', 'ripped', 'banana', 'not', 'ripped', 'petrified', 'tasteless', 'least', 'think', 'refill', 'water', 'struggle', 'wave', 'minutes', 'place', 'receives', 'stars', 'appetizers', 'cocktails', 'handmade', 'delicious', 'wed', 'definitely', 'go', 'back', 'glad', 'found', 'place', 'great', 'food', 'service', 'huge', 'portions', 'give', 'military', 'discount', 'always', 'great', 'time', 'dos', 'gringos', 'updatewent', 'back', 'second', 'time', 'still', 'amazing', 'got', 'food', 'apparently', 'never', 'heard', 'salt', 'batter', 'fish', 'chewy', 'great', 'way', 'finish', 'great', 'deal', 'included', 'tastings', 'drinks', 'jeff', 'went', 'beyond', 'expected', 'really', 'really', 'good', 'rice', 'time', 'service', 'meh', 'took', 'min', 'get', 'milkshake', 'nothing', 'chocolate', 'milk', 'guess', 'known', 'place', 'would', 'suck', 'inside', 'excalibur', 'didnt', 'use', 'common', 'sense', 'scallop', 'dish', 'quite', 'appalling', 'value', 'well', 'times', 'bad', 'customer', 'service', 'sweet', 'potato', 'fries', 'good', 'seasoned', 'well', 'today', 'second', 'time', 'ive', 'lunch', 'buffet', 'pretty', 'good', 'much', 'good', 'food', 'vegas', 'feel', 'cheated', 'wasting', 'eating', 'opportunity', 'going', 'rice', 'company', 'coming', 'like', 'experiencing', 'underwhelming', 'relationship', 'parties', 'cant', 'wait', 'person', 'ask', 'break', 'walked', 'place', 'smelled', 'like', 'old', 'grease', 'trap', 'others', 'eating', 'turkey', 'roast', 'beef', 'bland', 'place', 'pan', 'cakes', 'everyone', 'raving', 'taste', 'like', 'sugary', 'disaster', 'tailored', 'palate', 'six', 'year', 'old', 'love', 'pho', 'spring', 'rolls', 'oh', 'yummy', 'try', 'poor', 'batter', 'meat', 'ratio', 'made', 'chicken', 'tenders', 'unsatisfying', 'say', 'food', 'amazing', 'omelets', 'die', 'everything', 'fresh', 'delicious', 'summary', 'largely', 'disappointing', 'dining', 'experience', 'like', 'really', 'sexy', 'party', 'mouth', 'youre', 'outrageously', 'flirting', 'hottest', 'person', 'party', 'never', 'hard', 'rock', 'casino', 'never', 'ever', 'step', 'forward', 'best', 'breakfast', 'buffet', 'say', 'bye', 'bye', 'tip', 'lady', 'well', 'never', 'go', 'back', 'food', 'arrived', 'quickly', 'not', 'good', 'side', 'cafe', 'serves', 'really', 'good', 'food', 'server', 'fantastic', 'found', 'wife', 'loves', 'roasted', 'garlic', 'bone', 'marrow', 'added', 'extra', 'meal', 'another', 'marrow', 'go', 'good', 'thing', 'waiter', 'helpful', 'kept', 'bloddy', 'marys', 'coming', 'best', 'buffet', 'town', 'price', 'cannot', 'beat', 'loved', 'mussels', 'cooked', 'wine', 'reduction', 'duck', 'tender', 'potato', 'dishes', 'delicious', 'one', 'better', 'buffets', 'went', 'tigerlilly', 'fantastic', 'afternoon', 'food', 'delicious', 'bartender', 'attentive', 'personable', 'got', 'great', 'deal', 'ambience', 'wonderful', 'music', 'playing', 'go', 'back', 'next', 'trip', 'sooooo', 'good', 'real', 'sushi', 'lovers', 'lets', 'honest', 'yama', 'not', 'good', 'least', 'min', 'passed', 'us', 'ordering', 'food', 'arriving', 'wasnt', 'busy', 'really', 'fantastic', 'thai', 'restaurant', 'definitely', 'worth', 'visit', 'nice', 'spicy', 'tender', 'good', 'prices', 'check', 'pretty', 'gross', 'ive', 'better', 'atmosphere', 'kind', 'hard', 'mess', 'steak', 'although', 'much', 'liked', 'look', 'sound', 'place', 'actual', 'experience', 'bit', 'disappointing', 'dont', 'know', 'place', 'managed', 'served', 'blandest', 'food', 'ever', 'eaten', 'preparing', 'indian', 'cuisine', 'worst', 'service', 'boot', 'least', 'worries', 'service', 'fine', 'waitress', 'friendly', 'guys', 'steaks', 'steak', 'loving', 'son', 'steak', 'best', 'worst', 'places', 'said', 'best', 'steak', 'hes', 'ever', 'eaten', 'thought', 'youd', 'venture', 'away', 'get', 'good', 'sushi', 'place', 'really', 'hit', 'spot', 'night', 'host', 'staff', 'lack', 'better', 'word', 'bitches', 'bland', 'not', 'liking', 'place', 'number', 'reasons', 'dont', 'want', 'waste', 'time', 'bad', 'reviewing', 'ill', 'leave', 'phenomenal', 'food', 'service', 'ambiance', 'wouldnt', 'return', 'definitely', 'worth', 'venturing', 'off', 'strip', 'pork', 'belly', 'return', 'next', 'time', 'im', 'vegas', 'place', 'way', 'overpriced', 'mediocre', 'food', 'penne', 'vodka', 'excellent', 'good', 'selection', 'food', 'including', 'massive', 'meatloaf', 'sandwich', 'crispy', 'chicken', 'wrap', 'delish', 'tuna', 'melt', 'tasty', 'burgers', 'management', 'rude', 'delicious', 'nyc', 'bagels', 'good', 'selections', 'cream', 'cheese', 'real', 'lox', 'capers', 'even', 'great', 'subway', 'fact', 'good', 'come', 'every', 'subway', 'not', 'meet', 'expectations', 'seriously', 'solid', 'breakfast', 'one', 'best', 'bars', 'food', 'vegas', 'extremely', 'rude', 'really', 'many', 'restaurants', 'would', 'love', 'dine', 'weekend', 'vegas', 'drink', 'never', 'empty', 'made', 'really', 'great', 'menu', 'suggestions', 'dont', 'waiter', 'wasnt', 'helpful', 'friendly', 'rarely', 'checked', 'us', 'husband', 'ate', 'lunch', 'disappointed', 'food', 'service', 'red', 'curry', 'much', 'bamboo', 'shoots', 'wasnt', 'tasty', 'nice', 'blanket', 'moz', 'top', 'feel', 'like', 'done', 'cover', 'subpar', 'food', 'bathrooms', 'clean', 'place', 'well', 'decorated', 'menu', 'always', 'changing', 'food', 'quality', 'going', 'service', 'extremely', 'slow', 'service', 'little', 'slow', 'considering', 'served', 'people', 'servers', 'food', 'coming', 'slow', 'pace', 'give', 'thumbs', 'watched', 'waiter', 'pay', 'lot', 'attention', 'tables', 'ignore', 'us', 'fianc', 'came', 'middle', 'day', 'greeted', 'seated', 'right', 'away', 'great', 'restaurant', 'mandalay', 'bay', 'waited', 'forty', 'five', 'minutes', 'vain', 'crostini', 'came', 'salad', 'stale', 'highlights', 'great', 'quality', 'nigiri', 'staff', 'friendly', 'joint', 'always', 'clean', 'different', 'cut', 'piece', 'day', 'still', 'wonderful', 'tender', 'well', 'well', 'flavored', 'ordered', 'voodoo', 'pasta', 'first', 'time', 'id', 'really', 'excellent', 'pasta', 'since', 'going', 'gluten', 'free', 'several', 'years', 'ago', 'place', 'good', 'unfortunately', 'must', 'hit', 'bakery', 'leftover', 'day', 'everything', 'ordered', 'stale', 'came', 'back', 'today', 'since', 'relocated', 'still', 'not', 'impressed', 'seated', 'immediately', 'menu', 'diverse', 'reasonably', 'priced', 'avoid', 'cost', 'restaurant', 'always', 'full', 'never', 'wait', 'delicious', 'place', 'handsdown', 'one', 'best', 'places', 'eat', 'phoenix', 'metro', 'area', 'dont', 'go', 'looking', 'good', 'food', 'ive', 'never', 'treated', 'bad', 'bacon', 'hella', 'salty', 'also', 'ordered', 'spinach', 'avocado', 'salad', 'ingredients', 'sad', 'dressing', 'literally', 'zero', 'taste', 'really', 'vegas', 'fine', 'dining', 'used', 'right', 'menus', 'handed', 'ladies', 'no', 'prices', 'listed', 'waitresses', 'friendly', 'lordy', 'khao', 'soi', 'dish', 'not', 'missed', 'curry', 'lovers', 'everything', 'menu', 'terrific', 'also', 'thrilled', 'made', 'amazing', 'accommodations', 'vegetarian', 'daughter', 'perhaps', 'caught', 'off', 'night', 'judging', 'reviews', 'im', 'not', 'inspired', 'go', 'back', 'service', 'leaves', 'lot', 'desired', 'atmosphere', 'modern', 'hip', 'maintaining', 'touch', 'coziness', 'not', 'weekly', 'haunt', 'definitely', 'place', 'come', 'back', 'every', 'literally', 'sat', 'minutes', 'no', 'one', 'asking', 'take', 'order', 'burger', 'absolutely', 'no', 'flavor', 'meat', 'totally', 'bland', 'burger', 'overcooked', 'no', 'charcoal', 'flavor', 'also', 'decided', 'not', 'send', 'back', 'waitress', 'looked', 'like', 'verge', 'heart', 'attack', 'dressed', 'treated', 'rudely', 'probably', 'dirt', 'love', 'place', 'hits', 'spot', 'want', 'something', 'healthy', 'not', 'lacking', 'quantity', 'flavor', 'ordered', 'lemon', 'raspberry', 'ice', 'cocktail', 'also', 'incredible', 'food', 'sucked', 'expected', 'sucked', 'could', 'imagined', 'interesting', 'decor', 'really', 'like', 'crepe', 'station', 'also', 'served', 'hot', 'bread', 'butter', 'home', 'made', 'potato', 'chips', 'bacon', 'bits', 'topvery', 'original', 'good', 'watch', 'preparing', 'delicious', 'food', 'egg', 'rolls', 'fantastic', 'order', 'arrived', 'one', 'gyros', 'missing', 'salad', 'wings', 'ice', 'cream', 'dessert', 'left', 'feeling', 'quite', 'satisfied', 'im', 'not', 'really', 'sure', 'joeys', 'voted', 'best', 'hot', 'dog', 'valley', 'readers', 'phoenix', 'magazine', 'best', 'place', 'go', 'tasty', 'bowl', 'pho', 'live', 'music', 'fridays', 'totally', 'blows', 'ive', 'never', 'insulted', 'felt', 'disrespected', 'friendly', 'staff', 'worth', 'drive', 'heard', 'good', 'things', 'place', 'exceeding', 'every', 'hope', 'could', 'dreamed', 'food', 'great', 'serivce', 'warm', 'beer', 'didnt', 'help', 'great', 'brunch', 'spot', 'service', 'friendly', 'inviting', 'good', 'lunch', 'spot', 'ive', 'lived', 'since', 'first', 'last', 'time', 'ive', 'stepped', 'foot', 'place', 'worst', 'experience', 'ever', 'must', 'off', 'night', 'place', 'sides', 'delish', 'mixed', 'mushrooms', 'yukon', 'gold', 'puree', 'white', 'corn', 'beateous', 'bug', 'never', 'showed', 'would', 'given', 'sure', 'side', 'wall', 'bug', 'climbing', 'kitchen', 'minutes', 'waiting', 'salad', 'realized', 'wasnt', 'coming', 'time', 'soon', 'friend', 'loved', 'salmon', 'tartar', 'wont', 'go', 'back', 'extremely', 'tasty', 'waitress', 'good', 'though', 'soggy', 'not', 'good', 'jamaican', 'mojitos', 'delicious', 'small', 'not', 'worth', 'price', 'food', 'rich', 'order', 'accordingly', 'shower', 'area', 'outside', 'rinse', 'not', 'take', 'full', 'shower', 'unless', 'dont', 'mind', 'nude', 'everyone', 'see', 'service', 'bit', 'lacking', 'lobster', 'bisque', 'bussell', 'sprouts', 'risotto', 'filet', 'needed', 'salt', 'pepperand', 'course', 'none', 'tables', 'hopefully', 'bodes', 'going', 'business', 'someone', 'cook', 'come', 'either', 'cold', 'not', 'enough', 'flavor', 'bad', 'loved', 'bacon', 'wrapped', 'dates', 'unbelievable', 'bargain', 'folks', 'otto', 'always', 'make', 'us', 'feel', 'welcome', 'special', 'mains', 'also', 'uninspired', 'place', 'first', 'pho', 'amazing', 'wonderful', 'experience', 'made', 'place', 'muststop', 'whenever', 'town', 'food', 'isnt', 'bad', 'enough', 'enjoy', 'dealing', 'worlds', 'worstannoying', 'drunk', 'people', 'fun', 'chef', 'ordered', 'double', 'cheeseburger', 'got', 'single', 'patty', 'falling', 'apart', 'picture', 'uploaded', 'yeah', 'still', 'sucks', 'great', 'place', 'couple', 'drinks', 'watch', 'sporting', 'events', 'walls', 'covered', 'tvs', 'possible', 'give', 'zero', 'stars', 'theyd', 'descriptions', 'said', 'yum', 'yum', 'sauce', 'another', 'said', 'eel', 'sauce', 'yet', 'another', 'said', 'spicy', 'mayowell', 'none', 'rolls', 'sauces', 'id', 'say', 'would', 'hardest', 'decision', 'honestly', 'ms', 'dishes', 'taste', 'supposed', 'taste', 'amazing', 'not', 'rolled', 'eyes', 'may', 'stayed', 'not', 'sure', 'go', 'back', 'try', 'everyone', 'attentive', 'providing', 'excellent', 'customer', 'service', 'horrible', 'dont', 'waste', 'time', 'money', 'dish', 'quite', 'flavourful', 'time', 'side', 'restaurant', 'almost', 'empty', 'no', 'excuse', 'wasnt', 'busy', 'either', 'also', 'building', 'freezing', 'cold', 'like', 'reviewer', 'said', 'couldnt', 'pay', 'eat', 'place', 'drinks', 'took', 'close', 'minutes', 'come', 'one', 'point', 'seriously', 'flavorful', 'delights', 'folks', 'much', 'better', 'ayce', 'sushi', 'place', 'went', 'vegas', 'lighting', 'dark', 'enough', 'set', 'mood', 'based', 'subpar', 'service', 'received', 'no', 'effort', 'show', 'gratitude', 'business', 'wont', 'going', 'back', 'owners', 'really', 'great', 'people', 'nothing', 'privileged', 'workingeating', 'greek', 'dressing', 'creamy', 'flavorful', 'overall', 'dont', 'think', 'would', 'take', 'parents', 'place', 'made', 'similar', 'complaints', 'silently', 'felt', 'pizza', 'good', 'peanut', 'sauce', 'tasty', 'table', 'service', 'pretty', 'fast', 'fantastic', 'service', 'well', 'wouldve', 'given', 'godfathers', 'zero', 'stars', 'possible', 'know', 'make', 'tough', 'short', 'flavor', 'hope', 'place', 'sticks', 'around', 'bars', 'vegas', 'not', 'ever', 'recall', 'charged', 'tap', 'water', 'restaurant', 'atmosphere', 'exquisite', 'good', 'service', 'clean', 'inexpensive', 'boot', 'seafood', 'fresh', 'generous', 'portion', 'plus', 'bucks', 'service', 'not', 'par', 'either', 'thus', 'far', 'visited', 'twice', 'food', 'absolutely', 'delicious', 'time', 'good', 'year', 'ago', 'self', 'proclaimed', 'coffee', 'cafe', 'wildly', 'disappointed', 'veggitarian', 'platter', 'world', 'cant', 'go', 'wrong', 'food', 'cant', 'beat', 'stopped', 'place', 'madison', 'ironman', 'friendly', 'kind', 'staff', 'chefs', 'friendly', 'good', 'job', 'ive', 'better', 'not', 'dedicated', 'boba', 'tea', 'spots', 'even', 'jenni', 'pho', 'liked', 'patio', 'service', 'outstanding', 'goat', 'taco', 'didnt', 'skimp', 'meat', 'wow', 'flavor', 'think', 'not', 'mac', 'salad', 'pretty', 'bland', 'not', 'getting', 'went', 'bachi', 'burger', 'friends', 'recommendation', 'not', 'disappointed', 'service', 'stinks', 'waited', 'waited', 'place', 'not', 'quality', 'sushi', 'not', 'quality', 'restaurant', 'would', 'definitely', 'recommend', 'wings', 'well', 'pizza', 'great', 'pizza', 'salads', 'things', 'went', 'wrong', 'burned', 'saganaki', 'waited', 'hour', 'breakfast', 'could', 'done', 'times', 'better', 'home', 'place', 'amazing', 'hate', 'disagree', 'fellow', 'yelpers', 'husband', 'disappointed', 'place', 'waited', 'hours', 'never', 'got', 'either', 'pizzas', 'many', 'around', 'us', 'came', 'later', 'dont', 'know', 'slow', 'staff', 'great', 'food', 'delish', 'incredible', 'beer', 'selection', 'live', 'neighborhood', 'disappointed', 'wont', 'back', 'convenient', 'location', 'didnt', 'know', 'pulled', 'pork', 'could', 'soooo', 'delicious', 'get', 'incredibly', 'fresh', 'fish', 'prepared', 'care', 'go', 'gave', 'star', 'rating', 'please', 'know', 'third', 'time', 'eating', 'bachi', 'burger', 'writing', 'review', 'love', 'fact', 'everything', 'menu', 'worth', 'never', 'dining', 'place', 'food', 'excellent', 'service', 'good', 'good', 'beer', 'drink', 'selection', 'good', 'food', 'selection', 'please', 'stay', 'away', 'shrimp', 'stir', 'fried', 'noodles', 'potato', 'chip', 'order', 'sad', 'could', 'probably', 'count', 'many', 'chips', 'box', 'probably', 'around', 'food', 'really', 'boring', 'good', 'servicecheck', 'greedy', 'corporation', 'never', 'see', 'another', 'dime', 'never', 'ever', 'go', 'back', 'much', 'id', 'like', 'go', 'back', 'cant', 'get', 'passed', 'atrocious', 'service', 'never', 'return', 'summer', 'dine', 'charming', 'outdoor', 'patio', 'delightful', 'not', 'expect', 'good', 'fantastic', 'food', 'ordered', 'toasted', 'english', 'muffin', 'came', 'untoasted', 'food', 'good', 'never', 'going', 'back', 'great', 'food', 'price', 'high', 'quality', 'house', 'made', 'bus', 'boy', 'hand', 'rude', 'point', 'friends', 'basically', 'figured', 'place', 'joke', 'didnt', 'mind', 'making', 'publicly', 'loudly', 'known', 'back', 'good', 'bbq', 'lighter', 'fare', 'reasonable', 'pricing', 'tell', 'public', 'back', 'old', 'ways', 'considering', 'two', 'us', 'left', 'full', 'happy', 'cant', 'go', 'wrong', 'bread', 'made', 'inhouse', 'downside', 'service', 'also', 'fries', 'without', 'doubt', 'worst', 'fries', 'ive', 'ever', 'service', 'exceptional', 'food', 'good', 'reviews', 'couple', 'months', 'later', 'returned', 'amazing', 'meal', 'favorite', 'place', 'town', 'shawarrrrrrma', 'black', 'eyed', 'peas', 'sweet', 'potatoes', 'unreal', 'wont', 'disappointed', 'could', 'serve', 'vinaigrette', 'may', 'make', 'better', 'overall', 'dish', 'still', 'good', 'go', 'far', 'many', 'places', 'ive', 'never', 'seen', 'restaurant', 'serves', 'egg', 'breakfast', 'especially', 'mom', 'got', 'home', 'immediately', 'got', 'sick', 'bites', 'salad', 'servers', 'not', 'pleasant', 'deal', 'dont', 'always', 'honor', 'pizza', 'hut', 'coupons', 'truly', 'unbelievably', 'good', 'glad', 'went', 'back', 'fantastic', 'service', 'pleased', 'atmosphere', 'everything', 'gross', 'love', 'place', 'great', 'service', 'food', 'first', 'bathrooms', 'location', 'dirty', 'seat', 'covers', 'not', 'replenished', 'plain', 'yucky', 'burger', 'got', 'gold', 'standard', 'burger', 'kind', 'disappointed', 'omg', 'food', 'delicioso', 'nothing', 'authentic', 'place', 'spaghetti', 'nothing', 'special', 'whatsoever', 'dishes', 'salmon', 'best', 'great', 'vegetables', 'fresh', 'sauce', 'feels', 'like', 'authentic', 'thai', 'worth', 'driving', 'tucson', 'selection', 'probably', 'worst', 'ive', 'seen', 'vegasthere', 'none', 'pretty', 'good', 'beer', 'selection', 'place', 'like', 'chipotle', 'better', 'classywarm', 'atmosphere', 'fun', 'fresh', 'appetizers', 'succulent', 'steaks', 'baseball', 'steak', 'stars', 'brick', 'oven', 'bread', 'app', 'eaten', 'multiple', 'times', 'time', 'food', 'delicious', 'sat', 'another', 'ten', 'minutes', 'finally', 'gave', 'left', 'terrible', 'everyone', 'treated', 'equally', 'special', 'shouldnt', 'take', 'min', 'pancakes', 'eggs', 'delicious', 'good', 'side', 'staff', 'genuinely', 'pleasant', 'enthusiastic', 'real', 'treat', 'sadly', 'gordon', 'ramseys', 'steak', 'place', 'shall', 'sharply', 'avoid', 'next', 'trip', 'vegas', 'always', 'evening', 'wonderful', 'food', 'delicious', 'best', 'fish', 'ive', 'ever', 'life', 'bathroom', 'next', 'door', 'nice', 'buffet', 'small', 'food', 'offered', 'bland', 'outstanding', 'little', 'restaurant', 'best', 'food', 'ever', 'tasted', 'pretty', 'cool', 'would', 'say', 'definitely', 'turn', 'off', 'doubt', 'ill', 'back', 'unless', 'someone', 'else', 'buying', 'server', 'great', 'job', 'handling', 'large', 'rowdy', 'table', 'find', 'wasting', 'food', 'despicable', 'wasnt', 'food', 'wife', 'lobster', 'bisque', 'soup', 'lukewarm', 'would', 'come', 'back', 'sushi', 'craving', 'vegas', 'staff', 'great', 'ambiance', 'great', 'deserves', 'stars', 'left', 'stomach', 'ache', 'felt', 'sick', 'rest', 'day', 'dropped', 'ball', 'dining', 'space', 'tiny', 'elegantly', 'decorated', 'comfortable', 'customize', 'order', 'way', 'youd', 'like', 'usual', 'eggplant', 'green', 'bean', 'stir', 'fry', 'love', 'beans', 'rice', 'mediocre', 'best', 'best', 'tacos', 'town', 'far', 'took', 'back', 'money', 'got', 'outta', 'interesting', 'part', 'town', 'place', 'amazing', 'rude', 'inconsiderate', 'management', 'staff', 'not', 'friendly', 'wait', 'times', 'served', 'horrible', 'no', 'one', 'even', 'says', 'hi', 'first', 'minutes', 'wont', 'back', 'great', 'dinners', 'service', 'outshining', 'definitely', 'recommend', 'halibut', 'food', 'terrible', 'never', 'ever', 'go', 'back', 'told', 'many', 'people', 'happened', 'dont', 'recommend', 'unless', 'car', 'breaks', 'front', 'starving', 'come', 'back', 'every', 'time', 'im', 'vegas', 'place', 'deserves', 'one', 'star', 'food', 'disgrace', 'def', 'coming', 'back', 'bowl', 'next', 'time', 'want', 'healthy', 'authentic', 'ethic', 'food', 'try', 'place', 'continue', 'come', 'ladies', 'night', 'andddd', 'date', 'night', 'highly', 'recommend', 'place', 'anyone', 'area', 'several', 'times', 'past', 'experience', 'always', 'great', 'walked', 'away', 'stuffed', 'happy', 'first', 'vegas', 'buffet', 'experience', 'service', 'excellent', 'prices', 'pretty', 'reasonable', 'considering', 'vegas', 'located', 'inside', 'crystals', 'shopping', 'mall', 'aria', 'summarize', 'food', 'incredible', 'nay', 'transcendant', 'nothing', 'brings', 'joy', 'quite', 'like', 'memory', 'pneumatic', 'condiment', 'dispenser', 'im', 'probably', 'one', 'people', 'ever', 'go', 'ians', 'not', 'like', 'kids', 'pizza', 'always', 'hit', 'lots', 'great', 'side', 'dish', 'options', 'kiddos', 'service', 'perfect', 'family', 'atmosphere', 'nice', 'see', 'cooked', 'perfection', 'service', 'impeccable', 'one', 'simply', 'disappointment', 'overall', 'disappointed', 'quality', 'food', 'bouchon', 'dont', 'accountant', 'know', 'im', 'getting', 'screwed', 'great', 'place', 'eat', 'reminds', 'little', 'mom', 'pop', 'shops', 'san', 'francisco', 'bay', 'area', 'today', 'first', 'taste', 'buldogis', 'gourmet', 'hot', 'dog', 'tell', 'ever', 'thought', 'possible', 'left', 'frustrated', 'ill', 'definitely', 'soon', 'food', 'really', 'good', 'got', 'full', 'petty', 'fast', 'service', 'fantastic', 'total', 'waste', 'time', 'dont', 'know', 'kind', 'best', 'iced', 'tea', 'come', 'hungry', 'leave', 'happy', 'stuffed', 'service', 'give', 'no', 'stars', 'assure', 'wont', 'disappointed', 'take', 'little', 'bad', 'service', 'food', 'sucks', 'gave', 'trying', 'eat', 'crust', 'teeth', 'still', 'sore', 'completely', 'grossed', 'really', 'enjoyed', 'eating', 'first', 'time', 'going', 'think', 'quickly', 'become', 'regular', 'server', 'nice', 'even', 'though', 'looked', 'little', 'overwhelmed', 'needs', 'stayed', 'professional', 'friendly', 'end', 'dinner', 'companions', 'told', 'meeverything', 'fresh', 'nice', 'texture', 'taste', 'ground', 'right', 'next', 'table', 'large', 'smeared', 'beensteppedinandtrackedeverywhere', 'pile', 'green', 'bird', 'poop', 'furthermore', 'cant', 'even', 'find', 'hours', 'operation', 'website', 'weve', 'tried', 'like', 'place', 'times', 'think', 'done', 'mistake', 'no', 'complaints', 'seriously', 'good', 'pizza', 'im', 'expertconnisseur', 'topic', 'waiter', 'jerk', 'strike', 'wants', 'rushed', 'nicest', 'restaurant', 'owners', 'ive', 'ever', 'come', 'across', 'never', 'come', 'loved', 'biscuits', 'service', 'quick', 'friendly', 'ordered', 'appetizer', 'took', 'minutes', 'pizza', 'another', 'minutes', 'absolutley', 'fantastic', 'huge', 'awkward', 'lb', 'piece', 'cow', 'ths', 'gristle', 'fat', 'definitely', 'come', 'back', 'like', 'steiners', 'dark', 'feels', 'like', 'bar', 'wow', 'spicy', 'delicious', 'youre', 'not', 'familiar', 'check', 'ill', 'take', 'business', 'dinner', 'dollars', 'elsewhere', 'id', 'love', 'go', 'back', 'anyway', 'fs', 'restaurant', 'wonderful', 'breakfastlunch', 'nothing', 'special', 'day', 'week', 'different', 'deal', 'delicious', 'not', 'mention', 'combination', 'pears', 'almonds', 'bacon', 'big', 'winner', 'not', 'back', 'sauce', 'tasteless', 'food', 'delicious', 'spicy', 'enough', 'sure', 'ask', 'spicier', 'prefer', 'way', 'ribeye', 'steak', 'cooked', 'perfectly', 'great', 'mesquite', 'flavor', 'dont', 'think', 'well', 'going', 'back', 'anytime', 'soon', 'food', 'gooodd', 'far', 'sushi', 'connoisseur', 'definitely', 'tell', 'difference', 'good', 'food', 'bad', 'food', 'certainly', 'bad', 'food', 'insulted', 'last', 'times', 'lunch', 'bad', 'chicken', 'wings', 'contained', 'driest', 'chicken', 'meat', 'ever', 'eaten', 'food', 'good', 'enjoyed', 'every', 'mouthful', 'enjoyable', 'relaxed', 'venue', 'couples', 'small', 'family', 'groups', 'etc', 'nargile', 'think', 'great', 'best', 'tater', 'tots', 'southwest', 'loved', 'place', 'definitely', 'not', 'worth', 'paid', 'vanilla', 'ice', 'cream', 'creamy', 'smooth', 'profiterole', 'choux', 'pastry', 'fresh', 'enough', 'im', 'az', 'time', 'new', 'spot', 'manager', 'worst', 'inside', 'really', 'quite', 'nice', 'clean', 'food', 'outstanding', 'prices', 'reasonable', 'dont', 'think', 'ill', 'running', 'back', 'carlys', 'anytime', 'soon', 'food', 'due', 'fact', 'took', 'minutes', 'acknowledged', 'another', 'minutes', 'get', 'foodand', 'kept', 'forgetting', 'things', 'love', 'margaritas', 'first', 'vegas', 'buffet', 'not', 'disappoint', 'good', 'though', 'one', 'note', 'ventilation', 'could', 'use', 'upgrading', 'great', 'pork', 'sandwich', 'dont', 'waste', 'time', 'total', 'letdown', 'would', 'much', 'rather', 'go', 'camelback', 'flower', 'shop', 'cartel', 'coffee', 'third', 'cheese', 'friends', 'burger', 'cold', 'enjoy', 'pizza', 'brunch', 'steaks', 'well', 'trimmed', 'also', 'perfectly', 'cooked', 'group', 'claimed', 'would', 'handled', 'us', 'beautifully', 'loved', 'asked', 'bill', 'leave', 'without', 'eating', 'didnt', 'bring', 'either', 'place', 'jewel', 'las', 'vegas', 'exactly', 'ive', 'hoping', 'find', 'nearly', 'ten', 'years', 'living', 'seafood', 'limited', 'boiled', 'shrimp', 'crab', 'legs', 'crab', 'legs', 'definitely', 'not', 'taste', 'fresh', 'selection', 'food', 'not', 'best', 'delicious', 'absolutely', 'back', 'isnt', 'small', 'family', 'restaurant', 'fine', 'dining', 'establishment', 'toro', 'tartare', 'cavier', 'extraordinary', 'liked', 'thinly', 'sliced', 'wagyu', 'white', 'truffle', 'dont', 'think', 'back', 'long', 'time', 'attached', 'gas', 'station', 'rarely', 'good', 'sign', 'awesome', 'back', 'many', 'times', 'soon', 'menu', 'much', 'good', 'stuff', 'could', 'not', 'decide', 'worse', 'humiliated', 'worker', 'right', 'front', 'mebunch', 'horrible', 'name', 'callings', 'conclusion', 'filling', 'meals', 'daily', 'specials', 'always', 'hit', 'group', 'tragedy', 'struck', 'pancake', 'also', 'really', 'good', 'pretty', 'large', 'first', 'crawfish', 'experience', 'delicious', 'monster', 'chicken', 'fried', 'steak', 'eggs', 'time', 'favorite', 'waitress', 'sweet', 'funny', 'also', 'taste', 'moms', 'multigrain', 'pumpkin', 'pancakes', 'pecan', 'butter', 'amazing', 'fluffy', 'delicious', 'id', 'rather', 'eat', 'airline', 'food', 'seriously', 'cant', 'say', 'enough', 'good', 'things', 'place', 'ambiance', 'incredible', 'waitress', 'manager', 'friendly', 'would', 'not', 'recommend', 'place', 'overall', 'wasnt', 'impressed', 'noca', 'gyro', 'basically', 'lettuce', 'terrible', 'service', 'thoroughly', 'disappointed', 'dont', 'much', 'pasta', 'love', 'homemade', 'hand', 'made', 'pastas', 'thin', 'pizzas', 'give', 'try', 'happy', 'far', 'best', 'cheesecurds', 'ever', 'reasonably', 'priced', 'also', 'everything', 'perfect', 'night', 'food', 'good', 'typical', 'bar', 'food', 'drive', 'get', 'first', 'glance', 'lovely', 'bakery', 'cafe', 'nice', 'ambiance', 'clean', 'friendly', 'staff', 'anyway', 'not', 'think', 'go', 'back', 'point', 'finger', 'item', 'menu', 'order', 'wont', 'disappointed', 'oh', 'thing', 'beauty', 'restaurant', 'havent', 'gone', 'go', 'greasy', 'unhealthy', 'meal', 'first', 'time', 'might', 'last', 'burgers', 'amazing', 'similarly', 'delivery', 'man', 'not', 'say', 'word', 'apology', 'food', 'minutes', 'late', 'way', 'expensive', 'sure', 'order', 'dessert', 'even', 'need', 'pack', 'togo', 'tiramisu', 'cannoli', 'die', 'first', 'time', 'cant', 'wait', 'next', 'bartender', 'also', 'nice', 'everything', 'good', 'tasty', 'place', 'two', 'thumbs', 'upway', 'best', 'place', 'vegas', 'breakfast', 'check', 'sat', 'sun', 'love', 'authentic', 'mexican', 'food', 'want', 'whole', 'bunch', 'interesting', 'yet', 'delicious', 'meats', 'choose', 'need', 'try', 'place', 'terrible', 'management', 'excellent', 'new', 'restaurant', 'experienced', 'frenchman', 'zero', 'stars', 'would', 'give', 'zero', 'stars', 'great', 'steak', 'great', 'sides', 'great', 'wine', 'amazing', 'desserts', 'worst', 'martini', 'ever', 'steak', 'shrimp', 'opinion', 'best', 'entrees', 'gc', 'opportunity', 'today', 'sample', 'amazing', 'pizzas', 'waited', 'thirty', 'minutes', 'seated', 'although', 'vacant', 'tables', 'folks', 'waiting', 'yellowtail', 'carpaccio', 'melt', 'mouth', 'fresh', 'wont', 'try', 'going', 'back', 'even', 'empty', 'no', 'im', 'going', 'eat', 'potato', 'found', 'strangers', 'hair', 'spicy', 'enough', 'perfect', 'actually', 'last', 'night', 'second', 'time', 'dining', 'happy', 'decided', 'go', 'back', 'not', 'even', 'hello', 'right', 'desserts', 'bit', 'strange', 'boyfriend', 'came', 'first', 'time', 'recent', 'trip', 'vegas', 'could', 'not', 'pleased', 'quality', 'food', 'service', 'really', 'recommend', 'place', 'go', 'wrong', 'donut', 'place', 'nice', 'ambiance', 'would', 'recommend', 'saving', 'room', 'guess', 'maybe', 'went', 'off', 'night', 'disgraceful', 'however', 'recent', 'experience', 'particular', 'location', 'not', 'good', 'know', 'not', 'like', 'restaurants', 'something', 'off', 'avoid', 'establishment', 'think', 'restaurant', 'suffers', 'not', 'trying', 'hard', 'enough', 'tapas', 'dishes', 'delicious', 'heart', 'place', 'salad', 'bland', 'vinegrette', 'baby', 'greens', 'hearts', 'palm', 'two', 'felt', 'disgusting', 'good', 'time', 'believe', 'place', 'great', 'stop', 'huge', 'belly', 'hankering', 'sushi', 'generous', 'portions', 'great', 'taste', 'never', 'go', 'back', 'place', 'never', 'ever', 'recommended', 'place', 'anyone', 'servers', 'went', 'back', 'forth', 'several', 'times', 'not', 'even', 'much', 'helped', 'food', 'delicious', 'hour', 'seriously', 'consider', 'theft', 'eew', 'location', 'needs', 'complete', 'overhaul', 'recently', 'witnessed', 'poor', 'quality', 'management', 'towards', 'guests', 'well', 'waited', 'waited', 'waited', 'also', 'came', 'back', 'check', 'us', 'regularly', 'excellent', 'service', 'server', 'super', 'nice', 'checked', 'us', 'many', 'times', 'pizza', 'tasted', 'old', 'super', 'chewy', 'not', 'good', 'way', 'swung', 'give', 'try', 'deeply', 'disappointed', 'service', 'good', 'company', 'better', 'staff', 'also', 'friendly', 'efficient', 'service', 'im', 'fan', 'quick', 'youre', 'served', 'nice', 'folks', 'boy', 'sucker', 'dry', 'rated', 'look', 'authentic', 'thai', 'food', 'go', 'else', 'steaks', 'recommended', 'pulled', 'car', 'waited', 'another', 'minutes', 'acknowledged', 'great', 'food', 'great', 'service', 'clean', 'friendly', 'setting', 'assure', 'ill', 'back', 'hate', 'things', 'much', 'cheap', 'quality', 'black', 'olives', 'breakfast', 'perpared', 'great', 'beautiful', 'presentation', 'giant', 'slices', 'toast', 'lightly', 'dusted', 'powdered', 'sugar', 'kids', 'play', 'area', 'nasty', 'great', 'place', 'fo', 'take', 'eat', 'waitress', 'friendly', 'happy', 'accomodate', 'veganveggie', 'options', 'omg', 'felt', 'like', 'never', 'eaten', 'thai', 'food', 'dish', 'extremely', 'crumby', 'pretty', 'tasteless', 'pale', 'color', 'instead', 'nice', 'char', 'no', 'flavor', 'croutons', 'also', 'taste', 'homemade', 'extra', 'plus', 'got', 'home', 'see', 'driest', 'damn', 'wings', 'ever', 'itll', 'regular', 'stop', 'trips', 'phoenix', 'really', 'enjoyed', 'crema', 'caf', 'expanded', 'even', 'told', 'friends', 'best', 'breakfast', 'not', 'good', 'money', 'miss', 'wish', 'one', 'philadelphia', 'got', 'sitting', 'fairly', 'fast', 'ended', 'waiting', 'minutes', 'place', 'order', 'another', 'minutes', 'food', 'arrived', 'also', 'best', 'cheese', 'crisp', 'town', 'good', 'value', 'great', 'food', 'great', 'service', 'couldnt', 'ask', 'satisfying', 'meal', 'food', 'good', 'awesome', 'wanted', 'leave', 'made', 'drive', 'way', 'north', 'scottsdale', 'not', 'one', 'bit', 'disappointed', 'not', 'eating', 'owners', 'really', 'really', 'need', 'quit', 'soooooo', 'cheap', 'let', 'wrap', 'freaking', 'sandwich', 'two', 'papers', 'not', 'one', 'checked', 'place', 'couple', 'years', 'ago', 'not', 'impressed', 'chicken', 'got', 'definitely', 'reheated', 'ok', 'wedges', 'cold', 'soggy', 'sorry', 'not', 'getting', 'food', 'anytime', 'soon', 'absolute', 'must', 'visit', 'cow', 'tongue', 'cheek', 'tacos', 'amazing', 'friend', 'not', 'like', 'bloody', 'mary', 'despite', 'hard', 'rate', 'businesses', 'actually', 'rare', 'give', 'star', 'really', 'want', 'make', 'experience', 'good', 'one', 'not', 'return', 'chicken', 'pho', 'tasted', 'bland', 'disappointing', 'grilled', 'chicken', 'tender', 'yellow', 'saffron', 'seasoning', 'drive', 'thru', 'means', 'not', 'want', 'wait', 'around', 'half', 'hour', 'food', 'somehow', 'end', 'going', 'make', 'us', 'wait', 'wait', 'pretty', 'awesome', 'place', 'ambience', 'perfect', 'best', 'luck', 'rude', 'noncustomer', 'service', 'focused', 'new', 'management', 'grandmother', 'make', 'roasted', 'chicken', 'better', 'one', 'asked', 'multiple', 'times', 'wine', 'list', 'time', 'ignored', 'went', 'hostess', 'got', 'one', 'staff', 'always', 'super', 'friendly', 'helpful', 'especially', 'cool', 'bring', 'two', 'small', 'boys', 'baby', 'four', 'stars', 'food', 'guy', 'blue', 'shirt', 'great', 'vibe', 'still', 'letting', 'us', 'eat', 'roast', 'beef', 'sandwich', 'tasted', 'really', 'good', 'evening', 'drastically', 'sick', 'highquality', 'chicken', 'chicken', 'caesar', 'salad', 'ordered', 'burger', 'rare', 'came', 'well', 'done', 'promptly', 'greeted', 'seated', 'tried', 'go', 'lunch', 'madhouse', 'proven', 'dead', 'wrong', 'sushi', 'bar', 'not', 'quality', 'great', 'service', 'fast', 'food', 'impeccable', 'waiting', 'hour', 'seated', 'not', 'greatest', 'moods', 'good', 'joint', 'macarons', 'insanely', 'good', 'im', 'not', 'eating', 'waiter', 'attentive', 'friendly', 'informative', 'maybe', 'werent', 'cold', 'would', 'somewhat', 'edible', 'place', 'lot', 'promise', 'fails', 'deliver', 'bad', 'experience', 'mistake', 'food', 'average', 'best', 'great', 'food', 'wont', 'going', 'back', 'anytime', 'soon', 'disappointed', 'ordered', 'big', 'bay', 'plater', 'great', 'place', 'relax', 'awesome', 'burger', 'beer', 'perfect', 'sitdown', 'family', 'meal', 'get', 'together', 'friends', 'not', 'much', 'flavor', 'poorly', 'constructed', 'patio', 'seating', 'comfortable', 'fried', 'rice', 'dry', 'well', 'hands', 'favorite', 'italian', 'restaurant', 'screams', 'legit', 'booksomethats', 'also', 'pretty', 'rare', 'vegas', 'not', 'fun', 'experience', 'atmosphere', 'great', 'lovely', 'duo', 'violinists', 'playing', 'songs', 'requested', 'personally', 'love', 'hummus', 'pita', 'baklava', 'falafels', 'baba', 'ganoush', 'amazing', 'eggplant', 'convenient', 'since', 'staying', 'mgm', 'owners', 'super', 'friendly', 'staff', 'courteous', 'great', 'eclectic', 'selection', 'sweet', 'potato', 'tots', 'good', 'onion', 'rings', 'perfection', 'close', 'staff', 'attentive', 'chef', 'generous', 'time', 'even', 'came', 'around', 'twice', 'take', 'pictures', 'owner', 'used', 'work', 'nobu', 'place', 'really', 'similar', 'half', 'price', 'google', 'mediocre', 'imagine', 'smashburger', 'pop', 'dont', 'go', 'promise', 'wont', 'disappoint', 'sushi', 'lover', 'avoid', 'place', 'means', 'great', 'double', 'cheeseburger', 'awesome', 'service', 'food', 'fantastic', 'neighborhood', 'gem', 'cant', 'wait', 'go', 'back', 'plantains', 'worst', 'ive', 'ever', 'tasted', 'great', 'place', 'highly', 'recommend', 'service', 'slow', 'not', 'attentive', 'gave', 'stars', 'im', 'giving', 'stars', 'staff', 'spends', 'time', 'talking', 'dessert', 'panna', 'cotta', 'amazing', 'good', 'food', 'great', 'atmosphere', 'damn', 'good', 'steak', 'total', 'brunch', 'fail', 'prices', 'reasonable', 'flavors', 'spot', 'sauce', 'home', 'made', 'slaw', 'not', 'drenched', 'mayo', 'decor', 'nice', 'piano', 'music', 'soundtrack', 'pleasant', 'steak', 'amazingrge', 'fillet', 'relleno', 'best', 'seafood', 'plate', 'ever', 'good', 'food', 'good', 'service', 'absolutely', 'amazing', 'probably', 'wont', 'back', 'honest', 'definitely', 'back', 'sergeant', 'pepper', 'beef', 'sandwich', 'auju', 'sauce', 'excellent', 'sandwich', 'well', 'hawaiian', 'breeze', 'mango', 'magic', 'pineapple', 'delight', 'smoothies', 'ive', 'tried', 'far', 'theyre', 'good', 'went', 'lunch', 'service', 'slow', 'much', 'say', 'place', 'walked', 'expected', 'amazing', 'quickly', 'disappointed', 'mortified', 'needless', 'say', 'never', 'back', 'anyways', 'food', 'definitely', 'not', 'filling', 'price', 'pay', 'expect', 'chips', 'came', 'dripping', 'grease', 'mostly', 'not', 'edible', 'wasnt', 'really', 'impressed', 'strip', 'steak', 'going', 'since', 'every', 'meal', 'awesome', 'server', 'nice', 'attentive', 'serving', 'staff', 'cashier', 'friendly', 'even', 'brought', 'food', 'work', 'hospitality', 'industry', 'paradise', 'valley', 'refrained', 'recommending', 'cibo', 'longer', 'atmosphere', 'fun', 'would', 'not', 'recommend', 'others', 'service', 'quick', 'even', 'go', 'orders', 'like', 'like', 'mean', 'really', 'get', 'famous', 'fish', 'chips', 'terrible', 'said', 'mouths', 'bellies', 'still', 'quite', 'pleased', 'not', 'thing', 'thumbs', 'reading', 'please', 'dont', 'go', 'loved', 'grilled', 'pizza', 'reminded', 'legit', 'italian', 'pizza', 'pros', 'large', 'seating', 'area', 'nice', 'bar', 'area', 'great', 'simple', 'drink', 'menu', 'best', 'brick', 'oven', 'pizza', 'homemade', 'dough', 'really', 'nice', 'atmosphere', 'tonight', 'elk', 'filet', 'specialand', 'sucked', 'one', 'bite', 'hooked', 'ordered', 'old', 'classics', 'new', 'dishes', 'going', 'times', 'sorely', 'disappointed', 'everything', 'cute', 'quaint', 'simple', 'honest', 'chicken', 'deliciously', 'seasoned', 'perfect', 'fry', 'outside', 'moist', 'chicken', 'inside', 'food', 'great', 'always', 'compliments', 'chef', 'special', 'thanks', 'dylan', 'recommendation', 'order', 'yummy', 'tummy', 'awesome', 'selection', 'beer', 'great', 'food', 'awesome', 'service', 'one', 'nice', 'thing', 'added', 'gratuity', 'bill', 'since', 'party', 'larger', 'didnt', 'expect', 'tip', 'fly', 'apple', 'juice', 'fly', 'han', 'nan', 'chicken', 'also', 'tasty', 'service', 'thought', 'good', 'food', 'barely', 'lukewarm', 'must', 'sitting', 'waiting', 'server', 'bring', 'us', 'ryans', 'bar', 'definitely', 'one', 'edinburgh', 'establishment', 'wont', 'revisiting', 'nicest', 'chinese', 'restaurant', 'ive', 'overall', 'like', 'food', 'service', 'also', 'serve', 'indian', 'naan', 'bread', 'hummus', 'spicy', 'pine', 'nut', 'sauce', 'world', 'probably', 'never', 'coming', 'back', 'wouldnt', 'recommend', 'friends', 'pasta', 'also', 'bad', 'barely', 'touched', 'try', 'airport', 'experience', 'tasty', 'food', 'speedy', 'friendly', 'service', 'love', 'decor', 'chinese', 'calligraphy', 'wall', 'paper', 'never', 'anything', 'complain', 'restaurant', 'clean', 'family', 'restaurant', 'feel', 'way', 'fried', 'im', 'not', 'sure', 'long', 'stood', 'long', 'enough', 'begin', 'feel', 'awkwardly', 'place', 'opened', 'sandwich', 'impressed', 'not', 'good', 'way', 'not', 'back', 'warm', 'feeling', 'service', 'felt', 'like', 'guest', 'special', 'treat', 'extensive', 'menu', 'provides', 'lots', 'options', 'breakfast', 'always', 'order', 'vegetarian', 'menu', 'dinner', 'wide', 'array', 'options', 'choose', 'watched', 'prices', 'inflate', 'portions', 'get', 'smaller', 'management', 'attitudes', 'grow', 'rapidly', 'wonderful', 'lil', 'tapas', 'ambience', 'made', 'feel', 'warm', 'fuzzy', 'inside', 'got', 'enjoy', 'seafood', 'salad', 'fabulous', 'vinegrette', 'wontons', 'thin', 'not', 'thick', 'chewy', 'almost', 'melt', 'mouth', 'level', 'spicy', 'perfect', 'spice', 'didnt', 'overwhelm', 'soup', 'sat', 'right', 'time', 'server', 'get', 'go', 'fantastic', 'main', 'thing', 'didnt', 'enjoy', 'crowd', 'older', 'crowd', 'around', 'mid', 'im', 'side', 'town', 'definitely', 'spot', 'ill', 'hit', 'wait', 'minutes', 'get', 'drink', 'longer', 'get', 'arepas', 'great', 'place', 'eat', 'jalapeno', 'bacon', 'soooo', 'good', 'service', 'poor', 'thats', 'nice', 'food', 'good', 'service', 'good', 'prices', 'good', 'place', 'not', 'clean', 'food', 'oh', 'stale', 'chicken', 'dishes', 'ok', 'beef', 'like', 'shoe', 'leather', 'service', 'beyond', 'bad', 'im', 'happy', 'tasted', 'like', 'dirt', 'one', 'places', 'phoenix', 'would', 'definately', 'go', 'back', 'block', 'amazing', 'close', 'house', 'lowkey', 'nonfancy', 'affordable', 'prices', 'good', 'food', 'hot', 'sour', 'egg', 'flower', 'soups', 'absolutely', 'stars', 'sashimi', 'poor', 'quality', 'soggy', 'tasteless', 'great', 'time', 'family', 'dinner', 'sunday', 'night', 'food', 'not', 'tasty', 'not', 'say', 'real', 'traditional', 'hunan', 'style', 'bother', 'slow', 'service', 'flair', 'bartenders', 'absolutely', 'amazing', 'frozen', 'margaritas', 'way', 'sugary', 'taste', 'good', 'ordered', 'twice', 'nutshell', 'restaraunt', 'smells', 'like', 'combination', 'dirty', 'fish', 'market', 'sewer', 'girlfriends', 'veal', 'bad', 'unfortunately', 'not', 'good', 'pretty', 'satifying', 'experience', 'join', 'club', 'get', 'awesome', 'offers', 'via', 'email', 'perfect', 'someone', 'likes', 'beer', 'ice', 'cold', 'case', 'even', 'colder', 'bland', 'flavorless', 'good', 'way', 'describing', 'barely', 'tepid', 'meat', 'chains', 'im', 'no', 'fan', 'beat', 'place', 'easily', 'nachos', 'must', 'not', 'coming', 'back', 'dont', 'many', 'words', 'say', 'place', 'everything', 'pretty', 'well', 'staff', 'super', 'nice', 'quick', 'even', 'crazy', 'crowds', 'downtown', 'juries', 'lawyers', 'court', 'staff', 'great', 'atmosphere', 'friendly', 'fast', 'service', 'received', 'pita', 'huge', 'lot', 'meat', 'thumbs', 'food', 'arrives', 'meh', 'paying', 'hot', 'dog', 'fries', 'looks', 'like', 'came', 'kids', 'meal', 'wienerschnitzel', 'not', 'idea', 'good', 'meal', 'classic', 'maine', 'lobster', 'roll', 'fantastic', 'brother', 'law', 'works', 'mall', 'ate', 'day', 'guess', 'sick', 'night', 'good', 'going', 'review', 'place', 'twice', 'hereas', 'tribute', 'place', 'tribute', 'event', 'held', 'last', 'night', 'chips', 'salsa', 'really', 'good', 'salsa', 'fresh', 'place', 'great', 'mediocre', 'food', 'get', 'inside', 'youll', 'impressed', 'place', 'im', 'super', 'pissd', 'service', 'super', 'friendly', 'sad', 'little', 'vegetables', 'overcooked', 'place', 'nice', 'surprise', 'goldencrispy', 'delicious', 'high', 'hopes', 'place', 'since', 'burgers', 'cooked', 'charcoal', 'grill', 'unfortunately', 'taste', 'fell', 'flat', 'way', 'flat', 'could', 'eat', 'bruschetta', 'day', 'devine', 'not', 'single', 'employee', 'came', 'see', 'ok', 'even', 'needed', 'water', 'refill', 'finally', 'served', 'us', 'food', 'lastly', 'mozzarella', 'sticks', 'best', 'thing', 'ordered', 'first', 'time', 'ever', 'came', 'amazing', 'experience', 'still', 'tell', 'people', 'awesome', 'duck', 'server', 'negligent', 'needs', 'made', 'us', 'feel', 'unwelcome', 'would', 'not', 'suggest', 'place', 'service', 'terrible', 'though', 'place', 'overpriced', 'not', 'consistent', 'boba', 'really', 'overpriced', 'packed', 'love', 'place', 'say', 'desserts', 'yummy', 'food', 'terrible', 'seasonal', 'fruit', 'fresh', 'white', 'peach', 'puree', 'kept', 'getting', 'worse', 'worse', 'im', 'officially', 'done', 'place', 'honestly', 'blown', 'definitely', 'would', 'not', 'eat', 'not', 'waste', 'money', 'love', 'put', 'food', 'nice', 'plastic', 'containers', 'opposed', 'cramming', 'little', 'paper', 'takeout', 'boxes', 'crpe', 'delicate', 'thin', 'moist', 'awful', 'service', 'wont', 'ever', 'go', 'food', 'quality', 'horrible', 'price', 'think', 'place', 'would', 'much', 'rather', 'gone', 'service', 'fair', 'best', 'love', 'sushi', 'found', 'kabuki', 'overpriced', 'overhip', 'underservices', 'yourself', 'favor', 'stay', 'away', 'dish', 'poor', 'service', 'no', 'one', 'table', 'thought', 'food', 'average', 'worth', 'wait', 'best', 'service', 'food', 'ever', 'maria', 'server', 'good', 'friendly', 'made', 'day', 'excellent', 'paid', 'bill', 'not', 'tip', 'felt', 'server', 'terrible', 'job', 'lunch', 'great', 'experience', 'never', 'bland', 'food', 'surprised', 'considering', 'article', 'read', 'focused', 'much', 'spices', 'flavor', 'food', 'way', 'overpriced', 'portions', 'fucking', 'small', 'recently', 'tried', 'caballeros', 'back', 'every', 'week', 'since', 'bucks', 'head', 'really', 'expect', 'better', 'food', 'food', 'came', 'good', 'pace', 'ate', 'twice', 'last', 'visit', 'especially', 'enjoyed', 'salmon', 'salad', 'wont', 'back', 'could', 'not', 'believe', 'dirty', 'oysters', 'place', 'deserves', 'no', 'stars', 'would', 'not', 'recommend', 'place', 'fact', 'im', 'going', 'round', 'stars', 'awesome', 'disbelief', 'dish', 'qualified', 'worst', 'version', 'foods', 'ever', 'tasted', 'bad', 'day', 'not', 'low', 'tolerance', 'rude', 'customer', 'service', 'people', 'job', 'nice', 'polite', 'wash', 'dishes', 'otherwise', 'potatoes', 'great', 'biscuit', 'probably', 'would', 'not', 'go', 'flavorful', 'perfect', 'amount', 'heat', 'price', 'reasonable', 'service', 'great', 'wife', 'hated', 'meal', 'coconut', 'shrimp', 'friends', 'really', 'not', 'enjoy', 'meals', 'either', 'fella', 'got', 'huevos', 'rancheros', 'didnt', 'look', 'appealing', 'went', 'happy', 'hour', 'great', 'list', 'wines', 'may', 'say', 'buffet', 'pricey', 'think', 'get', 'pay', 'place', 'getting', 'quite', 'lot', 'probably', 'wont', 'coming', 'back', 'worst', 'foodservice', 'ive', 'place', 'pretty', 'good', 'nice', 'little', 'vibe', 'restaurant', 'talk', 'great', 'customer', 'service', 'course', 'back', 'hot', 'dishes', 'not', 'hot', 'cold', 'dishes', 'close', 'room', 'tempi', 'watched', 'staff', 'prepare', 'food', 'bare', 'hands', 'no', 'gloveseverything', 'deep', 'fried', 'oil', 'love', 'fries', 'beans', 'always', 'pleasure', 'dealing', 'plethora', 'salads', 'sandwiches', 'everything', 'ive', 'tried', 'gets', 'seal', 'approval', 'place', 'awesome', 'want', 'something', 'light', 'healthy', 'summer', 'sushi', 'strip', 'place', 'go', 'service', 'great', 'even', 'manager', 'came', 'helped', 'table', 'feel', 'dining', 'room', 'college', 'cooking', 'course', 'high', 'class', 'dining', 'service', 'slow', 'best', 'started', 'review', 'two', 'stars', 'im', 'editing', 'give', 'one', 'worst', 'sushi', 'ever', 'eat', 'besides', 'costcos', 'excellent', 'restaurant', 'highlighted', 'great', 'service', 'unique', 'menu', 'beautiful', 'setting', 'boyfriend', 'sat', 'bar', 'completely', 'delightful', 'experience', 'weird', 'vibe', 'owners', 'hardly', 'meat', 'ive', 'better', 'bagels', 'grocery', 'store', 'go', 'place', 'gyros', 'love', 'ownerchef', 'one', 'authentic', 'japanese', 'cool', 'dude', 'burgers', 'arent', 'good', 'pizza', 'used', 'amazing', 'doughy', 'flavorless', 'found', 'six', 'inch', 'long', 'piece', 'wire', 'salsa', 'service', 'terrible', 'food', 'mediocre', 'definately', 'enjoyed', 'ordered', 'albondigas', 'soup', 'warm', 'tasted', 'like', 'tomato', 'soup', 'frozen', 'meatballs', 'three', 'different', 'occasions', 'asked', 'well', 'done', 'medium', 'well', 'three', 'times', 'got', 'bloodiest', 'piece', 'meat', 'plate', 'two', 'bites', 'refused', 'eat', 'anymore', 'service', 'extremely', 'slow', 'minutes', 'wait', 'got', 'table', 'seriously', 'killer', 'hot', 'chai', 'latte', 'no', 'allergy', 'warnings', 'menu', 'waitress', 'absolutely', 'no', 'clue', 'meals', 'not', 'contain', 'peanuts', 'boyfriend', 'tried', 'mediterranean', 'chicken', 'salad', 'fell', 'love', 'rotating', 'beers', 'tap', 'also', 'highlight', 'place', 'pricing', 'bit', 'concern', 'mellow', 'mushroom', 'worst', 'thai', 'ever', 'stay', 'vegas', 'must', 'get', 'breakfast', 'least', 'want', 'first', 'say', 'server', 'great', 'perfect', 'service', 'pizza', 'selections', 'good', 'strawberry', 'tea', 'good', 'highly', 'unprofessional', 'rude', 'loyal', 'patron', 'overall', 'great', 'experience', 'spend', 'money', 'elsewhere', 'regular', 'toasted', 'bread', 'equally', 'satisfying', 'occasional', 'pats', 'butter', 'mmmm', 'buffet', 'bellagio', 'far', 'anticipated', 'drinks', 'weak', 'people', 'order', 'not', 'correct', 'also', 'feel', 'like', 'chips', 'bought', 'not', 'made', 'house', 'disappointing', 'dinner', 'went', 'elsewhere', 'dessert', 'chips', 'sals', 'amazing', 'wont', 'returning', 'new', 'fav', 'vegas', 'buffet', 'spot', 'seriously', 'cannot', 'believe', 'owner', 'many', 'unexperienced', 'employees', 'running', 'around', 'like', 'chickens', 'heads', 'cut', 'off', 'sad', 'felt', 'insulted', 'disrespected', 'could', 'talk', 'judge', 'another', 'human', 'like', 'call', 'yourself', 'steakhouse', 'cant', 'properly', 'cook', 'steak', 'dont', 'understand', 'im', 'not', 'impressed', 'concept', 'food', 'thing', 'wasnt', 'crazy', 'guacamole', 'dont', 'like', 'pured', 'really', 'nothing', 'postinos', 'hope', 'experience', 'better', 'got', 'food', 'poisoning', 'buffet', 'brought', 'fresh', 'batch', 'fries', 'thinking', 'yay', 'something', 'warm', 'no', 'hilarious', 'yummy', 'christmas', 'eve', 'dinner', 'remember', 'biggest', 'fail', 'entire', 'trip', 'us', 'needless', 'say', 'wont', 'going', 'back', 'anytime', 'soon', 'place', 'disgusting', 'every', 'time', 'eat', 'see', 'caring', 'teamwork', 'professional', 'degree', 'ri', 'style', 'calamari', 'joke', 'however', 'much', 'garlic', 'fondue', 'barely', 'edible', 'could', 'barely', 'stomach', 'meal', 'didnt', 'complain', 'business', 'lunch', 'bad', 'lost', 'heart', 'finish', 'also', 'took', 'forever', 'bring', 'us', 'check', 'asked', 'arent', 'ones', 'make', 'scene', 'restaurants', 'dont', 'get', 'itdefinitely', 'lost', 'love', 'one', 'disappointing', 'experience', 'food', 'par', 'dennys', 'say', 'not', 'good', 'want', 'wait', 'mediocre', 'food', 'downright', 'terrible', 'service', 'place', 'waaaaaayyyyyyyyyy', 'rated', 'saying', 'wont', 'going', 'back', 'place', 'fairly', 'clean', 'food', 'simply', 'wasnt', 'worth', 'place', 'lacked', 'style', 'sangria', 'half', 'glass', 'wine', 'full', 'ridiculous', 'dont', 'bother', 'coming', 'meat', 'pretty', 'dry', 'sliced', 'brisket', 'pulled', 'pork', 'building', 'seems', 'pretty', 'neat', 'bathroom', 'pretty', 'trippy', 'wouldnt', 'eat', 'equally', 'awful', 'probably', 'not', 'hurry', 'go', 'back', 'slow', 'seating', 'even', 'reservation', 'not', 'good', 'stretch', 'imagination', 'cashew', 'cream', 'sauce', 'bland', 'vegetables', 'undercooked', 'chipolte', 'ranch', 'dipping', 'sause', 'tasteless', 'seemed', 'thin', 'watered', 'no', 'heat', 'bit', 'sweet', 'not', 'really', 'spicy', 'enough', 'lacked', 'flavor', 'disappointed', 'place', 'horrible', 'way', 'overpriced', 'maybe', 'vegetarian', 'fare', 'ive', 'twice', 'thought', 'average', 'best', 'wasnt', 'busy', 'know', 'tables', 'outside', 'also', 'dirty', 'lot', 'time', 'workers', 'not', 'always', 'friendly', 'helpful', 'menu', 'ambiance', 'not', 'feel', 'like', 'buffet', 'setting', 'douchey', 'indoor', 'garden', 'tea', 'biscuits', 'con', 'spotty', 'service', 'fries', 'not', 'hot', 'neither', 'burger', 'came', 'back', 'cold', 'food', 'came', 'disappointment', 'ensued', 'real', 'disappointment', 'waiter', 'husband', 'said', 'rude', 'not', 'even', 'apologize', 'bad', 'food', 'anything', 'reason', 'eat', 'would', 'fill', 'night', 'binge', 'drinking', 'get', 'carbs', 'stomach', 'insults', 'profound', 'deuchebaggery', 'go', 'outside', 'smoke', 'break', 'serving', 'solidify', 'someone', 'orders', 'two', 'tacos', 'dont', 'think', 'may', 'part', 'customer', 'service', 'ask', 'combo', 'ala', 'cart', 'quite', 'disappointed', 'although', 'blame', 'needs', 'placed', 'door', 'rave', 'reviews', 'couldnt', 'wait', 'eat', 'herewhat', 'disappointment', 'del', 'taco', 'pretty', 'nasty', 'avoided', 'possible', 'not', 'hard', 'make', 'decent', 'hamburger', 'dont', 'like', 'hell', 'no', 'go', 'back', 'weve', 'gotten', 'much', 'better', 'service', 'pizza', 'place', 'next', 'door', 'services', 'received', 'restaurant', 'dont', 'know', 'big', 'deal', 'place', 'wont', 'back', 'yaall', 'immediately', 'said', 'wanted', 'talk', 'manager', 'not', 'want', 'talk', 'guy', 'shots', 'fireball', 'behind', 'bar', 'ambiance', 'isnt', 'much', 'better', 'unfortunately', 'set', 'us', 'disapppointment', 'entrees', 'food', 'wasnt', 'good', 'servers', 'suck', 'wait', 'correction', 'server', 'heimer', 'sucked', 'happened', 'next', 'prettyoff', 'putting', 'bad', 'cause', 'know', 'family', 'owned', 'really', 'wanted', 'like', 'place', 'overpriced', 'getting', 'vomited', 'bathroom', 'mid', 'lunch', 'kept', 'looking', 'time', 'soon', 'become', 'minutes', 'yet', 'still', 'no', 'food', 'places', 'eat', 'no', 'circumstances', 'would', 'ever', 'return', 'tops', 'list', 'started', 'tuna', 'sashimi', 'brownish', 'color', 'obviously', 'wasnt', 'fresh', 'food', 'average', 'sure', 'beat', 'nachos', 'movies', 'would', 'expect', 'little', 'bit', 'coming', 'restaurant', 'ha', 'long', 'bay', 'bit', 'flop', 'problem', 'charge', 'sandwich', 'no', 'bigger', 'subway', 'sub', 'offers', 'better', 'amount', 'vegetables', 'shrimp', 'unwrapped', 'live', 'mile', 'brushfire', 'literally', 'ice', 'cold', 'lacked', 'flavor', 'seemed', 'undercooked', 'dry', 'really', 'impressive', 'place', 'hasnt', 'closed', 'would', 'avoid', 'place', 'staying', 'mirage', 'refried', 'beans', 'came', 'meal', 'dried', 'crusty', 'food', 'bland', 'spend', 'money', 'time', 'place', 'else', 'lady', 'table', 'next', 'us', 'found', 'live', 'green', 'caterpillar', 'salad', 'presentation', 'food', 'awful', 'cant', 'tell', 'disappointed', 'think', 'food', 'flavor', 'texture', 'lacking', 'appetite', 'instantly', 'gone', 'overall', 'not', 'impressed', 'would', 'not', 'go', 'back', 'whole', 'experience', 'underwhelming', 'think', 'well', 'go', 'ninja', 'sushi', 'next', 'time', 'hadnt', 'wasted', 'enough', 'life', 'poured', 'salt', 'wound', 'drawing', 'time', 'took', 'bring', 'check']\n"
          ]
        }
      ]
    },
    {
      "cell_type": "code",
      "source": [
        "# Totalidad de tokens\n",
        "\n",
        "len(corpus_stopwords)\n",
        "\n",
        "print(f\"Se encontraron {quantity} tokens en todo el corpus después de eliminar los stopwords\")"
      ],
      "metadata": {
        "id": "4ZPi5prKZro5",
        "colab": {
          "base_uri": "https://localhost:8080/"
        },
        "outputId": "bbfb3eeb-f54c-4636-bfc7-ba95340256e9"
      },
      "execution_count": 113,
      "outputs": [
        {
          "output_type": "stream",
          "name": "stdout",
          "text": [
            "Se encontraron 10777 tokens en todo el corpus después de eliminar los stopwords\n"
          ]
        }
      ]
    },
    {
      "cell_type": "code",
      "source": [
        "tokens_diferentes = set(token for token in corpus_stopwords)\n",
        "\n",
        "print(tokens_diferentes)"
      ],
      "metadata": {
        "colab": {
          "base_uri": "https://localhost:8080/"
        },
        "id": "QgTOUFqSpnHd",
        "outputId": "6e2c1027-d60d-41ba-e57d-f19ff165dc6d"
      },
      "execution_count": 114,
      "outputs": [
        {
          "output_type": "stream",
          "name": "stdout",
          "text": [
            "{'dollars', 'supposed', 'black', 'clue', 'warnings', 'highly', 'included', 'finger', 'spicy', 'finish', 'editing', 'register', 'heads', 'pucks', 'businesses', 'relleno', 'tastings', 'tigerlilly', 'ample', 'double', 'feel', 'buying', 'sorely', 'excuse', 'parents', 'added', 'lettuce', 'lets', 'steaks', 'donut', 'bartender', 'bamboo', 'despicable', 'driving', 'mood', 'inexpensive', 'fill', 'known', 'treat', 'pretty', 'ate', 'ians', 'overall', 'cash', 'courteous', 'madison', 'croutons', 'finally', 'heat', 'rice', 'id', 'bbq', 'ownerchef', 'crepe', 'strangers', 'tap', 'read', 'pita', 'shall', 'typical', 'ago', 'packed', 'party', 'understand', 'breakfast', 'peanuts', 'actual', 'article', 'wow', 'potato', 'poisoning', 'quality', 'ordering', 'tolerance', 'made', 'insults', 'smelled', 'leaves', 'store', 'saffron', 'house', 'must', 'rick', 'stay', 'larger', 'groups', 'maine', 'husband', 'clean', 'strip', 'giving', 'seems', 'moz', 'whatsoever', 'remember', 'return', 'dropped', 'relocated', 'satisfying', 'itll', 'goldencrispy', 'even', 'poured', 'due', 'rather', 'hereas', 'accomodate', 'cooked', 'hurry', 'anytime', 'gone', 'boxes', 'bought', 'cheese', 'hardest', 'disgust', 'yummy', 'gratuity', 'different', 'handsdown', 'count', 'tasted', 'human', 'cold', 'fellow', 'somehow', 'dealing', 'accommodations', 'styrofoam', 'honest', 'yucky', 'mellow', 'deserves', 'almonds', 'turkey', 'classic', 'refried', 'ripped', 'brownish', 'tribute', 'meh', 'hardly', 'avoid', 'summer', 'mediterranean', 'apple', 'court', 'cool', 'apart', 'leave', 'drawing', 'arrived', 'marys', 'similarly', 'vomited', 'vegas', 'ambiance', 'forty', 'burrittos', 'turn', 'waitresses', 'beyond', 'melted', 'trap', 'underservices', 'dried', 'touch', 'tartare', 'use', 'toast', 'delicioso', 'carbs', 'bars', 'location', 'soon', 'batter', 'genuinely', 'tiramisu', 'yaall', 'everything', 'us', 'chip', 'oil', 'considering', 'welcome', 'eating', 'maybe', 'thinking', 'decided', 'cheeseburger', 'bodes', 'flatlined', 'patio', 'brought', 'bites', 'expect', 'theyd', 'lobster', 'tucson', 'eclectic', 'wrong', 'bad', 'khao', 'garden', 'literally', 'garlic', 'military', 'stuffed', 'amazingrge', 'platter', 'rushed', 'alone', 'car', 'lunch', 'cakeohhh', 'seen', 'char', 'lack', 'plastic', 'dude', 'since', 'pleasant', 'twice', 'wasnt', 'experienced', 'ended', 'left', 'flirting', 'owner', 'held', 'company', 'sugary', 'says', 'self', 'three', 'fine', 'time', 'via', 'portions', 'new', 'checked', 'bruschetta', 'reasonably', 'mayowell', 'experience', 'email', 'duo', 'establishment', 'stale', 'pack', 'suffers', 'falafels', 'simple', 'mein', 'staying', 'check', 'hell', 'style', 'ryans', 'burger', 'flavored', 'terrific', 'piano', 'rare', 'ones', 'topvery', 'cover', 'refrained', 'hiro', 'crpe', 'vegetarian', 'favor', 'rolls', 'anticipated', 'dime', 'eyes', 'value', 'months', 'blah', 'thirty', 'crumby', 'thick', 'nasty', 'recently', 'equally', 'incredibly', 'deliver', 'forever', 'guy', 'mistake', 'opinion', 'guys', 'albondigas', 'condiment', 'unhealthy', 'like', 'delight', 'past', 'crowd', 'lighting', 'gristle', 'taste', 'salsa', 'movies', 'absolutley', 'seasoned', 'steak', 'recall', 'buldogis', 'luck', 'upway', 'vacant', 'worth', 'specials', 'hit', 'avoided', 'omelets', 'shoe', 'rock', 'freaking', 'rightthe', 'felt', 'took', 'contain', 'enough', 'continue', 'begin', 'killer', 'miss', 'trimmed', 'worlds', 'world', 'awkwardly', 'gross', 'filet', 'pop', 'prepared', 'boys', 'really', 'bisque', 'management', 'problem', 'bone', 'choose', 'highlights', 'dog', 'sub', 'plethora', 'bland', 'lovely', 'priced', 'many', 'zero', 'cheated', 'dine', 'visited', 'total', 'mgm', 'latte', 'impressive', 'leather', 'customer', 'word', 'tasteless', 'receives', 'slices', 'smooth', 'hottest', 'man', 'theyre', 'group', 'lacked', 'listed', 'italian', 'put', 'people', 'course', 'untoasted', 'ensued', 'cocktail', 'missed', 'underwhelming', 'pleased', 'either', 'vinegrette', 'circumstances', 'ethic', 'rude', 'legit', 'degree', 'appetite', 'boyfriend', 'tender', 'outta', 'milk', 'fish', 'poor', 'pured', 'bathrooms', 'shoots', 'dedicated', 'paying', 'funny', 'meeverything', 'affordable', 'beautifully', 'opened', 'deep', 'chef', 'moist', 'mebunch', 'chickens', 'chow', 'nothing', 'daughter', 'anymore', 'went', 'unreal', 'recommending', 'living', 'elegantly', 'personable', 'workers', 'edinburgh', 'going', 'lox', 'mostly', 'exquisite', 'rings', 'tuna', 'first', 'truffle', 'recommend', 'liked', 'reservation', 'sour', 'fell', 'recommended', 'dishes', 'tartar', 'asking', 'owned', 'raspberry', 'giant', 'got', 'frozen', 'meal', 'comfortable', 'spots', 'imagination', 'send', 'bar', 'things', 'dinner', 'legs', 'extra', 'area', 'thanks', 'late', 'thoroughly', 'kitchen', 'offered', 'petty', 'elk', 'loving', 'pancake', 'hopefully', 'extremely', 'bloodiest', 'expected', 'cranberrymmmm', 'unprofessional', 'wines', 'peas', 'swung', 'palate', 'longer', 'spotty', 'leftover', 'dessert', 'found', 'driest', 'ratio', 'take', 'poorly', 'disgusted', 'event', 'blow', 'revisiting', 'sweet', 'flat', 'times', 'caught', 'six', 'memory', 'call', 'said', 'decide', 'cramming', 'customers', 'works', 'mouths', 'quantity', 'soooooo', 'togo', 'needless', 'filling', 'five', 'famous', 'missing', 'maria', 'salmon', 'order', 'similar', 'tonight', 'space', 'excellent', 'sucked', 'rubber', 'besides', 'fear', 'serivce', 'saganaki', 'mean', 'crowds', 'eaten', 'fluffy', 'eew', 'prices', 'hope', 'perfection', 'weekend', 'came', 'cavier', 'perfect', 'privileged', 'trips', 'apparently', 'ball', 'ground', 'rich', 'inconsiderate', 'foodand', 'cannot', 'perhaps', 'portion', 'stepped', 'lordy', 'caesar', 'mushroom', 'beensteppedinandtrackedeverywhere', 'sauce', 'assure', 'transcendant', 'tongue', 'truly', 'day', 'expanded', 'outdoor', 'imaginative', 'shop', 'hankering', 'law', 'venue', 'cow', 'correction', 'bowl', 'boy', 'hard', 'concept', 'lil', 'lost', 'obviously', 'pepper', 'readers', 'sewer', 'outrageously', 'attention', 'half', 'tried', 'lacking', 'iced', 'entrees', 'hair', 'minutes', 'scallop', 'ten', 'powdered', 'bottom', 'greeted', 'describing', 'otto', 'college', 'nobu', 'authentic', 'ambience', 'right', 'dressing', 'one', 'gyros', 'oh', 'kind', 'lot', 'pineapple', 'plain', 'completely', 'restaraunt', 'blame', 'lady', 'white', 'amount', 'meet', 'flavors', 'wedges', 'happened', 'smoothies', 'hearts', 'decor', 'shocked', 'nearly', 'want', 'elsewhere', 'cheesecurds', 'server', 'indicate', 'public', 'skimp', 'mall', 'wrapped', 'han', 'best', 'outside', 'venture', 'lived', 'disappointing', 'wish', 'specialand', 'quick', 'honestly', 'stood', 'caring', 'hilarious', 'cause', 'banana', 'gave', 'roast', 'spice', 'drive', 'lovers', 'containers', 'overhip', 'greek', 'refill', 'christmas', 'uploaded', 'petrified', 'tailored', 'money', 'slow', 'fare', 'cibo', 'disbelief', 'done', 'trying', 'bussell', 'proven', 'ahead', 'lukewarm', 'brother', 'little', 'promptly', 'connoisseur', 'sunday', 'free', 'climbing', 'friends', 'live', 'screams', 'flavorless', 'boba', 'tacos', 'dispenser', 'multigrain', 'mouthful', 'sucker', 'sprouts', 'foodservice', 'know', 'glad', 'baseball', 'wouldve', 'pictures', 'sense', 'unbelievable', 'companions', 'cape', 'sause', 'rolled', 'make', 'lover', 'box', 'mmmm', 'bill', 'fireball', 'dead', 'medium', 'wave', 'entire', 'mango', 'noca', 'street', 'covered', 'monster', 'colder', 'macarons', 'play', 'hands', 'something', 'combos', 'exceptional', 'basically', 'profiterole', 'cheap', 'drag', 'sandwich', 'ironman', 'crispy', 'tvs', 'none', 'discount', 'phoenix', 'anyone', 'speedy', 'tepid', 'serving', 'amazing', 'dirt', 'wire', 'drunk', 'indoor', 'shots', 'imagined', 'eyed', 'horrible', 'rudely', 'approval', 'absolutely', 'las', 'mozzarella', 'bite', 'boiled', 'veal', 'light', 'hoping', 'nutshell', 'airline', 'behind', 'strange', 'town', 'visit', 'chips', 'actually', 'barely', 'terrible', 'offers', 'couldnt', 'fried', 'hip', 'topic', 'inviting', 'complaints', 'proclaimed', 'owners', 'strings', 'app', 'crusty', 'moods', 'puree', 'bug', 'chipotle', 'despite', 'dough', 'dennys', 'lemon', 'hello', 'original', 'happy', 'worker', 'may', 'crust', 'yum', 'given', 'juries', 'pleasure', 'cheek', 'item', 'opportunity', 'afternoon', 'raving', 'not', 'chefs', 'somewhat', 'getting', 'tasty', 'wont', 'folks', 'seat', 'fucking', 'largely', 'means', 'delicate', 'spinach', 'bellies', 'workingeating', 'concern', 'disagree', 'wed', 'spicier', 'salads', 'customize', 'bye', 'marrow', 'thinly', 'martini', 'allergy', 'beateous', 'providing', 'dry', 'hes', 'ravoli', 'unwrapped', 'del', 'super', 'sharply', 'meals', 'helpful', 'might', 'judge', 'lighter', 'bloddy', 'tip', 'host', 'cant', 'ignored', 'rancheros', 'muffin', 'hummus', 'uninspired', 'occasional', 'pricey', 'gets', 'highquality', 'conclusion', 'stuff', 'place', 'modern', 'waited', 'impressed', 'smells', 'succulent', 'beautiful', 'gc', 'yellow', 'ingredients', 'less', 'shower', 'mind', 'bunch', 'unwelcome', 'gratitude', 'room', 'restaurant', 'arriving', 'usual', 'seemed', 'try', 'moms', 'way', 'seating', 'including', 'interesting', 'could', 'tummy', 'happier', 'part', 'reasons', 'prime', 'wouldnt', 'ever', 'level', 'cashew', 'ill', 'thus', 'look', 'tiny', 'caballeros', 'soi', 'warmer', 'playing', 'coffee', 'plater', 'brick', 'risotto', 'jeff', 'mess', 'review', 'couple', 'vibe', 'hawaiian', 'dipping', 'fat', 'greasy', 'honeslty', 'callings', 'break', 'dressed', 'enjoyable', 'building', 'handled', 'chicken', 'atrocious', 'attached', 'mojitos', 'fast', 'wasted', 'replenished', 'attentive', 'onion', 'reminded', 'dish', 'disappointed', 'struggle', 'cotta', 'extraordinary', 'come', 'bouchon', 'mayo', 'places', 'pale', 'dusted', 'palm', 'neither', 'arent', 'sore', 'combination', 'expertconnisseur', 'sucks', 'middle', 'hated', 'bachi', 'services', 'options', 'san', 'neighborhood', 'lightly', 'told', 'greatest', 'pink', 'shopping', 'dinners', 'needed', 'grease', 'date', 'taco', 'forth', 'nude', 'craving', 'healthy', 'unbelievably', 'breakfastlunch', 'whole', 'hand', 'nicest', 'sergeant', 'def', 'everyone', 'oven', 'ridiculous', 'brings', 'brisket', 'crazy', 'forward', 'recommendation', 'quickly', 'mandalay', 'rating', 'capers', 'waiting', 'toro', 'yeah', 'grab', 'asked', 'simply', 'provided', 'fresh', 'profound', 'coming', 'crostini', 'gotten', 'appetizers', 'traditional', 'ths', 'rapidly', 'blows', 'gourmet', 'become', 'sides', 'mouth', 'loves', 'burgers', 'service', 'beef', 'freezing', 'regularly', 'ice', 'exceeding', 'ache', 'veggitarian', 'youll', 'consider', 'halibut', 'bus', 'booksomethats', 'feeling', 'empty', 'changing', 'cartel', 'around', 'blanket', 'multiple', 'costcos', 'foot', 'pile', 'absolute', 'almost', 'beers', 'crisp', 'wienerschnitzel', 'otherwise', 'mixed', 'color', 'metro', 'unexperienced', 'running', 'scene', 'standard', 'number', 'deeply', 'jalapeno', 'beans', 'touched', 'door', 'beat', 'coziness', 'yellowtail', 'douchey', 'etc', 'mirage', 'market', 'delish', 'mom', 'hours', 'bakery', 'daily', 'fabulous', 'arepas', 'steve', 'grilled', 'roll', 'unless', 'joeys', 'guess', 'eel', 'sadly', 'delicious', 'voted', 'charming', 'watch', 'drinking', 'camelback', 'takeout', 'hits', 'nonfancy', 'loyal', 'bathroom', 'baby', 'son', 'tragedy', 'girlfriends', 'doughy', 'job', 'papers', 'spends', 'buffets', 'updatewent', 'picture', 'head', 'cashier', 'enjoyed', 'top', 'crema', 'experiencing', 'couples', 'help', 'last', 'ninja', 'tables', 'itdefinitely', 'great', 'sushi', 'needs', 'blandest', 'polite', 'night', 'jenni', 'probably', 'shirt', 'next', 'meatloaf', 'dylan', 'sexy', 'downside', 'cost', 'crystals', 'relaxed', 'damn', 'disrespected', 'prefer', 'wontons', 'jewel', 'gas', 'classywarm', 'received', 'better', 'duck', 'angry', 'reduction', 'trippy', 'godfathers', 'stir', 'surprise', 'heimer', 'totally', 'lawyers', 'attack', 'spices', 'consistent', 'kabuki', 'chickenwith', 'mexican', 'perfectly', 'haunt', 'bellagio', 'towards', 'website', 'go', 'impeccable', 'ala', 'milkshake', 'wine', 'suggestions', 'big', 'single', 'seasoning', 'vodka', 'pears', 'watered', 'treated', 'calligraphy', 'margaritas', 'case', 'walked', 'generic', 'watched', 'especially', 'anyways', 'efficient', 'yourself', 'north', 'star', 'subpar', 'downtown', 'tempi', 'quaint', 'disappointment', 'reasonable', 'awful', 'seal', 'ranch', 'waitress', 'cut', 'fo', 'reheated', 'hostess', 'prettyoff', 'phenomenal', 'coconut', 'charge', 'care', 'cute', 'fantastic', 'valley', 'disaster', 'ive', 'regular', 'rotating', 'thats', 'sooooo', 'southwest', 'insulted', 'hut', 'surprised', 'noncustomer', 'point', 'complain', 'devine', 'descriptions', 'die', 'flower', 'mile', 'salt', 'sals', 'rinse', 'coupons', 'never', 'still', 'yama', 'salty', 'letting', 'bring', 'loudly', 'cream', 'inhouse', 'weird', 'find', 'another', 'corporation', 'name', 'others', 'stars', 'piece', 'words', 'velvet', 'music', 'sticks', 'smaller', 'grocery', 'potatoes', 'ganoush', 'dark', 'year', 'officially', 'verge', 'soundtrack', 'flavourful', 'old', 'pros', 'close', 'venturing', 'screwed', 'manager', 'creamy', 'heart', 'silently', 'roasted', 'passed', 'shawarrrrrrma', 'juice', 'flavorful', 'bitches', 'returned', 'wonderful', 'overwhelmed', 'fridays', 'tough', 'grandmother', 'occasions', 'crawfish', 'chains', 'get', 'handmade', 'overhaul', 'unfortunately', 'rowdy', 'fun', 'atmosphere', 'stopped', 'delightful', 'correct', 'buffet', 'closed', 'pork', 'goat', 'highlighted', 'mesquite', 'noodles', 'bank', 'mid', 'chewy', 'steakhouse', 'inflate', 'water', 'shouldnt', 'making', 'sample', 'beauty', 'inch', 'looks', 'trip', 'join', 'pepperand', 'relax', 'instantly', 'nachos', 'served', 'foods', 'much', 'possible', 'cod', 'sporting', 'huevos', 'solidify', 'green', 'sangria', 'fruit', 'preparing', 'opposed', 'station', 'interior', 'google', 'jamaican', 'whenever', 'serves', 'provides', 'however', 'bartenders', 'writing', 'negligent', 'extensive', 'paper', 'based', 'price', 'properly', 'youd', 'postinos', 'excalibur', 'cook', 'reviews', 'weekly', 'melt', 'enjoy', 'blue', 'hadnt', 'fly', 'con', 'smeared', 'tomato', 'definately', 'friendly', 'also', 'pulled', 'employee', 'fav', 'professional', 'awkward', 'sick', 'auju', 'today', 'relationship', 'hospitality', 'serve', 'nut', 'nigiri', 'signs', 'yay', 'flop', 'sorry', 'fact', 'definitely', 'chai', 'operation', 'fianc', 'putting', 'ri', 'worries', 'boot', 'pricing', 'dates', 'table', 'ok', 'person', 'ramseys', 'panna', 'bacon', 'olives', 'outshining', 'liking', 'meat', 'bargain', 'fan', 'lastly', 'rate', 'plus', 'strike', 'sound', 'bit', 'nyc', 'sitting', 'yukon', 'glance', 'average', 'philadelphia', 'side', 'wife', 'bits', 'wall', 'class', 'biggest', 'appealing', 'talk', 'cuisine', 'shrimp', 'think', 'egg', 'setting', 'bother', 'short', 'penne', 'inside', 'real', 'parties', 'airport', 'love', 'pay', 'large', 'theft', 'disgrace', 'brunch', 'note', 'ms', 'certainly', 'ordered', 'plate', 'attitudes', 'high', 'lowkey', 'sauces', 'thought', 'deal', 'massive', 'stop', 'wildly', 'stretch', 'menus', 'loved', 'well', 'fs', 'eve', 'sliced', 'wait', 'paid', 'pub', 'generous', 'chinese', 'bloody', 'ladies', 'judging', 'omg', 'baklava', 'corn', 'muststop', 'fries', 'prompt', 'apologize', 'unsatisfying', 'spring', 'awesome', 'block', 'seasonal', 'thin', 'believe', 'redeeming', 'thru', 'set', 'blown', 'dos', 'herewhat', 'charged', 'unique', 'quite', 'stomach', 'older', 'handed', 'greedy', 'warm', 'hole', 'fuzzy', 'waaaaaayyyyyyyyyy', 'paradise', 'sitdown', 'strawberry', 'acknowledged', 'overwhelm', 'vegetables', 'apology', 'accordingly', 'club', 'disgraceful', 'likes', 'least', 'az', 'show', 'burned', 'sever', 'life', 'constructed', 'main', 'songs', 'avocado', 'stayed', 'vegasthere', 'witnessed', 'appetizer', 'boring', 'firehouse', 'humiliated', 'nay', 'pizzas', 'gyro', 'drenched', 'batch', 'mortified', 'reminds', 'long', 'summary', 'mediocre', 'used', 'belly', 'hot', 'gem', 'sunglasses', 'wings', 'biscuit', 'perpared', 'business', 'worst', 'hour', 'english', 'francisco', 'fondue', 'sure', 'scottsdale', 'imagine', 'returning', 'whether', 'choux', 'bucks', 'feels', 'dining', 'outstanding', 'fry', 'frustrated', 'beer', 'rated', 'delivery', 'week', 'small', 'carlys', 'brushfire', 'frenchman', 'combo', 'violinists', 'rave', 'accident', 'stinks', 'highlight', 'pasta', 'jerk', 'hasnt', 'gold', 'plantains', 'grill', 'solid', 'low', 'smashburger', 'drinks', 'walls', 'gooodd', 'desserts', 'texture', 'vain', 'teamwork', 'biscuits', 'expensive', 'sugar', 'selections', 'drastically', 'winner', 'good', 'sad', 'step', 'patron', 'gloveseverything', 'employees', 'seafood', 'saving', 'maintaining', 'soooo', 'looked', 'disapppointment', 'tops', 'evening', 'figured', 'particular', 'servicecheck', 'events', 'selection', 'kept', 'bay', 'pancakes', 'performed', 'gringos', 'familiar', 'red', 'lb', 'inspired', 'see', 'hate', 'industry', 'reviewing', 'caf', 'fail', 'classics', 'mushrooms', 'joint', 'rarely', 'realized', 'doubt', 'immediately', 'heard', 'homemade', 'orders', 'casino', 'pastry', 'anything', 'charcoal', 'end', 'pace', 'sat', 'pine', 'ignore', 'aria', 'years', 'eat', 'nice', 'ask', 'wash', 'smoke', 'cakes', 'food', 'thing', 'spot', 'bird', 'vanilla', 'talking', 'several', 'spend', 'tapas', 'decorated', 'overpriced', 'ha', 'breaks', 'appalling', 'rest', 'curry', 'prepare', 'tater', 'dripping', 'toasted', 'together', 'isnt', 'weak', 'hamburger', 'wanted', 'wasting', 'guests', 'meatballs', 'insanely', 'ventilation', 'cafe', 'wayyy', 'someone', 'fails', 'pats', 'pizza', 'complete', 'grow', 'stupid', 'showed', 'mac', 'cart', 'luke', 'sign', 'hella', 'no', 'mains', 'satifying', 'fair', 'handling', 'pneumatic', 'menu', 'calamari', 'front', 'andddd', 'glass', 'without', 'managed', 'pastas', 'promise', 'wide', 'flavor', 'sun', 'instead', 'meats', 'joke', 'mary', 'vinaigrette', 'suck', 'contained', 'else', 'list', 'pissd', 'downright', 'recent', 'itfriendly', 'version', 'bigger', 'compliments', 'peach', 'mention', 'nan', 'refreshing', 'wrap', 'weve', 'restaurants', 'tenders', 'suggest', 'overcooked', 'limited', 'soggy', 'furthermore', 'yelpers', 'reason', 'convenient', 'hi', 'started', 'fairly', 'pecan', 'japanese', 'flair', 'kiddos', 'struck', 'chocolate', 'nargile', 'im', 'later', 'soup', 'poop', 'third', 'bare', 'desired', 'seated', 'refused', 'soups', 'grossed', 'seriously', 'shops', 'hopes', 'gluten', 'easily', 'dreamed', 'power', 'worse', 'peanut', 'two', 'spaghetti', 'hooked', 'holiday', 'enthusiastic', 'publicly', 'magazine', 'located', 'caterpillar', 'pho', 'expectations', 'home', 'tell', 'youre', 'par', 'anyway', 'summarize', 'chipolte', 'magic', 'favorite', 'neat', 'would', 'please', 'although', 'edible', 'honor', 'deliciously', 'array', 'gordon', 'servers', 'far', 'veganveggie', 'fillet', 'ribeye', 'eggs', 'pan', 'waiter', 'decent', 'positive', 'qualified', 'salad', 'baba', 'subway', 'delights', 'starving', 'forgetting', 'always', 'huge', 'dirty', 'round', 'saying', 'eggplant', 'diverse', 'ways', 'thrilled', 'letdown', 'focused', 'common', 'reviewer', 'four', 'disgusting', 'lots', 'yet', 'though', 'busy', 'bread', 'mussels', 'cooking', 'drink', 'steiners', 'claimed', 'naan', 'falling', 'wound', 'oysters', 'patty', 'teeth', 'exactly', 'guacamole', 'guest', 'difference', 'reading', 'family', 'indian', 'voodoo', 'joy', 'werent', 'across', 'thai', 'say', 'kids', 'presentation', 'away', 'final', 'havent', 'friend', 'waste', 'dont', 'work', 'helped', 'incredible', 'slaw', 'bean', 'tea', 'madhouse', 'min', 'decision', 'binge', 'accountant', 'full', 'give', 'hunan', 'ayce', 'special', 'every', 'placed', 'thumbs', 'staff', 'cocktails', 'off', 'sashimi', 'covers', 'crab', 'undercooked', 'informative', 'requested', 'rib', 'butter', 'wants', 'cannoli', 'quit', 'looking', 'let', 'second', 'idea', 'disappoint', 'greens', 'back', 'section', 'upgrading', 'deuchebaggery', 'didnt', 'pumpkin', 'hungry', 'arrives', 'satisfied', 'worstannoying', 'breeze', 'sandwiches', 'need', 'carpaccio', 'tots', 'wagyu', 'fella', 'effort', 'bagels', 'personally'}\n"
          ]
        }
      ]
    },
    {
      "cell_type": "code",
      "source": [
        "# Totalidad de tokens únicos\n",
        "\n",
        "quantity = len(tokens_diferentes)\n",
        "\n",
        "print(f\"Se encontraron {quantity} tokens únicos\")"
      ],
      "metadata": {
        "colab": {
          "base_uri": "https://localhost:8080/"
        },
        "id": "Odv0-ophqdq1",
        "outputId": "763c54ce-a55b-436c-a68d-3991c96b3500"
      },
      "execution_count": 116,
      "outputs": [
        {
          "output_type": "stream",
          "name": "stdout",
          "text": [
            "Se encontraron 1941 tokens únicos\n"
          ]
        }
      ]
    },
    {
      "cell_type": "markdown",
      "source": [
        "*   **Comentarios**\n",
        "\n",
        "Incluye finalmente tus comentarios de la actividad."
      ],
      "metadata": {
        "id": "NDbKkuxRbLoX"
      }
    },
    {
      "cell_type": "markdown",
      "source": [
        "Esta actividad ha sido muy relevante porque me ha ayudado a entender el como utilizar patrones de busqueda regex para encontrar ciertos elementos dentro de un texto. Sin lugar a dudas, hay que entender a detalle el uso de cada una de los metacaracteres para poder hacer busquedas de manera rápida y también para hacer un proceso de limpieza correcto."
      ],
      "metadata": {
        "id": "o7fzbvqVbUGr"
      }
    },
    {
      "cell_type": "markdown",
      "source": [
        "##**Fin de la Actividad de la semana 2.**"
      ],
      "metadata": {
        "id": "PHaKw_6Ldbaf"
      }
    }
  ]
}